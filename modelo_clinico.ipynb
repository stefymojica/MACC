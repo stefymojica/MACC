{
  "nbformat": 4,
  "nbformat_minor": 0,
  "metadata": {
    "colab": {
      "provenance": [],
      "authorship_tag": "ABX9TyPWzYwgbwGwXV9HfFRyazvC",
      "include_colab_link": true
    },
    "kernelspec": {
      "name": "python3",
      "display_name": "Python 3"
    },
    "language_info": {
      "name": "python"
    }
  },
  "cells": [
    {
      "cell_type": "markdown",
      "metadata": {
        "id": "view-in-github",
        "colab_type": "text"
      },
      "source": [
        "<a href=\"https://colab.research.google.com/github/stefymojica/MACC/blob/main/modelo_clinico.ipynb\" target=\"_parent\"><img src=\"https://colab.research.google.com/assets/colab-badge.svg\" alt=\"Open In Colab\"/></a>"
      ]
    },
    {
      "cell_type": "markdown",
      "source": [
        "# Agente para la optimizacion de recursos en un modelo clinico\n",
        "## Matematicas aplicadas y ciencias de la computacion\n",
        "## Estudiante : Stefany Paola Mojica Melo"
      ],
      "metadata": {
        "id": "cDN_RgjbWIb7"
      }
    },
    {
      "cell_type": "markdown",
      "source": [
        "## Contextualizacion\n",
        "\n",
        "Este agente simula una clinica privada de alta complejidad en horas de la tarde/noche, donde se concentra el mayor flujo de pacientes y la carga asistencial critica\n",
        "\n",
        "- 1 tick corresponde 1 minutos, 20 ticks corresponde a 20 minutos y asi sucesivamente\n",
        "- Hay 3 agentes:\n",
        "  - pacientes\n",
        "  - medicos\n",
        "  - triaje\n",
        "- Hay un modelo\n",
        "  - Clinica donde los agentes van a interactuar\n",
        "- En el triaje atienden 2 doctores y aproximadamente se demoran 10 minutos atendiendo a los pacientes\n",
        "- Hay pacientes de manera aleatoria que llegan en nivel 5 y los envian nuevamente a sus casas\n",
        "- Los pacientes llegan y el triaje asigna el nivel de riesgo dependiendo de la situacion del paciente\n",
        "- A la clinica llegan cada 1 hora  entre 15 a 22 pacientes\n",
        "- Los doctores tienen un tiempo especifico que se toman para tratar a los pacientes de acuerdo a su nivel de criticidad que le haya asignado el triaje\n",
        "- los pacientes llegan y el triaje les asigana un nivel de criticidad son 5 niveles.\n",
        "  - nivel 1 - situacion de riesgo vital, requiere accion inmediata\n",
        "    - Minutos de atencion: 30 minutos maximo\n",
        "  - nivel 2 - Emergencia. requiere atencion en un tiempo maximo de 30 minutos\n",
        "    - Minutos de atencion:\n",
        "  - nivel 3 - Urgencia. se debe atender en un tiempo no mayor a 30 minutos\n",
        "    - Minutos de atencion:\n",
        "  - nivel 4 - urgencia menor. Puede esperar hasta 120 minutos\n",
        "    - Minutos de atencion:\n",
        "  - nivel 5 - sin urgencia. puede esperar hasta 180 minutos\n",
        "    - Minutos de atencion:"
      ],
      "metadata": {
        "id": "VjACh3IjPKNT"
      }
    },
    {
      "cell_type": "markdown",
      "source": [
        "## Instalar librerias"
      ],
      "metadata": {
        "id": "stctzpQpWofp"
      }
    },
    {
      "cell_type": "code",
      "source": [
        "%pip install mesa"
      ],
      "metadata": {
        "colab": {
          "base_uri": "https://localhost:8080/"
        },
        "id": "HforbzMnU5Pk",
        "outputId": "07c87223-f652-475f-94ce-f8e0e4df0839"
      },
      "execution_count": 1,
      "outputs": [
        {
          "output_type": "stream",
          "name": "stdout",
          "text": [
            "Collecting mesa\n",
            "  Downloading mesa-3.3.0-py3-none-any.whl.metadata (11 kB)\n",
            "Requirement already satisfied: numpy in /usr/local/lib/python3.12/dist-packages (from mesa) (2.0.2)\n",
            "Requirement already satisfied: pandas in /usr/local/lib/python3.12/dist-packages (from mesa) (2.2.2)\n",
            "Requirement already satisfied: scipy in /usr/local/lib/python3.12/dist-packages (from mesa) (1.16.2)\n",
            "Requirement already satisfied: tqdm in /usr/local/lib/python3.12/dist-packages (from mesa) (4.67.1)\n",
            "Requirement already satisfied: python-dateutil>=2.8.2 in /usr/local/lib/python3.12/dist-packages (from pandas->mesa) (2.9.0.post0)\n",
            "Requirement already satisfied: pytz>=2020.1 in /usr/local/lib/python3.12/dist-packages (from pandas->mesa) (2025.2)\n",
            "Requirement already satisfied: tzdata>=2022.7 in /usr/local/lib/python3.12/dist-packages (from pandas->mesa) (2025.2)\n",
            "Requirement already satisfied: six>=1.5 in /usr/local/lib/python3.12/dist-packages (from python-dateutil>=2.8.2->pandas->mesa) (1.17.0)\n",
            "Downloading mesa-3.3.0-py3-none-any.whl (239 kB)\n",
            "\u001b[2K   \u001b[90m━━━━━━━━━━━━━━━━━━━━━━━━━━━━━━━━━━━━━━━━\u001b[0m \u001b[32m239.6/239.6 kB\u001b[0m \u001b[31m10.1 MB/s\u001b[0m eta \u001b[36m0:00:00\u001b[0m\n",
            "\u001b[?25hInstalling collected packages: mesa\n",
            "Successfully installed mesa-3.3.0\n"
          ]
        }
      ]
    },
    {
      "cell_type": "code",
      "source": [
        "import mesa\n",
        "print(\"Versión de Mesa instalada:\", mesa.__version__)"
      ],
      "metadata": {
        "colab": {
          "base_uri": "https://localhost:8080/"
        },
        "id": "V0OkDsFZaw9D",
        "outputId": "8c625895-22ee-41fa-b88b-7f26ea020c8e"
      },
      "execution_count": 2,
      "outputs": [
        {
          "output_type": "stream",
          "name": "stdout",
          "text": [
            "Versión de Mesa instalada: 3.3.0\n"
          ]
        }
      ]
    },
    {
      "cell_type": "code",
      "execution_count": 3,
      "metadata": {
        "id": "mwOvR8X5MloB"
      },
      "outputs": [],
      "source": [
        "from mesa import Agent, Model\n",
        "from mesa.space import MultiGrid\n",
        "from mesa.datacollection import DataCollector\n",
        "import random, heapq\n",
        "import statistics\n"
      ]
    },
    {
      "cell_type": "markdown",
      "source": [
        "## Creacion de Agentes y Modelo"
      ],
      "metadata": {
        "id": "0Yzh0FNcWtBf"
      }
    },
    {
      "cell_type": "code",
      "source": [
        "class SchedulerManual:\n",
        "    def __init__(self, model):\n",
        "        self.model = model\n",
        "        self.agents = []\n",
        "\n",
        "    def add(self, agent):\n",
        "        self.agents.append(agent)\n",
        "\n",
        "    def step(self):\n",
        "        random.shuffle(self.agents)\n",
        "        for agent in self.agents:\n",
        "            agent.step()\n",
        "\n",
        "class Paciente(Agent):\n",
        "    def __init__(self, unique_id, model):\n",
        "        super().__init__(model)\n",
        "        self.unique_id = unique_id\n",
        "        self.prioridad = None\n",
        "        self.atendido = False\n",
        "        self.llegada_tick = model.tick\n",
        "        self.inicio_atencion_tick = None\n",
        "        self.fin_atencion_tick = None\n",
        "\n",
        "    def step(self):\n",
        "        pass\n",
        "\n",
        "class Triaje(Agent):\n",
        "    def __init__(self, unique_id, model):\n",
        "        super().__init__(model)\n",
        "        self.unique_id = unique_id\n",
        "        self.ocupado = False\n",
        "        self.paciente_actual = None\n",
        "        self.tiempo_restante = 0\n",
        "\n",
        "    def step(self):\n",
        "        if self.ocupado:\n",
        "            self.tiempo_restante -= 1\n",
        "            if self.tiempo_restante <= 0:\n",
        "                self.asignar_prioridad(self.paciente_actual)\n",
        "                self.ocupado = False\n",
        "                self.paciente_actual = None\n",
        "            return\n",
        "\n",
        "        # Si está libre, atiende al siguiente paciente\n",
        "        if len(self.model.pacientes_sin_triaje) > 0:\n",
        "            paciente = self.model.pacientes_sin_triaje.pop(0)\n",
        "            self.atender(paciente)\n",
        "\n",
        "    def atender(self, paciente):\n",
        "        self.ocupado = True\n",
        "        self.paciente_actual = paciente\n",
        "        # Tiempo entre 5 y 10 minutos\n",
        "        self.tiempo_restante = random.randint(5, 10)\n",
        "\n",
        "    def asignar_prioridad(self, paciente):\n",
        "        r = random.random()\n",
        "        if   r < 0.05: paciente.prioridad = 1\n",
        "        elif r < 0.15: paciente.prioridad = 2\n",
        "        elif r < 0.40: paciente.prioridad = 3\n",
        "        elif r < 0.20: paciente.prioridad = 4\n",
        "        else:          paciente.prioridad = 5\n",
        "\n",
        "        heapq.heappush(self.model.cola_prioridad_triaje, (paciente.prioridad, paciente.unique_id, paciente))\n",
        "\n",
        "class Doctor(Agent):\n",
        "    def __init__(self, unique_id, model):\n",
        "        super().__init__(model)\n",
        "        self.unique_id = unique_id\n",
        "        self.ocupado = False\n",
        "        self.paciente_actual = None\n",
        "        self.tiempo_restante = 0\n",
        "\n",
        "    def step(self):\n",
        "        if self.ocupado:\n",
        "            self.tiempo_restante -= 1\n",
        "            if self.tiempo_restante <= 0:\n",
        "                self.ocupado = False\n",
        "                self.paciente_actual.fin_atencion_tick = self.model.tick\n",
        "                self.paciente_actual = None\n",
        "            return\n",
        "\n",
        "        if len(self.model.cola_prioridad_triaje) > 0:\n",
        "            _, _, paciente = heapq.heappop(self.model.cola_prioridad_triaje)\n",
        "            self.atender(paciente)\n",
        "\n",
        "    def atender(self, paciente):\n",
        "        self.ocupado = True\n",
        "        self.paciente_actual = paciente\n",
        "        paciente.atendido = True\n",
        "        paciente.inicio_atencion_tick = self.model.tick\n",
        "        self.model.pacientes_atendidos += 1\n",
        "\n",
        "        # Duración de atención según prioridad\n",
        "        tiempo_por_prioridad = {1: 20, 2: 15, 3: 12, 4: 10, 5: 8}\n",
        "        self.tiempo_restante = tiempo_por_prioridad[paciente.prioridad]\n",
        "\n",
        "class Clinica(Model):\n",
        "    def __init__(self, n_doctores, n_triages=2, semilla=42):\n",
        "        super().__init__()\n",
        "        random.seed(semilla)\n",
        "\n",
        "        self.n_doctores = n_doctores\n",
        "        self.n_triages = n_triages\n",
        "        self.pacientes_sin_triaje = []\n",
        "        self.cola_prioridad_triaje = []\n",
        "        self.pacientes_atendidos = 0\n",
        "        self.todos_pacientes = []\n",
        "        self.tick = 0\n",
        "\n",
        "        self.schedule = SchedulerManual(self)\n",
        "        # se crean los doctores\n",
        "        for d in range(n_doctores):\n",
        "            self.schedule.add(Doctor(f\"D{d+1}\", self))\n",
        "\n",
        "        # se crean los doctores del triage\n",
        "        self.triages = []\n",
        "        for t in range(n_triages):\n",
        "            tr = Triaje(f\"T{t+1}\", self)\n",
        "            self.triages.append(tr)\n",
        "            self.schedule.add(tr)\n",
        "\n",
        "    def _llegada_ola(self):\n",
        "        if self.tick % 60 == 0:\n",
        "            nuevos = random.randint(15, 22)\n",
        "            for i in range(nuevos):\n",
        "                pid = f\"P{self.tick}_{i}\"\n",
        "                p = Paciente(pid, self)\n",
        "                self.schedule.add(p)\n",
        "                self.pacientes_sin_triaje.append(p)\n",
        "                self.todos_pacientes.append(p)\n",
        "\n",
        "    def step(self):\n",
        "        self._llegada_ola()\n",
        "        self.schedule.step()\n",
        "        self.tick += 1\n",
        "\n",
        "    def mostrar_estado(self):\n",
        "        h = self.tick // 60\n",
        "        m = self.tick % 60\n",
        "        print(f\"\\n===== MINUTO {self.tick} ({h:02d}:{m:02d}) =====\")\n",
        "\n",
        "        # Mostrar cola de pacientes ya clasificados (esperando doctor)\n",
        "        if len(self.cola_prioridad_triaje) == 0:\n",
        "            print(\"🟢 Cola de espera para doctor: VACÍA\")\n",
        "        else:\n",
        "            cola_legible = [(prio, pac.unique_id) for (prio, _, pac) in self.cola_prioridad_triaje]\n",
        "            print(\"🟡 Pacientes esperando doctor (prioridad, id):\", cola_legible)\n",
        "\n",
        "        # Mostrar estado de triagistas\n",
        "        for tr in self.triages:\n",
        "            if tr.ocupado:\n",
        "                print(f\"🏥 Triaje {tr.unique_id} evaluando a {tr.paciente_actual.unique_id} \"\n",
        "                      f\"(restan {tr.tiempo_restante} min)\")\n",
        "            else:\n",
        "                print(f\"✅ Triaje {tr.unique_id} está libre\")\n",
        "\n",
        "        # Mostrar estado de doctores\n",
        "        for ag in self.schedule.agents:\n",
        "            if isinstance(ag, Doctor):\n",
        "                if ag.ocupado:\n",
        "                    print(f\"👨‍⚕️ Doctor {ag.unique_id} atendiendo a {ag.paciente_actual.unique_id} \"\n",
        "                          f\"(restan {ag.tiempo_restante} min)\")\n",
        "                else:\n",
        "                    print(f\"✅ Doctor {ag.unique_id} está libre\")\n",
        "\n",
        "        # NUEVAS MÉTRICAS SEPARADAS\n",
        "        pacientes_sin_triaje = len(self.pacientes_sin_triaje)\n",
        "        pacientes_en_triaje = sum(1 for t in self.triages if t.ocupado)\n",
        "        pacientes_esperando_doctor = len(self.cola_prioridad_triaje)\n",
        "        total_faltantes = pacientes_sin_triaje + pacientes_en_triaje + pacientes_esperando_doctor\n",
        "\n",
        "        print(f\"📈 Total atendidos: {self.pacientes_atendidos}\")\n",
        "        print(f\"⏳ Pacientes sin triaje: {pacientes_sin_triaje}\")\n",
        "        print(f\"🩺 Pacientes en triaje: {pacientes_en_triaje}\")\n",
        "        print(f\"💬 Pacientes esperando doctor: {pacientes_esperando_doctor}\")\n",
        "        print(f\"📊 Pacientes en proceso total: {total_faltantes}\")"
      ],
      "metadata": {
        "id": "9lFDRwX6dUBw"
      },
      "execution_count": 19,
      "outputs": []
    },
    {
      "cell_type": "code",
      "source": [
        "if __name__ == \"__main__\":\n",
        "    clinica = Clinica(n_doctores=2, n_triages=2,semilla=42)\n",
        "    for _ in range(180):\n",
        "        clinica.step()\n",
        "        if clinica.tick % 30 == 0:\n",
        "            clinica.mostrar_estado()"
      ],
      "metadata": {
        "colab": {
          "base_uri": "https://localhost:8080/"
        },
        "id": "Oz_IzCSuhERP",
        "outputId": "89b68837-d87f-4062-f0a7-a3de1770b14c"
      },
      "execution_count": 20,
      "outputs": [
        {
          "output_type": "stream",
          "name": "stdout",
          "text": [
            "\n",
            "===== MINUTO 30 (00:30) =====\n",
            "🟡 Pacientes esperando doctor (prioridad, id): [(2, 'P0_5'), (5, 'P0_3')]\n",
            "🏥 Triaje T1 evaluando a P0_6 (restan 4 min)\n",
            "🏥 Triaje T2 evaluando a P0_7 (restan 7 min)\n",
            "👨‍⚕️ Doctor D2 atendiendo a P0_2 (restan 5 min)\n",
            "👨‍⚕️ Doctor D1 atendiendo a P0_4 (restan 5 min)\n",
            "📈 Total atendidos: 4\n",
            "⏳ Pacientes sin triaje: 8\n",
            "🩺 Pacientes en triaje: 2\n",
            "💬 Pacientes esperando doctor: 2\n",
            "📊 Pacientes en proceso total: 12\n",
            "\n",
            "===== MINUTO 60 (01:00) =====\n",
            "🟡 Pacientes esperando doctor (prioridad, id): [(2, 'P0_11'), (5, 'P0_9'), (5, 'P0_8')]\n",
            "🏥 Triaje T1 evaluando a P0_13 (restan 3 min)\n",
            "🏥 Triaje T2 evaluando a P0_12 (restan 3 min)\n",
            "✅ Doctor D1 está libre\n",
            "👨‍⚕️ Doctor D2 atendiendo a P0_7 (restan 2 min)\n",
            "📈 Total atendidos: 9\n",
            "⏳ Pacientes sin triaje: 2\n",
            "🩺 Pacientes en triaje: 2\n",
            "💬 Pacientes esperando doctor: 3\n",
            "📊 Pacientes en proceso total: 7\n",
            "\n",
            "===== MINUTO 90 (01:30) =====\n",
            "🟡 Pacientes esperando doctor (prioridad, id): [(3, 'P0_15'), (3, 'P60_1'), (5, 'P0_13'), (5, 'P60_0'), (5, 'P0_9'), (5, 'P60_2')]\n",
            "🏥 Triaje T1 evaluando a P60_5 (restan 6 min)\n",
            "🏥 Triaje T2 evaluando a P60_4 (restan 4 min)\n",
            "👨‍⚕️ Doctor D2 atendiendo a P0_12 (restan 2 min)\n",
            "👨‍⚕️ Doctor D1 atendiendo a P60_3 (restan 15 min)\n",
            "📈 Total atendidos: 14\n",
            "⏳ Pacientes sin triaje: 14\n",
            "🩺 Pacientes en triaje: 2\n",
            "💬 Pacientes esperando doctor: 6\n",
            "📊 Pacientes en proceso total: 22\n",
            "\n",
            "===== MINUTO 120 (02:00) =====\n",
            "🟡 Pacientes esperando doctor (prioridad, id): [(5, 'P0_13'), (5, 'P0_9'), (5, 'P60_4'), (5, 'P60_0'), (5, 'P60_2'), (5, 'P60_7'), (5, 'P60_5'), (5, 'P60_10')]\n",
            "🏥 Triaje T1 evaluando a P60_11 (restan 3 min)\n",
            "🏥 Triaje T2 evaluando a P60_12 (restan 3 min)\n",
            "👨‍⚕️ Doctor D2 atendiendo a P60_8 (restan 11 min)\n",
            "👨‍⚕️ Doctor D1 atendiendo a P60_9 (restan 14 min)\n",
            "📈 Total atendidos: 19\n",
            "⏳ Pacientes sin triaje: 7\n",
            "🩺 Pacientes en triaje: 2\n",
            "💬 Pacientes esperando doctor: 8\n",
            "📊 Pacientes en proceso total: 17\n",
            "\n",
            "===== MINUTO 150 (02:30) =====\n",
            "🟡 Pacientes esperando doctor (prioridad, id): [(5, 'P60_0'), (5, 'P60_10'), (5, 'P60_14'), (5, 'P60_13'), (5, 'P60_12'), (5, 'P60_16'), (5, 'P60_5'), (5, 'P60_4'), (5, 'P60_7'), (5, 'P60_2'), (5, 'P60_17'), (5, 'P60_18')]\n",
            "🏥 Triaje T1 evaluando a P60_19 (restan 4 min)\n",
            "✅ Triaje T2 está libre\n",
            "👨‍⚕️ Doctor D2 atendiendo a P0_9 (restan 3 min)\n",
            "👨‍⚕️ Doctor D1 atendiendo a P60_15 (restan 14 min)\n",
            "📈 Total atendidos: 23\n",
            "⏳ Pacientes sin triaje: 21\n",
            "🩺 Pacientes en triaje: 1\n",
            "💬 Pacientes esperando doctor: 12\n",
            "📊 Pacientes en proceso total: 34\n",
            "\n",
            "===== MINUTO 180 (03:00) =====\n",
            "🟡 Pacientes esperando doctor (prioridad, id): [(5, 'P120_2'), (5, 'P60_12'), (5, 'P120_4'), (5, 'P60_13'), (5, 'P60_17'), (5, 'P60_10'), (5, 'P120_5'), (5, 'P60_4'), (5, 'P60_7'), (5, 'P60_2'), (5, 'P60_18'), (5, 'P60_16'), (5, 'P60_14'), (5, 'P60_5')]\n",
            "🏥 Triaje T1 evaluando a P120_6 (restan 7 min)\n",
            "🏥 Triaje T2 evaluando a P120_7 (restan 6 min)\n",
            "👨‍⚕️ Doctor D1 atendiendo a P120_0 (restan 6 min)\n",
            "👨‍⚕️ Doctor D2 atendiendo a P120_3 (restan 8 min)\n",
            "📈 Total atendidos: 28\n",
            "⏳ Pacientes sin triaje: 13\n",
            "🩺 Pacientes en triaje: 2\n",
            "💬 Pacientes esperando doctor: 14\n",
            "📊 Pacientes en proceso total: 29\n"
          ]
        }
      ]
    },
    {
      "cell_type": "code",
      "source": [],
      "metadata": {
        "id": "_ZL89WCFqTDw"
      },
      "execution_count": 14,
      "outputs": []
    }
  ]
}