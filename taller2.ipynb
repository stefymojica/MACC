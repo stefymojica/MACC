{
  "nbformat": 4,
  "nbformat_minor": 0,
  "metadata": {
    "colab": {
      "provenance": [],
      "authorship_tag": "ABX9TyP5PFKeSZHymxs/6JxGspPZ",
      "include_colab_link": true
    },
    "kernelspec": {
      "name": "python3",
      "display_name": "Python 3"
    },
    "language_info": {
      "name": "python"
    }
  },
  "cells": [
    {
      "cell_type": "markdown",
      "metadata": {
        "id": "view-in-github",
        "colab_type": "text"
      },
      "source": [
        "<a href=\"https://colab.research.google.com/github/stefymojica/MACC/blob/main/taller2.ipynb\" target=\"_parent\"><img src=\"https://colab.research.google.com/assets/colab-badge.svg\" alt=\"Open In Colab\"/></a>"
      ]
    },
    {
      "cell_type": "code",
      "execution_count": 1,
      "metadata": {
        "id": "7GeEKa1c_tQN"
      },
      "outputs": [],
      "source": [
        "class Car:\n",
        "  def __init__(self, make, model, year,speed):\n",
        "    self.make = make\n",
        "    self.model = model\n",
        "    self.year = year\n",
        "    self.speed = speed\n",
        "\n",
        "  def honk(Self):\n",
        "    print(\"Beep beep!\")\n",
        "\n",
        "  def accelerate(self,rate):\n",
        "    self.speed += rate\n",
        "\n",
        "  def get_speed(self):\n",
        "    return self.speed\n"
      ]
    },
    {
      "cell_type": "code",
      "source": [
        "my_car = Car(\"Toyota\", \"Camry\", 2022, 0)\n",
        "my_car.honk()\n",
        "my_car.accelerate(30)\n",
        "print(my_car.get_speed())"
      ],
      "metadata": {
        "colab": {
          "base_uri": "https://localhost:8080/"
        },
        "id": "-FDIB8x-A26h",
        "outputId": "6744a256-290d-4dea-c8fb-6f0227fb7fdc"
      },
      "execution_count": 5,
      "outputs": [
        {
          "output_type": "stream",
          "name": "stdout",
          "text": [
            "Beep beep!\n",
            "30\n"
          ]
        }
      ]
    },
    {
      "cell_type": "code",
      "source": [
        "class ElectricCar(Car):\n",
        "  def __init__(self,make,model,year,speed,battery_level:int):\n",
        "    super().__init__(make,model,year,speed)\n",
        "    self.battery_level = battery_level\n",
        "\n",
        "  def level(self):\n",
        "    print(f\"Bateria actual del coche: {self.battery_level}%\")\n",
        "  def charge(self):\n",
        "    level = self.battery_level\n",
        "    if level < 100:\n",
        "      print(\"Cargar la bateria al 100%\")\n",
        "    else:\n",
        "      print(\"Carga completa\")\n",
        "  def honk(self):\n",
        "    print(\"Whirr beep!\")\n",
        ""
      ],
      "metadata": {
        "id": "D3M43OeNA9DM"
      },
      "execution_count": 23,
      "outputs": []
    },
    {
      "cell_type": "code",
      "source": [
        "electric_car = ElectricCar(\"Tesla\",\"Model S\",2022,40,80)\n",
        "electric_car.level()\n",
        "electric_car.charge()\n",
        "electric_car.honk()"
      ],
      "metadata": {
        "colab": {
          "base_uri": "https://localhost:8080/"
        },
        "id": "QVcnXZ-GEc2N",
        "outputId": "a532f8b0-aa06-403f-f7b1-f57f0d044787"
      },
      "execution_count": 25,
      "outputs": [
        {
          "output_type": "stream",
          "name": "stdout",
          "text": [
            "Bateria actual del coche: 80%\n",
            "Cargar la bateria al 100%\n",
            "Whirr beep!\n"
          ]
        }
      ]
    },
    {
      "cell_type": "code",
      "source": [
        "class SportsCar(Car):\n",
        "  def __init__(self,make,model,year,speed,turbo_mode=False):\n",
        "    super().__init__(make,model,year,speed)\n",
        "    self.turbo_mode = turbo_mode\n",
        "\n",
        "  def activate_turbo(self):\n",
        "    self.turbo_mode = True\n",
        "    print(\"Turbo activado\")\n",
        "    self.speed *= 2\n",
        "    print(f\"Velocidad actual: {self.speed}\")\n",
        "\n",
        "  def desactivate_turbo(self):\n",
        "    self.turbo_mode = Falseoriginal\n",
        "    print(\"Turbo desactivado\")"
      ],
      "metadata": {
        "id": "8LzrHGJbFCxd"
      },
      "execution_count": 26,
      "outputs": []
    },
    {
      "cell_type": "code",
      "source": [
        "sports_car = SportsCar(\"Ferrari\",\"Model 4\", 2024, 40)\n",
        "sports_car.activate_turbo()\n",
        "sports_car.desactivate_turbo()"
      ],
      "metadata": {
        "colab": {
          "base_uri": "https://localhost:8080/"
        },
        "id": "Efam9nitK7oX",
        "outputId": "0ed9a3d5-f25f-445a-a116-a505c893e7c9"
      },
      "execution_count": 28,
      "outputs": [
        {
          "output_type": "stream",
          "name": "stdout",
          "text": [
            "Turbo activado\n",
            "Velocidad actual: 80\n",
            "Turbo desactivado\n"
          ]
        }
      ]
    },
    {
      "cell_type": "code",
      "source": [
        "class Truck(Car):\n",
        "  def __init__(self,make,model,year,speed,load_capacity):\n",
        "    super().__init__(make,model,year,speed)\n",
        "    self.load_capacity = load_capacity\n",
        "\n",
        "  def load_carga(self):\n",
        "    self.reduccion = self.load_capacity // 500\n",
        "    self.speed -= self.reduccion\n",
        "    print(f\"Se redujo la velocidad {self.reduccion} unidades, la velocidad actual es: {self.speed}\")\n",
        "\n",
        "  def unload_carga(self):\n",
        "    self.speed += self.reduccion\n",
        "    print(f\"La velocidad despues de descargar es: {self.speed}\")"
      ],
      "metadata": {
        "id": "hXa0_eT9LheD"
      },
      "execution_count": 39,
      "outputs": []
    },
    {
      "cell_type": "code",
      "source": [
        "truck = Truck(\"camion\",\"model L\",\"2024\",70,2000)\n",
        "truck.load_carga()\n",
        "truck.unload_carga()"
      ],
      "metadata": {
        "colab": {
          "base_uri": "https://localhost:8080/"
        },
        "id": "HihQ6syNSBUG",
        "outputId": "bb01fd00-f6b7-485f-b6a0-b565688f024e"
      },
      "execution_count": 40,
      "outputs": [
        {
          "output_type": "stream",
          "name": "stdout",
          "text": [
            "Se redujo la velocidad 4 unidades, la velocidad actual es: 66\n",
            "La velocidad despues de descargar es: 70\n"
          ]
        }
      ]
    },
    {
      "cell_type": "code",
      "source": [],
      "metadata": {
        "id": "U-EgLoCmSym2"
      },
      "execution_count": 40,
      "outputs": []
    }
  ]
}