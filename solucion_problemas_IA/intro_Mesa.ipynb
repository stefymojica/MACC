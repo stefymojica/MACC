{
  "cells": [
    {
      "cell_type": "markdown",
      "metadata": {
        "id": "view-in-github",
        "colab_type": "text"
      },
      "source": [
        "<a href=\"https://colab.research.google.com/github/stefymojica/MACC/blob/main/intro_Mesa.ipynb\" target=\"_parent\"><img src=\"https://colab.research.google.com/assets/colab-badge.svg\" alt=\"Open In Colab\"/></a>"
      ]
    },
    {
      "cell_type": "markdown",
      "metadata": {
        "id": "GWAnjQU_AKRm"
      },
      "source": [
        "# Tutorial introductorio"
      ]
    },
    {
      "cell_type": "markdown",
      "metadata": {
        "id": "Kw0T_-tPBmLo"
      },
      "source": [
        "**El modelo de riqueza de Boltzmann**\n",
        "\n",
        "La premisa de este tutorial es crear un modelo de nivel inicial que represente a agentes que intercambian dinero. Este intercambio de dinero afecta la riqueza.\n",
        "\n",
        "A continuación, se agrega *espacio* para permitir que los agentes se muevan en función del cambio en la riqueza a medida que avanza el tiempo.\n",
        "\n",
        "Luego se utilizan dos de las herramientas analíticas de Mesa: el *recopilador de datos* y el *ejecutor de lotes* para examinar la dinámica de este modelo simple."
      ]
    },
    {
      "cell_type": "markdown",
      "metadata": {
        "id": "rZvUz0CTCGbA"
      },
      "source": [
        "## Descripción del modelo\n",
        "\n",
        "Se trata de una economía basada en agentes simulada de nivel inicial. En una economía basada en agentes, se estudia el comportamiento de un agente económico individual, como un consumidor o un productor, en un entorno de mercado [[Drăgulescu, 2002]](https://arxiv.org/pdf/cond-mat/0211175).\n",
        "\n",
        "Los supuestos que rigen este modelo son:\n",
        "\n",
        "1. Hay una cierta cantidad de agentes.\n",
        "2. Todos los agentes comienzan con 1 unidad de dinero.\n",
        "3. En cada paso del modelo, un agente da 1 unidad de dinero (si la tiene) a otro agente.\n",
        "\n",
        "Estos pasos elementales permiten describir sistemas económicos complejos con predicciones consistentes."
      ]
    },
    {
      "cell_type": "markdown",
      "metadata": {
        "id": "eUZtKoJWDisg"
      },
      "source": [
        "Inicio - Instalación de paquetes"
      ]
    },
    {
      "cell_type": "markdown",
      "metadata": {
        "id": "cassHwfCDpCA"
      },
      "source": [
        "El signo % es llamado *Magic Comand* es recomendado en entornos interactivos en los se se ejecutan códigos por secciones."
      ]
    },
    {
      "cell_type": "code",
      "execution_count": 1,
      "metadata": {
        "id": "EcYGdOnlAQl2",
        "colab": {
          "base_uri": "https://localhost:8080/"
        },
        "outputId": "ccb1dd7e-8acc-47fc-da1c-19af7344a67a"
      },
      "outputs": [
        {
          "output_type": "stream",
          "name": "stdout",
          "text": [
            "\u001b[?25l   \u001b[90m━━━━━━━━━━━━━━━━━━━━━━━━━━━━━━━━━━━━━━━━\u001b[0m \u001b[32m0.0/197.0 kB\u001b[0m \u001b[31m?\u001b[0m eta \u001b[36m-:--:--\u001b[0m\r\u001b[2K   \u001b[91m━━━━━━━━━━━━━━━━━━━━━━━━━━━━━━━━━━━━━━━\u001b[0m\u001b[91m╸\u001b[0m \u001b[32m194.6/197.0 kB\u001b[0m \u001b[31m5.2 MB/s\u001b[0m eta \u001b[36m0:00:01\u001b[0m\r\u001b[2K   \u001b[90m━━━━━━━━━━━━━━━━━━━━━━━━━━━━━━━━━━━━━━━━\u001b[0m \u001b[32m197.0/197.0 kB\u001b[0m \u001b[31m3.2 MB/s\u001b[0m eta \u001b[36m0:00:00\u001b[0m\n",
            "\u001b[?25h"
          ]
        }
      ],
      "source": [
        "%pip install mesa --quiet\n",
        "%pip install seaborn --quiet\n"
      ]
    },
    {
      "cell_type": "markdown",
      "metadata": {
        "id": "6nrxA-2-12ix"
      },
      "source": [
        "Este código funciona para la versión 3.2.0 de mesa"
      ]
    },
    {
      "cell_type": "code",
      "execution_count": 2,
      "metadata": {
        "id": "VCRNRP_A11HX",
        "colab": {
          "base_uri": "https://localhost:8080/"
        },
        "outputId": "574eb7e1-1cfc-4d78-fb3d-5b0712c7feac"
      },
      "outputs": [
        {
          "output_type": "stream",
          "name": "stdout",
          "text": [
            "3.2.0\n"
          ]
        }
      ],
      "source": [
        "import mesa\n",
        "print(mesa.__version__)"
      ]
    },
    {
      "cell_type": "markdown",
      "metadata": {
        "id": "WhU1T5TKEBIy"
      },
      "source": [
        "Importar librerías"
      ]
    },
    {
      "cell_type": "code",
      "execution_count": 3,
      "metadata": {
        "id": "IaU6hhqnDmi6"
      },
      "outputs": [],
      "source": [
        "# Herramientas de visualización\n",
        "import seaborn as sns\n",
        "import matplotlib.pyplot as plt\n",
        "\n",
        "# Herramienta para cálculo numérico y para manipulación de arreglos (vectores y matrices)\n",
        "import numpy as np\n",
        "\n",
        "# Herramienta para la creación, lectura y manipulación de DataFrames\n",
        "import pandas as pd"
      ]
    },
    {
      "cell_type": "markdown",
      "metadata": {
        "id": "O1oHzw9FEvQx"
      },
      "source": [
        "**Crear agentes**\n",
        "\n",
        "Modelo: Los agentes son individuos que intercambian dinero, en este caso la cantidad de dinero que tiene un agente representa su riqueza (wealth). Cada agente tiene un número de identificación único.\n",
        "\n",
        "Implementación: Se crea una nueva clase (y nuevos objetos) que extiende mesa.Agent y crea una subclase de la clase Agent de mesa. La nueva clase es llamada MoneyAgent."
      ]
    },
    {
      "cell_type": "code",
      "execution_count": 4,
      "metadata": {
        "id": "C70v-kXKEt6K"
      },
      "outputs": [],
      "source": [
        "class MoneyAgent(mesa.Agent):\n",
        "    \"\"\"An agent with fixed initial wealth.\"\"\"\n",
        "\n",
        "    def __init__(self, model):\n",
        "        # Pass the parameters to the parent class.\n",
        "        super().__init__(model)\n",
        "\n",
        "        # Create the agent's variable and set the initial values.\n",
        "        self.wealth = 1"
      ]
    },
    {
      "cell_type": "markdown",
      "metadata": {
        "id": "QrfSz9GXU91d"
      },
      "source": [
        "Recordar la revisión hecha respecto a la **herencia** de clases."
      ]
    },
    {
      "cell_type": "markdown",
      "metadata": {
        "id": "kSkt_EkuXg5q"
      },
      "source": [
        "**Crear modelo**\n",
        "\n",
        "Ahora se crea el modelo. Progresivamente se agregan funciones al modelo.\n",
        "\n",
        "**Información específica del modelo:** Cuando se crea un modelo, se especifica la cantidad de agentes dentro del modelo. El modelo también contiene un programador (agenda) que controla el orden en el que se activan los agentes. El programador también es responsable de avanzar el modelo un paso. El modelo también contiene un recopilador de datos que recopila datos del modelo. Estos temas se tratarán con más detalle más adelante en el tutorial.\n",
        "\n",
        "Se crea una nueva clase llamada `MoneyModel`."
      ]
    },
    {
      "cell_type": "code",
      "execution_count": 5,
      "metadata": {
        "id": "UvS-aQOV80Vt"
      },
      "outputs": [],
      "source": [
        "class MoneyModel(mesa.Model):\n",
        "    \"\"\"A model with some number of agents.\"\"\"\n",
        "\n",
        "    def __init__(self, n, seed = None):\n",
        "        super().__init__(seed = seed)\n",
        "        self.num_agents = n\n",
        "        # Create agents\n",
        "        MoneyAgent.create_agents(model = self, n = n)"
      ]
    },
    {
      "cell_type": "markdown",
      "metadata": {
        "id": "pUzhYivCYTh7"
      },
      "source": [
        "**Hacer que los agentes** ``hagan``\n",
        "\n",
        "Una vez creados los conceptos básicos de la clase Agente y la clase Modelo, ahora podemos activar los agentes para que hagan cosas.\n",
        "\n",
        "**Antecedentes**: La función `do` de Mesa invoca funciones de agente para hacer crecer su ABM (Agent-Based Model). Un paso es la unidad de tiempo más pequeña del modelo y, a menudo, se lo denomina tick. La función do y la funcionalidad de Python se pueden configurar para activar agentes en diferentes órdenes. Esto puede ser importante, ya que el orden en el que se activan los agentes puede afectar los resultados del modelo. En cada paso del modelo, uno o más de los agentes (normalmente todos) se activan y realizan su propio paso, cambiando internamente o interactuando entre sí o con el entorno.\n",
        "\n",
        "**Información específica del modelo**: Para esta sección, reordenaremos aleatoriamente el orden de activación del agente utilizando mesa.Agent.shuffle_do y haremos que la función de paso de los agentes imprima la identificación única del agente que se les asignó durante el proceso de creación del agente.\n",
        "\n",
        "**Implementación del código**: Utilizando la convención estándar de ABM, agregamos una función de paso a la clase MoneyModel que invoca la función mesa.Agent.shuffle_do. Luego pasamos a shuffle_do el parámetro \"step\". Esto le indica a mesa que busque y ejecute la función step en nuestra clase MoneyAgent."
      ]
    },
    {
      "cell_type": "code",
      "execution_count": 6,
      "metadata": {
        "id": "BXju3HfR9DTD"
      },
      "outputs": [],
      "source": [
        "class MoneyAgent(mesa.Agent):\n",
        "    \"\"\"An agent with fixed initial wealth.\"\"\"\n",
        "\n",
        "    def __init__(self, model):\n",
        "        # Pass the parameters to the parent class.\n",
        "        super().__init__(model)\n",
        "\n",
        "        # Create the agent's attribute and set the initial values.\n",
        "        self.wealth = 1\n",
        "\n",
        "    def say_hi(self):\n",
        "        # The agent's step will go here.\n",
        "        # For demonstration purposes we will print the agent's unique_id\n",
        "        print(f\"Hi, I am an agent, you can call me {str(self.unique_id)}.\")\n",
        "\n",
        "\n",
        "class MoneyModel(mesa.Model):\n",
        "    \"\"\"A model with some number of agents.\"\"\"\n",
        "\n",
        "    def __init__(self, n, seed = None):\n",
        "        super().__init__(seed = seed)\n",
        "        self.num_agents = n\n",
        "\n",
        "        # Create n agents\n",
        "        MoneyAgent.create_agents(model = self, n = n)\n",
        "\n",
        "    def step(self):\n",
        "        \"\"\"Advance the model by one step.\"\"\"\n",
        "\n",
        "        # This function psuedo-randomly reorders the list of agent objects and\n",
        "        # then iterates through calling the function passed in as the parameter\n",
        "        self.agents.shuffle_do(\"say_hi\")\n",
        "        #self.agents.do(\"say_hi\")"
      ]
    },
    {
      "cell_type": "markdown",
      "metadata": {
        "id": "5XgnE-PW9QgM"
      },
      "source": [
        "Corriendo el modelo"
      ]
    },
    {
      "cell_type": "code",
      "execution_count": 7,
      "metadata": {
        "id": "BrPLi5huHO6K",
        "colab": {
          "base_uri": "https://localhost:8080/"
        },
        "outputId": "9194631d-9c74-452f-f796-d0a8a24db474"
      },
      "outputs": [
        {
          "output_type": "stream",
          "name": "stdout",
          "text": [
            "Hi, I am an agent, you can call me 1.\n",
            "Hi, I am an agent, you can call me 7.\n",
            "Hi, I am an agent, you can call me 9.\n",
            "Hi, I am an agent, you can call me 8.\n",
            "Hi, I am an agent, you can call me 4.\n",
            "Hi, I am an agent, you can call me 3.\n",
            "Hi, I am an agent, you can call me 2.\n",
            "Hi, I am an agent, you can call me 5.\n",
            "Hi, I am an agent, you can call me 6.\n",
            "Hi, I am an agent, you can call me 10.\n"
          ]
        }
      ],
      "source": [
        "starter_model = MoneyModel(10)\n",
        "starter_model.step()"
      ]
    },
    {
      "cell_type": "markdown",
      "metadata": {
        "id": "l6fmCJlbm7NS"
      },
      "source": [
        "Exercise: Verify that"
      ]
    },
    {
      "cell_type": "markdown",
      "metadata": {
        "id": "GOZqSmQrnNaz"
      },
      "source": [
        "## <font color=\"red\"> **Ejercicios** </font>"
      ]
    },
    {
      "cell_type": "markdown",
      "metadata": {
        "id": "q2CflNhZn0Zr"
      },
      "source": [
        "* ¿Se tiene el mismo resultado en cada ejecución del código?\n",
        "* ¿Cuál es la diferencia entre usar `shuffle_do` o `do`?\n",
        "* ¿Qué pasa al fijar una semilla? Fijar `seed = 42`"
      ]
    },
    {
      "cell_type": "markdown",
      "metadata": {
        "id": "phK-wjVxfN3a"
      },
      "source": [
        "* Modificar el código a continuación para que cada agente imprima su \"riqueza\" cuando se activa. Cree un modelo para 12 agentes y ejecútelo durante algunos pasos para ver el resultado."
      ]
    },
    {
      "cell_type": "code",
      "execution_count": 15,
      "metadata": {
        "id": "MqikdXUFHSz7"
      },
      "outputs": [],
      "source": [
        "class MoneyAgent(mesa.Agent):\n",
        "    \"\"\"An agent with fixed initial wealth.\"\"\"\n",
        "\n",
        "    def __init__(self, model):\n",
        "        # Pass the parameters to the parent class.\n",
        "        super().__init__(model)\n",
        "\n",
        "        # Create the agent's variable and set the initial values.\n",
        "        self.wealth = 1\n",
        "\n",
        "    def say_wealth(self):\n",
        "        # The agent's step will go here.\n",
        "        # FIXME: need to print the agent's wealth\n",
        "        print(f\"Hi, I am an agent and I am broke!\")"
      ]
    },
    {
      "cell_type": "code",
      "execution_count": 8,
      "metadata": {
        "id": "be3woiP4oSUR"
      },
      "outputs": [],
      "source": []
    },
    {
      "cell_type": "markdown",
      "metadata": {
        "id": "MkPT9LkvB9t-"
      },
      "source": [
        "Solución:"
      ]
    },
    {
      "cell_type": "code",
      "execution_count": 9,
      "metadata": {
        "id": "IDY16I_w8HnN"
      },
      "outputs": [],
      "source": [
        "#modelo12.step()"
      ]
    },
    {
      "cell_type": "markdown",
      "metadata": {
        "id": "lYhM9k74iF4O"
      },
      "source": [
        "**Paso del agente**\n",
        "\n",
        "Volviendo a MoneyAgent, ahora se creará el proceso de intercambio real.\n",
        "\n",
        "**Antecedentes**: aquí es donde se define el comportamiento del agente en relación con cada paso o marca del modelo.\n",
        "\n",
        "**Información específica del modelo**: en este caso, el agente verificará su riqueza y, si tiene dinero, regalará una unidad de este a otro agente aleatorio.\n",
        "\n",
        "**Implementación del código**: el método de paso del agente es llamado por mesa.Agent.shuffle_do(\"exchange\") durante cada paso del modelo. Para permitir que el agente elija otro agente al azar, usamos el generador de números aleatorios model.random. Esto funciona igual que el módulo aleatorio de Python, pero si se establece un conjunto de semillas fijo cuando se crea una instancia del modelo (consulte el desafío anterior), esto permite a los usuarios replicar una ejecución de modelo específica más tarde. Una vez que identificamos este otro objeto de agente, aumentamos su riqueza en 1 y disminuimos la riqueza de este agente en uno.\n",
        "\n",
        "Esto actualiza la función de paso como se muestra a continuación"
      ]
    },
    {
      "cell_type": "code",
      "execution_count": 10,
      "metadata": {
        "id": "gFIDJpPIDYLG"
      },
      "outputs": [],
      "source": [
        "class MoneyAgent(mesa.Agent):\n",
        "    \"\"\"An agent with fixed initial wealth.\"\"\"\n",
        "\n",
        "    def __init__(self, model):\n",
        "        # Pass the parameters to the parent class.\n",
        "        super().__init__(model)\n",
        "\n",
        "        # Create the agent's variable and set the initial values.\n",
        "        self.wealth = 1\n",
        "\n",
        "    def exchange(self):\n",
        "        # Verify agent has some wealth\n",
        "        if self.wealth > 0:\n",
        "            other_agent = self.random.choice(self.model.agents)\n",
        "            if other_agent is not None:\n",
        "                  other_agent.wealth += 1  # ?\n",
        "                  self.wealth -= 1  # ?\n",
        "\n",
        "\n",
        "class MoneyModel(mesa.Model):\n",
        "    \"\"\"A model with some number of agents.\"\"\"\n",
        "\n",
        "    def __init__(self, n):\n",
        "        super().__init__()\n",
        "        self.num_agents = n\n",
        "\n",
        "        # Create agents\n",
        "        MoneyAgent.create_agents(model=self, n=n)\n",
        "\n",
        "    def step(self):\n",
        "        \"\"\"Advance the model by one step.\"\"\"\n",
        "\n",
        "        # This function psuedo-randomly reorders the list of agent objects and\n",
        "        # then iterates through calling the function passed in as the parameter\n",
        "        self.agents.shuffle_do(\"exchange\")"
      ]
    },
    {
      "cell_type": "markdown",
      "metadata": {
        "id": "7ZD-O_7Nkku3"
      },
      "source": [
        "### Ejecución de su primer modelo\n",
        "\n",
        "Con esa última pieza en la mano, es hora de la primera ejecución rudimentaria del modelo.\n",
        "\n",
        "Ahora, creemos un modelo con 10 agentes y ejecútelo durante 15 pasos."
      ]
    },
    {
      "cell_type": "code",
      "execution_count": 11,
      "metadata": {
        "id": "Se27yF1jHW-r"
      },
      "outputs": [],
      "source": [
        "model = MoneyModel(10)  # Tells the model to create 10 agents\n",
        "for _ in range(15):  # Runs the model for 15 steps\n",
        "    model.step()"
      ]
    },
    {
      "cell_type": "markdown",
      "metadata": {
        "id": "PzaHXK9Nky8V"
      },
      "source": [
        "A continuación, necesitamos obtener algunos datos del modelo. En concreto, queremos ver la distribución de la riqueza del agente. Podemos obtener los valores de riqueza con **comprensión de listas** y, a continuación, utilizar Seaborn para visualizar los datos en un histograma."
      ]
    },
    {
      "cell_type": "code",
      "execution_count": 12,
      "metadata": {
        "id": "_YJyj2LFJrRc",
        "colab": {
          "base_uri": "https://localhost:8080/"
        },
        "outputId": "fd871f9c-fc18-4f05-daaf-f031c04c29fa"
      },
      "outputs": [
        {
          "output_type": "execute_result",
          "data": {
            "text/plain": [
              "[1, 1, 1, 0, 0, 2, 3, 0, 2, 0]"
            ]
          },
          "metadata": {},
          "execution_count": 12
        }
      ],
      "source": [
        "agent_wealth = [a.wealth for a in model.agents]\n",
        "agent_wealth"
      ]
    },
    {
      "cell_type": "code",
      "execution_count": 13,
      "metadata": {
        "id": "SNuFzLj_Dj39",
        "colab": {
          "base_uri": "https://localhost:8080/",
          "height": 472
        },
        "outputId": "0c7ad0d7-3227-4f02-c2dc-41f350eb45bf"
      },
      "outputs": [
        {
          "output_type": "display_data",
          "data": {
            "text/plain": [
              "<Figure size 640x480 with 1 Axes>"
            ],
            "image/png": "[encoded data removed]"
          },
          "metadata": {}
        }
      ],
      "source": [
        "# Create a histogram with seaborn\n",
        "g = sns.histplot(agent_wealth, discrete=True, binrange=(0, 4))\n",
        "g.set(title=\"Wealth distribution\", xlabel=\"Wealth\", ylabel=\"number of agents\");\n",
        "    # The semicolon is just to avoid printing the object representation"
      ]
    },
    {
      "cell_type": "code",
      "execution_count": 14,
      "metadata": {
        "id": "s1f-ugBDHZN7",
        "colab": {
          "base_uri": "https://localhost:8080/",
          "height": 472
        },
        "outputId": "efe5ba11-6b5f-4fca-c97e-2cf66dedc358"
      },
      "outputs": [
        {
          "output_type": "display_data",
          "data": {
            "text/plain": [
              "<Figure size 640x480 with 1 Axes>"
            ],
            "image/png": "[encoded data removed]"
          },
          "metadata": {}
        }
      ],
      "source": [
        "all_wealth = []\n",
        "# This runs the model 100 times, each model executing 10 steps.\n",
        "for _ in range(100):\n",
        "    # Run the model\n",
        "    model = MoneyModel(20)\n",
        "    for _ in range(20):\n",
        "        model.step()\n",
        "\n",
        "    # Store the results\n",
        "    for agent in model.agents:\n",
        "        all_wealth.append(agent.wealth)\n",
        "\n",
        "# Use seaborn\n",
        "g = sns.histplot(all_wealth, discrete=True)\n",
        "g.set(title=\"Wealth distribution\", xlabel=\"Wealth\", ylabel=\"number of agents\");"
      ]
    },
    {
      "cell_type": "markdown",
      "metadata": {
        "id": "5xg_fuRklBC6"
      },
      "source": [
        "Deberían ver algo parecido a la distribución anterior. Es casi seguro que la de ustedes se verá al menos ligeramente diferente, ya que cada ejecución del modelo es aleatoria."
      ]
    },
    {
      "cell_type": "markdown",
      "metadata": {
        "id": "1sqMmTRXvZBq"
      },
      "source": [
        "#<font color=\"red\"> **Ejercicios** </font>"
      ]
    },
    {
      "cell_type": "markdown",
      "metadata": {
        "id": "M8Kfg2nEvjb7"
      },
      "source": [
        "1. Verifique si la riqueza total del modelo permanece conservada en cada paso. Graficarla.\n",
        "2. Experimente con diferentes valores de riqueza inicial. ¿Qué cambia en la dinámica?\n",
        "3. Monitoree cuántos agentes tienen riqueza cero en el tiempo.\n",
        "4. Simule un caso más realista en el que la transacción tiene un costo. El cambio en la riqueza en el agente que da dinero es -1, mientras que el cambio en el que gana es +0.9. Verifique si la riqueza total del modelo permanece conservada en cada paso.\n",
        "5. Proponga una modificación adicional del modelo y examine sus implicaciones en la dinámica."
      ]
    },
    {
      "cell_type": "code",
      "source": [
        "class MoneyAgent(mesa.Agent):\n",
        "    \"\"\"An agent with fixed initial wealth.\"\"\"\n",
        "\n",
        "    def __init__(self, model):\n",
        "        # Pass the parameters to the parent class.\n",
        "        super().__init__(model)\n",
        "\n",
        "        # Create the agent's variable and set the initial values.\n",
        "        self.wealth = 1\n",
        "\n",
        "    def exchange(self):\n",
        "        # Verify agent has some wealth\n",
        "        if self.wealth > 0:\n",
        "            other_agent = self.random.choice(self.model.agents)\n",
        "            if other_agent is not None:\n",
        "                  other_agent.wealth += 0.9  # ?\n",
        "                  self.wealth -= 1  # ?\n",
        "\n",
        "\n",
        "class MoneyModel(mesa.Model):\n",
        "    \"\"\"A model with some number of agents.\"\"\"\n",
        "\n",
        "    def __init__(self, n):\n",
        "        super().__init__()\n",
        "        self.num_agents = n\n",
        "\n",
        "        # Create agents\n",
        "        MoneyAgent.create_agents(model=self, n=n)\n",
        "\n",
        "    def step(self):\n",
        "        \"\"\"Advance the model by one step.\"\"\"\n",
        "\n",
        "        # This function psuedo-randomly reorders the list of agent objects and\n",
        "        # then iterates through calling the function passed in as the parameter\n",
        "        self.agents.shuffle_do(\"exchange\")"
      ],
      "metadata": {
        "id": "PoOhXew-Q0wG"
      },
      "execution_count": 52,
      "outputs": []
    },
    {
      "cell_type": "code",
      "source": [
        "model = MoneyModel(10)  # Tells the model to create 10 agents\n",
        "for _ in range(15):  # Runs the model for 15 steps\n",
        "    model.step()"
      ],
      "metadata": {
        "id": "hKuQGU_gRV3_"
      },
      "execution_count": 53,
      "outputs": []
    },
    {
      "cell_type": "code",
      "source": [
        "agent_wealth = [a.wealth for a in model.agents]\n",
        "agent_wealth"
      ],
      "metadata": {
        "colab": {
          "base_uri": "https://localhost:8080/"
        },
        "id": "5aHruBJjRbDZ",
        "outputId": "fb10982c-d94a-4696-8bb2-1ee66ac19fce"
      },
      "execution_count": 54,
      "outputs": [
        {
          "output_type": "execute_result",
          "data": {
            "text/plain": [
              "[-0.6000000000000001,\n",
              " 0.29999999999999993,\n",
              " -1.1102230246251565e-16,\n",
              " -0.4000000000000006,\n",
              " 0.7000000000000002,\n",
              " -0.10000000000000087,\n",
              " 0.7,\n",
              " -0.20000000000000018,\n",
              " -0.6999999999999997,\n",
              " 0.10000000000000009]"
            ]
          },
          "metadata": {},
          "execution_count": 54
        }
      ]
    },
    {
      "cell_type": "code",
      "source": [
        "#Verifique si la riqueza total del modelo permanece conservada en cada paso. Graficarla.\n",
        "model = MoneyModel(10)\n",
        "total_wealth = []\n",
        "\n",
        "for _ in range(15):  # Runs the model for 15 steps\n",
        "    model.step()\n",
        "\n",
        "    wealth_sum = sum(a.wealth for a in model.agents)\n",
        "    total_wealth.append(wealth_sum)"
      ],
      "metadata": {
        "id": "UkY3FKXYZAK8"
      },
      "execution_count": 55,
      "outputs": []
    },
    {
      "cell_type": "code",
      "source": [
        "plt.plot(total_wealth, marker=\"o\")\n",
        "plt.xlabel(\"Paso de simulación\")\n",
        "plt.ylabel(\"Riqueza total\")\n",
        "plt.title(\"Conservación de la riqueza en el modelo\")\n",
        "plt.grid(True)\n",
        "plt.show()\n"
      ],
      "metadata": {
        "colab": {
          "base_uri": "https://localhost:8080/",
          "height": 472
        },
        "id": "D57jMnByZxBd",
        "outputId": "2f749a25-d644-4076-dd5e-e07103978d5a"
      },
      "execution_count": 56,
      "outputs": [
        {
          "output_type": "display_data",
          "data": {
            "text/plain": [
              "<Figure size 640x480 with 1 Axes>"
            ],
            "image/png": "[encoded data removed]"
          },
          "metadata": {}
        }
      ]
    },
    {
      "cell_type": "code",
      "source": [],
      "metadata": {
        "id": "KGhO6wCQZ3Zm"
      },
      "execution_count": null,
      "outputs": []
    }
  ],
  "metadata": {
    "colab": {
      "provenance": [],
      "include_colab_link": true
    },
    "kernelspec": {
      "display_name": "Python 3 (ipykernel)",
      "language": "python",
      "name": "python3"
    },
    "language_info": {
      "codemirror_mode": {
        "name": "ipython",
        "version": 3
      },
      "file_extension": ".py",
      "mimetype": "text/x-python",
      "name": "python",
      "nbconvert_exporter": "python",
      "pygments_lexer": "ipython3",
      "version": "3.10.6"
    }
  },
  "nbformat": 4,
  "nbformat_minor": 0
}