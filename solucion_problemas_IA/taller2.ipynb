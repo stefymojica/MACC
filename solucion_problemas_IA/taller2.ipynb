{
  "cells": [
    {
      "cell_type": "markdown",
      "metadata": {
        "colab_type": "text",
        "id": "view-in-github"
      },
      "source": [
        "<a href=\"https://colab.research.google.com/github/stefymojica/MACC/blob/main/taller2.ipynb\" target=\"_parent\"><img src=\"https://colab.research.google.com/assets/colab-badge.svg\" alt=\"Open In Colab\"/></a>"
      ]
    },
    {
      "cell_type": "code",
      "execution_count": 57,
      "metadata": {
        "id": "7GeEKa1c_tQN"
      },
      "outputs": [],
      "source": [
        "class Car:\n",
        "  def __init__(self, make, model, year,speed):\n",
        "    self.make = make\n",
        "    self.model = model\n",
        "    self.year = year\n",
        "    self.speed = speed\n",
        "\n",
        "  def honk(Self):\n",
        "    print(\"Beep beep!\")\n",
        "\n",
        "  def accelerate(self,rate):\n",
        "    self.speed += rate\n",
        "\n",
        "  def get_speed(self):\n",
        "    return self.speed\n"
      ]
    },
    {
      "cell_type": "code",
      "execution_count": 58,
      "metadata": {
        "colab": {
          "base_uri": "https://localhost:8080/"
        },
        "id": "-FDIB8x-A26h",
        "outputId": "6744a256-290d-4dea-c8fb-6f0227fb7fdc"
      },
      "outputs": [
        {
          "name": "stdout",
          "output_type": "stream",
          "text": [
            "Beep beep!\n",
            "30\n"
          ]
        }
      ],
      "source": [
        "my_car = Car(\"Toyota\", \"Camry\", 2022, 0)\n",
        "my_car.honk()\n",
        "my_car.accelerate(30)\n",
        "print(my_car.get_speed())"
      ]
    },
    {
      "cell_type": "code",
      "execution_count": 64,
      "metadata": {
        "id": "D3M43OeNA9DM"
      },
      "outputs": [],
      "source": [
        "class ElectricCar(Car):\n",
        "  def __init__(self,make,model,year,speed,battery_level:int):\n",
        "    super().__init__(make,model,year,speed)\n",
        "    self.battery_level = battery_level\n",
        "\n",
        "  def show_battery(self):\n",
        "    print(f\"Bateria actual del coche: {self.battery_level}%\")\n",
        "  \n",
        "  def charge(self):\n",
        "    if self.battery_level < 100:\n",
        "      self.battery_level = 100\n",
        "      print(f\"Bateria cargada al {self.battery_level}%\")\n",
        "    else:\n",
        "      print(\"Carga completa\")\n",
        "  def honk(self):\n",
        "    print(\"Whirr beep!\")\n"
      ]
    },
    {
      "cell_type": "code",
      "execution_count": 66,
      "metadata": {
        "colab": {
          "base_uri": "https://localhost:8080/"
        },
        "id": "QVcnXZ-GEc2N",
        "outputId": "a532f8b0-aa06-403f-f7b1-f57f0d044787"
      },
      "outputs": [
        {
          "name": "stdout",
          "output_type": "stream",
          "text": [
            "Bateria actual del coche: 80%\n",
            "Bateria cargada al 100%\n",
            "Whirr beep!\n"
          ]
        }
      ],
      "source": [
        "electric_car = ElectricCar(\"Tesla\",\"Model S\",2022,40,80)\n",
        "electric_car.show_battery()\n",
        "electric_car.charge()\n",
        "electric_car.honk()"
      ]
    },
    {
      "cell_type": "code",
      "execution_count": 67,
      "metadata": {
        "id": "8LzrHGJbFCxd"
      },
      "outputs": [],
      "source": [
        "class SportsCar(Car):\n",
        "  def __init__(self,make,model,year,speed,turbo_mode=False):\n",
        "    super().__init__(make,model,year,speed)\n",
        "    self.turbo_mode = turbo_mode\n",
        "\n",
        "  def activate_turbo(self):\n",
        "    self.turbo_mode = True\n",
        "    print(\"Turbo activado\")\n",
        "    \n",
        "  def accelerate(self, rate):\n",
        "    if self.activate_turbo:\n",
        "      rate *= 2\n",
        "      self.speed += rate\n",
        "      print(f\"Velocidad actual: {self.speed}\")\n",
        "\n",
        "  def desactivate_turbo(self):\n",
        "    self.turbo_mode = False\n",
        "    print(\"Turbo desactivado\")"
      ]
    },
    {
      "cell_type": "code",
      "execution_count": 68,
      "metadata": {
        "colab": {
          "base_uri": "https://localhost:8080/"
        },
        "id": "Efam9nitK7oX",
        "outputId": "0ed9a3d5-f25f-445a-a116-a505c893e7c9"
      },
      "outputs": [
        {
          "name": "stdout",
          "output_type": "stream",
          "text": [
            "Turbo activado\n",
            "Velocidad actual: 70\n",
            "Turbo desactivado\n"
          ]
        }
      ],
      "source": [
        "sports_car = SportsCar(\"Ferrari\",\"Model 4\", 2024, 40)\n",
        "sports_car.activate_turbo()\n",
        "sports_car.accelerate(15)\n",
        "sports_car.desactivate_turbo()"
      ]
    },
    {
      "cell_type": "code",
      "execution_count": 55,
      "metadata": {
        "id": "hXa0_eT9LheD"
      },
      "outputs": [],
      "source": [
        "class Truck(Car):\n",
        "  def __init__(self,make,model,year,speed,load_capacity):\n",
        "    super().__init__(make,model,year,speed)\n",
        "    self.load_capacity = load_capacity\n",
        "    self.current_capacity = 0 \n",
        "    self.reduccion = 0\n",
        "    self.original_speed = speed\n",
        "\n",
        "  def load_carga(self,load_weight):\n",
        "    print(f\"Capacidad truck {self.load_capacity},carga actual: {self.current_capacity}, carga deseada {load_weight},suma carga actual + deseada: {self.current_capacity + load_weight }\")\n",
        "    if self.current_capacity + load_weight <= self.load_capacity:\n",
        "      self.current_capacity += load_weight\n",
        "      self.reduccion = load_weight // 500\n",
        "      self.speed -= self.reduccion\n",
        "      print(f\"Se redujo la velocidad {self.reduccion} unidades, la velocidad actual es: {self.speed},capacidad actual {self.current_capacity}\")\n",
        "    else:\n",
        "      print(f\"Carga excede de la capacidad maxima {self.load_capacity} - carga actual {self.current_capacity}\")\n",
        "\n",
        "  def unload_carga(self):\n",
        "    self.current_capacity = 0\n",
        "    self.speed = self.original_speed\n",
        "    print(f\"La velocidad despues de descargar es: {self.speed} y su carga actual es: {self.current_capacity} \")"
      ]
    },
    {
      "cell_type": "code",
      "execution_count": 56,
      "metadata": {
        "colab": {
          "base_uri": "https://localhost:8080/"
        },
        "id": "HihQ6syNSBUG",
        "outputId": "bb01fd00-f6b7-485f-b6a0-b565688f024e"
      },
      "outputs": [
        {
          "name": "stdout",
          "output_type": "stream",
          "text": [
            "Capacidad truck 2000,carga actual: 0, carga deseada 300,suma carga actual + deseada: 300\n",
            "Se redujo la velocidad 0 unidades, la velocidad actual es: 70,capacidad actual 300\n",
            "Capacidad truck 2000,carga actual: 300, carga deseada 600,suma carga actual + deseada: 900\n",
            "Se redujo la velocidad 1 unidades, la velocidad actual es: 69,capacidad actual 900\n",
            "Capacidad truck 2000,carga actual: 900, carga deseada 1000,suma carga actual + deseada: 1900\n",
            "Se redujo la velocidad 2 unidades, la velocidad actual es: 67,capacidad actual 1900\n",
            "Capacidad truck 2000,carga actual: 1900, carga deseada 500,suma carga actual + deseada: 2400\n",
            "Carga excede de la capacidad maxima 2000 - carga actual 1900\n",
            "La velocidad despues de descargar es: 70 y su carga actual es: 0 \n",
            "Capacidad truck 2000,carga actual: 0, carga deseada 1000,suma carga actual + deseada: 1000\n",
            "Se redujo la velocidad 2 unidades, la velocidad actual es: 68,capacidad actual 1000\n"
          ]
        }
      ],
      "source": [
        "truck = Truck(\"camion\",\"model L\",\"2024\",70,2000)\n",
        "truck.load_carga(300)\n",
        "truck.load_carga(600)\n",
        "truck.load_carga(1000)\n",
        "truck.load_carga(500)\n",
        "\n",
        "truck.unload_carga()\n",
        "truck.load_carga(1000)\n"
      ]
    }
  ],
  "metadata": {
    "colab": {
      "authorship_tag": "ABX9TyP5PFKeSZHymxs/6JxGspPZ",
      "include_colab_link": true,
      "provenance": []
    },
    "kernelspec": {
      "display_name": "Python 3 (ipykernel)",
      "language": "python",
      "name": "python3"
    },
    "language_info": {
      "codemirror_mode": {
        "name": "ipython",
        "version": 3
      },
      "file_extension": ".py",
      "mimetype": "text/x-python",
      "name": "python",
      "nbconvert_exporter": "python",
      "pygments_lexer": "ipython3",
      "version": "3.12.1"
    }
  },
  "nbformat": 4,
  "nbformat_minor": 0
}
