{
  "cells": [
    {
      "cell_type": "markdown",
      "metadata": {
        "colab_type": "text",
        "id": "view-in-github"
      },
      "source": [
        "<a href=\"https://colab.research.google.com/github/stefymojica/MACC/blob/main/taller2.ipynb\" target=\"_parent\"><img src=\"https://colab.research.google.com/assets/colab-badge.svg\" alt=\"Open In Colab\"/></a>"
      ]
    },
    {
      "cell_type": "code",
      "execution_count": 1,
      "metadata": {
        "id": "7GeEKa1c_tQN"
      },
      "outputs": [],
      "source": [
        "class Car:\n",
        "  def __init__(self, make, model, year,speed):\n",
        "    self.make = make\n",
        "    self.model = model\n",
        "    self.year = year\n",
        "    self.speed = speed\n",
        "\n",
        "  def honk(Self):\n",
        "    print(\"Beep beep!\")\n",
        "\n",
        "  def accelerate(self,rate):\n",
        "    self.speed += rate\n",
        "\n",
        "  def get_speed(self):\n",
        "    return self.speed\n"
      ]
    },
    {
      "cell_type": "code",
      "execution_count": 2,
      "metadata": {
        "colab": {
          "base_uri": "https://localhost:8080/"
        },
        "id": "-FDIB8x-A26h",
        "outputId": "6744a256-290d-4dea-c8fb-6f0227fb7fdc"
      },
      "outputs": [
        {
          "name": "stdout",
          "output_type": "stream",
          "text": [
            "Beep beep!\n",
            "30\n"
          ]
        }
      ],
      "source": [
        "my_car = Car(\"Toyota\", \"Camry\", 2022, 0)\n",
        "my_car.honk()\n",
        "my_car.accelerate(30)\n",
        "print(my_car.get_speed())"
      ]
    },
    {
      "cell_type": "code",
      "execution_count": 16,
      "metadata": {
        "id": "D3M43OeNA9DM"
      },
      "outputs": [],
      "source": [
        "class ElectricCar(Car):\n",
        "  def __init__(self,make,model,year,speed,battery_level:int):\n",
        "    super().__init__(make,model,year,speed)\n",
        "    self.battery_level = battery_level\n",
        "\n",
        "  def show_battery(self):\n",
        "    print(f\"Bateria actual del coche: {self.battery_level}%\")\n",
        "  def charge(self):\n",
        "    level = self.battery_level\n",
        "    if level < 100:\n",
        "      level = 100\n",
        "      print(f\"Bateria cargada al {level}%\")\n",
        "    else:\n",
        "      print(\"Carga completa\")\n",
        "  def honk(self):\n",
        "    print(\"Whirr beep!\")\n"
      ]
    },
    {
      "cell_type": "code",
      "execution_count": 18,
      "metadata": {
        "colab": {
          "base_uri": "https://localhost:8080/"
        },
        "id": "QVcnXZ-GEc2N",
        "outputId": "a532f8b0-aa06-403f-f7b1-f57f0d044787"
      },
      "outputs": [
        {
          "name": "stdout",
          "output_type": "stream",
          "text": [
            "Bateria actual del coche: 80%\n",
            "Bateria cargada al 100%\n",
            "Whirr beep!\n"
          ]
        }
      ],
      "source": [
        "electric_car = ElectricCar(\"Tesla\",\"Model S\",2022,40,80)\n",
        "electric_car.show_battery()\n",
        "electric_car.charge()\n",
        "electric_car.honk()"
      ]
    },
    {
      "cell_type": "code",
      "execution_count": 14,
      "metadata": {
        "id": "8LzrHGJbFCxd"
      },
      "outputs": [],
      "source": [
        "class SportsCar(Car):\n",
        "  def __init__(self,make,model,year,speed,turbo_mode=False):\n",
        "    super().__init__(make,model,year,speed)\n",
        "    self.turbo_mode = turbo_mode\n",
        "\n",
        "  def activate_turbo(self):\n",
        "    self.turbo_mode = True\n",
        "    print(\"Turbo activado\")\n",
        "    self.speed *= 2\n",
        "    print(f\"Velocidad actual: {self.speed}\")\n",
        "\n",
        "  def desactivate_turbo(self):\n",
        "    self.turbo_mode = Falseoriginal\n",
        "    print(\"Turbo desactivado\")"
      ]
    },
    {
      "cell_type": "code",
      "execution_count": 15,
      "metadata": {
        "colab": {
          "base_uri": "https://localhost:8080/"
        },
        "id": "Efam9nitK7oX",
        "outputId": "0ed9a3d5-f25f-445a-a116-a505c893e7c9"
      },
      "outputs": [
        {
          "name": "stdout",
          "output_type": "stream",
          "text": [
            "Turbo activado\n",
            "Velocidad actual: 80\n"
          ]
        },
        {
          "ename": "NameError",
          "evalue": "name 'Falseoriginal' is not defined",
          "output_type": "error",
          "traceback": [
            "\u001b[31m---------------------------------------------------------------------------\u001b[39m",
            "\u001b[31mNameError\u001b[39m                                 Traceback (most recent call last)",
            "\u001b[36mCell\u001b[39m\u001b[36m \u001b[39m\u001b[32mIn[15]\u001b[39m\u001b[32m, line 3\u001b[39m\n\u001b[32m      1\u001b[39m sports_car = SportsCar(\u001b[33m\"\u001b[39m\u001b[33mFerrari\u001b[39m\u001b[33m\"\u001b[39m,\u001b[33m\"\u001b[39m\u001b[33mModel 4\u001b[39m\u001b[33m\"\u001b[39m, \u001b[32m2024\u001b[39m, \u001b[32m40\u001b[39m)\n\u001b[32m      2\u001b[39m sports_car.activate_turbo()\n\u001b[32m----> \u001b[39m\u001b[32m3\u001b[39m \u001b[43msports_car\u001b[49m\u001b[43m.\u001b[49m\u001b[43mdesactivate_turbo\u001b[49m\u001b[43m(\u001b[49m\u001b[43m)\u001b[49m\n",
            "\u001b[36mCell\u001b[39m\u001b[36m \u001b[39m\u001b[32mIn[14]\u001b[39m\u001b[32m, line 13\u001b[39m, in \u001b[36mSportsCar.desactivate_turbo\u001b[39m\u001b[34m(self)\u001b[39m\n\u001b[32m     12\u001b[39m \u001b[38;5;28;01mdef\u001b[39;00m\u001b[38;5;250m \u001b[39m\u001b[34mdesactivate_turbo\u001b[39m(\u001b[38;5;28mself\u001b[39m):\n\u001b[32m---> \u001b[39m\u001b[32m13\u001b[39m   \u001b[38;5;28mself\u001b[39m.turbo_mode = \u001b[43mFalseoriginal\u001b[49m\n\u001b[32m     14\u001b[39m   \u001b[38;5;28mprint\u001b[39m(\u001b[33m\"\u001b[39m\u001b[33mTurbo desactivado\u001b[39m\u001b[33m\"\u001b[39m)\n",
            "\u001b[31mNameError\u001b[39m: name 'Falseoriginal' is not defined"
          ]
        }
      ],
      "source": [
        "sports_car = SportsCar(\"Ferrari\",\"Model 4\", 2024, 40)\n",
        "sports_car.activate_turbo()\n",
        "sports_car.desactivate_turbo()"
      ]
    },
    {
      "cell_type": "code",
      "execution_count": null,
      "metadata": {
        "id": "hXa0_eT9LheD"
      },
      "outputs": [],
      "source": [
        "class Truck(Car):\n",
        "  def __init__(self,make,model,year,speed,load_capacity):\n",
        "    super().__init__(make,model,year,speed)\n",
        "    self.load_capacity = load_capacity\n",
        "\n",
        "  def load_carga(self):\n",
        "    self.reduccion = self.load_capacity // 500\n",
        "    self.speed -= self.reduccion\n",
        "    print(f\"Se redujo la velocidad {self.reduccion} unidades, la velocidad actual es: {self.speed}\")\n",
        "\n",
        "  def unload_carga(self):\n",
        "    self.speed += self.reduccion\n",
        "    print(f\"La velocidad despues de descargar es: {self.speed}\")"
      ]
    },
    {
      "cell_type": "code",
      "execution_count": null,
      "metadata": {
        "colab": {
          "base_uri": "https://localhost:8080/"
        },
        "id": "HihQ6syNSBUG",
        "outputId": "bb01fd00-f6b7-485f-b6a0-b565688f024e"
      },
      "outputs": [
        {
          "name": "stdout",
          "output_type": "stream",
          "text": [
            "Se redujo la velocidad 4 unidades, la velocidad actual es: 66\n",
            "La velocidad despues de descargar es: 70\n"
          ]
        }
      ],
      "source": [
        "truck = Truck(\"camion\",\"model L\",\"2024\",70,2000)\n",
        "truck.load_carga()\n",
        "truck.unload_carga()"
      ]
    },
    {
      "cell_type": "code",
      "execution_count": null,
      "metadata": {
        "id": "U-EgLoCmSym2"
      },
      "outputs": [],
      "source": []
    }
  ],
  "metadata": {
    "colab": {
      "authorship_tag": "ABX9TyP5PFKeSZHymxs/6JxGspPZ",
      "include_colab_link": true,
      "provenance": []
    },
    "kernelspec": {
      "display_name": "Python 3 (ipykernel)",
      "language": "python",
      "name": "python3"
    },
    "language_info": {
      "codemirror_mode": {
        "name": "ipython",
        "version": 3
      },
      "file_extension": ".py",
      "mimetype": "text/x-python",
      "name": "python",
      "nbconvert_exporter": "python",
      "pygments_lexer": "ipython3",
      "version": "3.12.1"
    }
  },
  "nbformat": 4,
  "nbformat_minor": 0
}
