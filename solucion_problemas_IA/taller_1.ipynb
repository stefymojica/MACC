{
  "nbformat": 4,
  "nbformat_minor": 0,
  "metadata": {
    "colab": {
      "provenance": [],
      "include_colab_link": true
    },
    "kernelspec": {
      "name": "python3",
      "display_name": "Python 3"
    },
    "language_info": {
      "name": "python"
    }
  },
  "cells": [
    {
      "cell_type": "markdown",
      "metadata": {
        "id": "view-in-github",
        "colab_type": "text"
      },
      "source": [
        "<a href=\"https://colab.research.google.com/github/stefymojica/MACC/blob/main/taller_1.ipynb\" target=\"_parent\"><img src=\"https://colab.research.google.com/assets/colab-badge.svg\" alt=\"Open In Colab\"/></a>"
      ]
    },
    {
      "cell_type": "code",
      "execution_count": 1,
      "metadata": {
        "id": "tt2wx9MuVUYa"
      },
      "outputs": [],
      "source": [
        "class Car:\n",
        "  def __init__(self,make,model,year,speed):\n",
        "    self.make = make\n",
        "    self.model = model\n",
        "    self.year = year\n",
        "    self.speed = speed\n",
        "    self.lista = [self.speed]\n",
        "\n",
        "  def agregar_valor(self,valor):\n",
        "    self.lista.append(valor)\n",
        "\n",
        "  def honk(self):\n",
        "    print(\"Beep beep!\")\n",
        "\n",
        "  def accelerate(self, rate):\n",
        "    self.speed += rate\n",
        "    self.agregar_valor(self.speed)\n",
        "\n",
        "  def get_speed(self):\n",
        "    return self.speed\n",
        "    self.agregar_valor(self.speed)\n",
        "\n",
        "  def freno(self):\n",
        "    reduce = self.speed/2\n",
        "    return f\"velocidad actual {reduce}\"\n",
        "    self.agregar_valor(self.speed)\n",
        "\n",
        "  def parar(self):\n",
        "    return 0\n",
        "    self.agregar_valor(self.speed)\n"
      ]
    },
    {
      "cell_type": "code",
      "source": [
        "\n",
        "my_car = Car(\"Toyota\",\"Camry\", 2020, 0)\n",
        "my_car.honk()\n",
        "my_car.accelerate(30)"
      ],
      "metadata": {
        "colab": {
          "base_uri": "https://localhost:8080/"
        },
        "id": "sTW2Jf8TV_kX",
        "outputId": "b1bc3452-cdf2-43d4-ddc2-1285cddb4fa8"
      },
      "execution_count": 8,
      "outputs": [
        {
          "output_type": "stream",
          "name": "stdout",
          "text": [
            "Beep beep!\n"
          ]
        }
      ]
    },
    {
      "cell_type": "code",
      "source": [
        "my_car.freno()"
      ],
      "metadata": {
        "colab": {
          "base_uri": "https://localhost:8080/",
          "height": 36
        },
        "id": "qSGX8cmXb2Ih",
        "outputId": "4eb096d2-7c0f-4965-f8cf-d3939e08e375"
      },
      "execution_count": 9,
      "outputs": [
        {
          "output_type": "execute_result",
          "data": {
            "text/plain": [
              "'velocidad actual 15.0'"
            ],
            "application/vnd.google.colaboratory.intrinsic+json": {
              "type": "string"
            }
          },
          "metadata": {},
          "execution_count": 9
        }
      ]
    },
    {
      "cell_type": "code",
      "source": [
        "print(my_car.get_speed())\n",
        "print(my_car.parar())"
      ],
      "metadata": {
        "colab": {
          "base_uri": "https://localhost:8080/"
        },
        "id": "Dd7AeqXjWRRW",
        "outputId": "6bc7b560-864f-4dfe-f572-2bef483dedbb"
      },
      "execution_count": 10,
      "outputs": [
        {
          "output_type": "stream",
          "name": "stdout",
          "text": [
            "30\n",
            "0\n"
          ]
        }
      ]
    },
    {
      "cell_type": "code",
      "source": [
        "my_car.lista"
      ],
      "metadata": {
        "id": "LxIebGoAasXG",
        "colab": {
          "base_uri": "https://localhost:8080/"
        },
        "outputId": "9b44f907-04f0-4d89-ec39-e4fbb074fce7"
      },
      "execution_count": 11,
      "outputs": [
        {
          "output_type": "execute_result",
          "data": {
            "text/plain": [
              "[0, 30]"
            ]
          },
          "metadata": {},
          "execution_count": 11
        }
      ]
    },
    {
      "cell_type": "code",
      "source": [],
      "metadata": {
        "id": "wA64Ti2uh1CW"
      },
      "execution_count": null,
      "outputs": []
    }
  ]
}