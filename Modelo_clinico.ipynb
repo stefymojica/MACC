{
  "nbformat": 4,
  "nbformat_minor": 0,
  "metadata": {
    "colab": {
      "provenance": [],
      "authorship_tag": "ABX9TyM1CxKiKIA3lyDTaoeQVyd+",
      "include_colab_link": true
    },
    "kernelspec": {
      "name": "python3",
      "display_name": "Python 3"
    },
    "language_info": {
      "name": "python"
    }
  },
  "cells": [
    {
      "cell_type": "markdown",
      "metadata": {
        "id": "view-in-github",
        "colab_type": "text"
      },
      "source": [
        "<a href=\"https://colab.research.google.com/github/stefymojica/MACC/blob/main/Modelo_clinico.ipynb\" target=\"_parent\"><img src=\"https://colab.research.google.com/assets/colab-badge.svg\" alt=\"Open In Colab\"/></a>"
      ]
    },
    {
      "cell_type": "markdown",
      "source": [
        "# Agente para la optimizacion de recursos en un modelo clinico\n",
        "## Matematicas aplicadas y ciencias de la computacion\n",
        "## Estudiante : Stefany Paola Mojica Melo"
      ],
      "metadata": {
        "id": "cDN_RgjbWIb7"
      }
    },
    {
      "cell_type": "markdown",
      "source": [
        "## Contextualizacion\n",
        "\n",
        "- Hay 3 agentes:\n",
        "  - pacientes\n",
        "  - medicos\n",
        "  - triaja\n",
        "- Hay un modelo\n",
        "  - Clinica donde los agentes van a interactuar\n",
        "- Los pacientes llegan y el triaje asigna el nivel de riesgo dependiendo de la situacion del paciente\n",
        "- A la clinica llegan cada 25 minutos un nuevo paciente\n",
        "- Los doctores se demoran 15 minutos para descubrir que le sucede a un paciennte -\n",
        "- los pacientes llegan y el triaje les asigana un nivel de criticidad son 5 niveles.\n",
        "  - nivel 1 - situacion de riesgo vital, requiere accion inmediata\n",
        "  - nivel 2 - Emergencia. requiere atencion en un tiempo maximo de 30 minutos\n",
        "  - nivel 3 - Urgencia. se debe atender en un tiempo no mayor a 30 minutos\n",
        "  - nivel 4 - urgencia menor. Puede esperar hasta 120 minutos\n",
        "  - nivel 5 - sin urgencia. puede esperar hasta 180 minutos"
      ],
      "metadata": {
        "id": "VjACh3IjPKNT"
      }
    },
    {
      "cell_type": "markdown",
      "source": [
        "## Instalar librerias"
      ],
      "metadata": {
        "id": "stctzpQpWofp"
      }
    },
    {
      "cell_type": "code",
      "source": [
        "%pip install mesa"
      ],
      "metadata": {
        "colab": {
          "base_uri": "https://localhost:8080/"
        },
        "id": "HforbzMnU5Pk",
        "outputId": "8c57bdf0-f878-4036-959c-4fc759754204"
      },
      "execution_count": 11,
      "outputs": [
        {
          "output_type": "stream",
          "name": "stdout",
          "text": [
            "Requirement already satisfied: mesa in /usr/local/lib/python3.12/dist-packages (3.3.0)\n",
            "Requirement already satisfied: numpy in /usr/local/lib/python3.12/dist-packages (from mesa) (2.0.2)\n",
            "Requirement already satisfied: pandas in /usr/local/lib/python3.12/dist-packages (from mesa) (2.2.2)\n",
            "Requirement already satisfied: scipy in /usr/local/lib/python3.12/dist-packages (from mesa) (1.16.2)\n",
            "Requirement already satisfied: tqdm in /usr/local/lib/python3.12/dist-packages (from mesa) (4.67.1)\n",
            "Requirement already satisfied: python-dateutil>=2.8.2 in /usr/local/lib/python3.12/dist-packages (from pandas->mesa) (2.9.0.post0)\n",
            "Requirement already satisfied: pytz>=2020.1 in /usr/local/lib/python3.12/dist-packages (from pandas->mesa) (2025.2)\n",
            "Requirement already satisfied: tzdata>=2022.7 in /usr/local/lib/python3.12/dist-packages (from pandas->mesa) (2025.2)\n",
            "Requirement already satisfied: six>=1.5 in /usr/local/lib/python3.12/dist-packages (from python-dateutil>=2.8.2->pandas->mesa) (1.17.0)\n"
          ]
        }
      ]
    },
    {
      "cell_type": "code",
      "source": [
        "import mesa"
      ],
      "metadata": {
        "id": "BpETuK1aVZqL"
      },
      "execution_count": 9,
      "outputs": []
    },
    {
      "cell_type": "code",
      "execution_count": 10,
      "metadata": {
        "id": "mwOvR8X5MloB"
      },
      "outputs": [],
      "source": [
        "from mesa import Agent, Model\n",
        "from mesa.space import MultiGrid\n",
        "import random\n",
        "import heapq"
      ]
    },
    {
      "cell_type": "markdown",
      "source": [
        "## Creacion de Agentes y Modelo"
      ],
      "metadata": {
        "id": "0Yzh0FNcWtBf"
      }
    },
    {
      "cell_type": "code",
      "source": [
        "class Paciente(Agent):\n",
        "  def __init__(self, unique_id, model):\n",
        "        super().__init__(unique_id, model)\n",
        "        self.prioridad = None\n",
        "        self.atendido = False\n",
        "\n",
        "  def step(self):\n",
        "    pass\n",
        "\n",
        "class Triaje(Agent):\n",
        "  def __init__(self, unique_id, model):\n",
        "        super().__init__(unique_id, model)\n",
        "        self.ocupado = False\n",
        "\n",
        "  def step(self):\n",
        "    if not self.ocupado and len(self.model.pacientes_sin_triaje) > 0:\n",
        "      paciente = self.model.pacientes_sin_triaje.pop(0)\n",
        "      self.asignar_prioridad(paciente)\n",
        "\n",
        "  def asignar_prioridad(self, paciente):\n",
        "    r = random.random()\n",
        "    if r < 0.05: paciente.prioridad = 1\n",
        "    elif r < 0.20: paciente.prioridad = 2\n",
        "    elif r < 0.50: paciente.prioridad = 3\n",
        "    elif r < 0.80: paciente.prioridad = 4\n",
        "    else: paciente.prioridad = 5\n",
        "\n",
        "    heapq.heappush(self.model.cola_prioridad, (paciente.prioridad, paciente))\n",
        "\n",
        "class Doctor(Agent):\n",
        "  def __init__(self, unique_id, model):\n",
        "        super().__init__(unique_id, model)\n",
        "        self.ocupado = False\n",
        "        self.paciente_actual = None\n",
        "\n",
        "  def step(self):\n",
        "    if not self.ocupado and len(self.model.cola_prioridad) > 0:\n",
        "      _, paciente = heapq.heappop(self.model.cola_prioridad)\n",
        "      self.atender(paciente)\n",
        "\n",
        "    elif self.ocupado:\n",
        "      self.ocupado = False\n",
        "      self.paciente_actual = None\n",
        "\n",
        "  def atender(self, paciente):\n",
        "    self.ocupado = True\n",
        "    self.paciente_actual = paciente\n",
        "    paciente.atendido = True\n",
        "    self.model.pacientes_atendidos += 1\n",
        "\n",
        "class Clinica(Model):\n",
        "  def __init__(self, n_doctores, tasa_llegada):\n",
        "    self.pacientes_sin_triaje = []\n",
        "    self.cola_prioridad = []\n",
        "    self.pacientes_atendidos = 0\n"
      ],
      "metadata": {
        "id": "Ai5bFnsVWwqz"
      },
      "execution_count": 12,
      "outputs": []
    },
    {
      "cell_type": "code",
      "source": [],
      "metadata": {
        "id": "Oz_IzCSuhERP"
      },
      "execution_count": null,
      "outputs": []
    }
  ]
}