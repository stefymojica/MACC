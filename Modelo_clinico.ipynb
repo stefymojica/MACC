{
  "nbformat": 4,
  "nbformat_minor": 0,
  "metadata": {
    "colab": {
      "provenance": [],
      "authorship_tag": "ABX9TyP4MlYktivtLxofHW5UEISH",
      "include_colab_link": true
    },
    "kernelspec": {
      "name": "python3",
      "display_name": "Python 3"
    },
    "language_info": {
      "name": "python"
    }
  },
  "cells": [
    {
      "cell_type": "markdown",
      "metadata": {
        "id": "view-in-github",
        "colab_type": "text"
      },
      "source": [
        "<a href=\"https://colab.research.google.com/github/stefymojica/MACC/blob/main/Modelo_clinico.ipynb\" target=\"_parent\"><img src=\"https://colab.research.google.com/assets/colab-badge.svg\" alt=\"Open In Colab\"/></a>"
      ]
    },
    {
      "cell_type": "markdown",
      "source": [
        "# Agente para la optimizacion de recursos en un modelo clinico\n",
        "## Matematicas aplicadas y ciencias de la computacion\n",
        "## Estudiante : Stefany Paola Mojica Melo"
      ],
      "metadata": {
        "id": "cDN_RgjbWIb7"
      }
    },
    {
      "cell_type": "markdown",
      "source": [
        "## Contextualizacion\n",
        "\n",
        "Este agente simula una clinica privada de alta complejidad en horas de la tarde/noche, donde se concentra el mayor flujo de pacientes y la carga asistencial critica\n",
        "\n",
        "- 1 tick corresponde 1 minutos, 20 ticks corresponde a 20 minutos y asi sucesivamente\n",
        "- Hay 3 agentes:\n",
        "  - pacientes\n",
        "  - medicos\n",
        "  - triaje\n",
        "- Hay un modelo\n",
        "  - Clinica donde los agentes van a interactuar\n",
        "- En el triaje atienden 2 doctores y aproximadamente se demoran 10 minutos atendiendo a los pacientes - falta\n",
        "- Hay pacientes de manera aleatoria que llegan en nivel 5 y los envian nuevamente a sus casas\n",
        "- Los pacientes llegan y el triaje asigna el nivel de riesgo dependiendo de la situacion del paciente\n",
        "- A la clinica llegan cada 1 hora  entre 15 a 22 pacientes\n",
        "- Los doctores tienen un tiempo especifico que se toman para tratar a los pacientes de acuerdo a su nivel de criticidad que le haya asignado el triaje\n",
        "- los pacientes llegan y el triaje les asigana un nivel de criticidad son 5 niveles.\n",
        "  - nivel 1 - situacion de riesgo vital, requiere accion inmediata\n",
        "    - Minutos de atencion: 30 minutos maximo\n",
        "  - nivel 2 - Emergencia. requiere atencion en un tiempo maximo de 30 minutos\n",
        "    - Minutos de atencion:\n",
        "  - nivel 3 - Urgencia. se debe atender en un tiempo no mayor a 30 minutos\n",
        "    - Minutos de atencion:\n",
        "  - nivel 4 - urgencia menor. Puede esperar hasta 120 minutos\n",
        "    - Minutos de atencion:\n",
        "  - nivel 5 - sin urgencia. puede esperar hasta 180 minutos\n",
        "    - Minutos de atencion:"
      ],
      "metadata": {
        "id": "VjACh3IjPKNT"
      }
    },
    {
      "cell_type": "markdown",
      "source": [
        "## Instalar librerias"
      ],
      "metadata": {
        "id": "stctzpQpWofp"
      }
    },
    {
      "cell_type": "code",
      "source": [
        "%pip install mesa"
      ],
      "metadata": {
        "colab": {
          "base_uri": "https://localhost:8080/"
        },
        "id": "HforbzMnU5Pk",
        "outputId": "afd24929-5f94-4019-c3fc-b4e39471f4ad"
      },
      "execution_count": 2,
      "outputs": [
        {
          "output_type": "stream",
          "name": "stdout",
          "text": [
            "Collecting mesa\n",
            "  Downloading mesa-3.3.0-py3-none-any.whl.metadata (11 kB)\n",
            "Requirement already satisfied: numpy in /usr/local/lib/python3.12/dist-packages (from mesa) (2.0.2)\n",
            "Requirement already satisfied: pandas in /usr/local/lib/python3.12/dist-packages (from mesa) (2.2.2)\n",
            "Requirement already satisfied: scipy in /usr/local/lib/python3.12/dist-packages (from mesa) (1.16.2)\n",
            "Requirement already satisfied: tqdm in /usr/local/lib/python3.12/dist-packages (from mesa) (4.67.1)\n",
            "Requirement already satisfied: python-dateutil>=2.8.2 in /usr/local/lib/python3.12/dist-packages (from pandas->mesa) (2.9.0.post0)\n",
            "Requirement already satisfied: pytz>=2020.1 in /usr/local/lib/python3.12/dist-packages (from pandas->mesa) (2025.2)\n",
            "Requirement already satisfied: tzdata>=2022.7 in /usr/local/lib/python3.12/dist-packages (from pandas->mesa) (2025.2)\n",
            "Requirement already satisfied: six>=1.5 in /usr/local/lib/python3.12/dist-packages (from python-dateutil>=2.8.2->pandas->mesa) (1.17.0)\n",
            "Downloading mesa-3.3.0-py3-none-any.whl (239 kB)\n",
            "\u001b[2K   \u001b[90m━━━━━━━━━━━━━━━━━━━━━━━━━━━━━━━━━━━━━━━━\u001b[0m \u001b[32m239.6/239.6 kB\u001b[0m \u001b[31m5.4 MB/s\u001b[0m eta \u001b[36m0:00:00\u001b[0m\n",
            "\u001b[?25hInstalling collected packages: mesa\n",
            "Successfully installed mesa-3.3.0\n"
          ]
        }
      ]
    },
    {
      "cell_type": "code",
      "source": [
        "import mesa\n",
        "print(\"Versión de Mesa instalada:\", mesa.__version__)"
      ],
      "metadata": {
        "colab": {
          "base_uri": "https://localhost:8080/"
        },
        "id": "V0OkDsFZaw9D",
        "outputId": "7b4069fb-7d49-4755-f2ea-566d111d154e"
      },
      "execution_count": 3,
      "outputs": [
        {
          "output_type": "stream",
          "name": "stdout",
          "text": [
            "Versión de Mesa instalada: 3.3.0\n"
          ]
        }
      ]
    },
    {
      "cell_type": "code",
      "execution_count": 4,
      "metadata": {
        "id": "mwOvR8X5MloB"
      },
      "outputs": [],
      "source": [
        "from mesa import Agent, Model\n",
        "from mesa.space import MultiGrid\n",
        "from mesa.datacollection import DataCollector\n",
        "import random\n",
        "import heapq"
      ]
    },
    {
      "cell_type": "markdown",
      "source": [
        "## Creacion de Agentes y Modelo"
      ],
      "metadata": {
        "id": "0Yzh0FNcWtBf"
      }
    },
    {
      "cell_type": "code",
      "source": [
        "class SchedulerManual:\n",
        "    def __init__(self, model):\n",
        "        self.model = model\n",
        "        self.agents = []\n",
        "\n",
        "    def add(self, agent):\n",
        "        self.agents.append(agent)\n",
        "\n",
        "    def step(self):\n",
        "        random.shuffle(self.agents)\n",
        "        for agent in self.agents:\n",
        "            agent.step()\n",
        "\n",
        "class Paciente(Agent):\n",
        "    def __init__(self, unique_id, model):\n",
        "        super().__init__(model)\n",
        "        self.unique_id = unique_id\n",
        "        self.prioridad = None\n",
        "        self.atendido = False\n",
        "\n",
        "    def step(self):\n",
        "        pass\n",
        "\n",
        "class Triaje(Agent):\n",
        "    def __init__(self, unique_id, model):\n",
        "        super().__init__(model)\n",
        "        self.unique_id = unique_id\n",
        "\n",
        "    def step(self):\n",
        "        if len(self.model.pacientes_sin_triaje) > 0:\n",
        "            paciente = self.model.pacientes_sin_triaje.pop(0)\n",
        "            self.asignar_prioridad(paciente)\n",
        "\n",
        "    def asignar_prioridad(self, paciente):\n",
        "        r = random.random()\n",
        "        if   r < 0.05: paciente.prioridad = 1\n",
        "        elif r < 0.20: paciente.prioridad = 2\n",
        "        elif r < 0.50: paciente.prioridad = 3\n",
        "        elif r < 0.80: paciente.prioridad = 4\n",
        "        else:          paciente.prioridad = 5\n",
        "        heapq.heappush(self.model.cola_prioridad_triaje, (paciente.prioridad, paciente.unique_id, paciente))\n",
        "\n",
        "class Doctor(Agent):\n",
        "    def __init__(self, unique_id, model):\n",
        "        super().__init__(model)\n",
        "        self.unique_id = unique_id\n",
        "        self.ocupado = False\n",
        "        self.paciente_actual = None\n",
        "        self.tiempo_restante = 0\n",
        "\n",
        "    def step(self):\n",
        "\n",
        "        if self.ocupado:\n",
        "            self.tiempo_restante -= 1\n",
        "            if self.tiempo_restante <= 0:\n",
        "                self.ocupado = False\n",
        "                self.paciente_actual = None\n",
        "            return\n",
        "\n",
        "        # si hay pacientes con prioridad toma al mas urgente\n",
        "        if len(self.model.cola_prioridad_triaje) > 0:\n",
        "            _, _, paciente = heapq.heappop(self.model.cola_prioridad_triaje)\n",
        "            self.atender(paciente)\n",
        "\n",
        "    def atender(self, paciente):\n",
        "        self.ocupado = True\n",
        "        self.paciente_actual = paciente\n",
        "        paciente.atendido = True\n",
        "        self.model.pacientes_atendidos += 1\n",
        "\n",
        "        tiempo_por_prioridad = {1: 20, 2: 15, 3: 12, 4: 10, 5: 10}\n",
        "        self.tiempo_restante = tiempo_por_prioridad[paciente.prioridad]\n",
        "\n",
        "class Clinica(Model):\n",
        "    def __init__(self, n_doctores, semilla=None):\n",
        "        super().__init__()\n",
        "        if semilla is not None:\n",
        "            random.seed(semilla)\n",
        "\n",
        "        self.n_doctores = n_doctores\n",
        "        self.pacientes_sin_triaje = []   # pacientes sin prioridad\n",
        "        self.cola_prioridad_triaje = []  # pacientes que se les asigno prioridad\n",
        "        self.pacientes_atendidos = 0\n",
        "        self.tick = 0\n",
        "\n",
        "        self.schedule = SchedulerManual(self)\n",
        "\n",
        "        for d in range(n_doctores):\n",
        "            self.schedule.add(Doctor(f\"D{d}\", self))\n",
        "\n",
        "\n",
        "        self.triaje = Triaje(\"T1\", self)\n",
        "        self.schedule.add(self.triaje)\n",
        "\n",
        "    def _llegada_ola(self):\n",
        "        # En 1 hora, llega una ola de 15 a 22 pacientes\n",
        "        if self.tick % 60 == 0:\n",
        "            nuevos = random.randint(15,22)\n",
        "            for i in range(nuevos):\n",
        "                pid = f\"P{self.tick}_{i}\"\n",
        "                p = Paciente(pid, self)\n",
        "                self.schedule.add(p)\n",
        "                self.pacientes_sin_triaje.append(p)\n",
        "\n",
        "    def step(self):\n",
        "        self._llegada_ola()\n",
        "        self.schedule.step()\n",
        "        self.tick += 1\n",
        "\n",
        "    def mostrar_estado(self):\n",
        "        h = self.tick // 60\n",
        "        m = self.tick % 60\n",
        "        print(f\"\\n===== MINUTO {self.tick} ({h:02d}:{m:02d}) =====\")\n",
        "\n",
        "\n",
        "        if len(self.cola_prioridad_triaje) == 0:\n",
        "            print(\"Cola de espera: VACÍA\")\n",
        "        else:\n",
        "            cola_legible = [(prio, pac.unique_id) for (prio, _, pac) in self.cola_prioridad_triaje]\n",
        "            print(\"Cola de espera (prioridad, paciente):\", cola_legible)\n",
        "\n",
        "        for ag in self.schedule.agents:\n",
        "            if isinstance(ag, Doctor):\n",
        "                if ag.ocupado:\n",
        "                    print(f\"👨‍⚕️ Doctor {ag.unique_id} atendiendo a {ag.paciente_actual.unique_id} \"\n",
        "                          f\"(restan {ag.tiempo_restante} min)\")\n",
        "                else:\n",
        "                    print(f\"✅ Doctor {ag.unique_id} está libre\")\n",
        "\n",
        "        #print(f\"📈 Total atendidos: {self.pacientes_atendidos}\")\n",
        "\n",
        "        pacientes_faltantes = len(self.cola_prioridad_triaje) + len(self.pacientes_sin_triaje)\n",
        "        print(f\"📈 Total atendidos: {self.pacientes_atendidos}\")\n",
        "        print(f\"⏳ Pacientes en espera total: {pacientes_faltantes}\")"
      ],
      "metadata": {
        "id": "LJOoMSY_V3X0"
      },
      "execution_count": 12,
      "outputs": []
    },
    {
      "cell_type": "code",
      "source": [
        "if __name__ == \"__main__\":\n",
        "    clinica = Clinica(n_doctores=2, semilla=42)\n",
        "    for _ in range(180):\n",
        "        clinica.step()\n",
        "        if clinica.tick % 30 == 0:\n",
        "            clinica.mostrar_estado()"
      ],
      "metadata": {
        "colab": {
          "base_uri": "https://localhost:8080/"
        },
        "id": "Oz_IzCSuhERP",
        "outputId": "f9cf562d-fe15-4c90-cbb0-7d08da49a649"
      },
      "execution_count": 15,
      "outputs": [
        {
          "output_type": "stream",
          "name": "stdout",
          "text": [
            "\n",
            "===== MINUTO 30 (00:30) =====\n",
            "Cola de espera (prioridad, paciente): [(2, 'P0_6'), (2, 'P0_9'), (2, 'P0_8'), (3, 'P0_10'), (4, 'P0_7'), (4, 'P0_15'), (3, 'P0_4'), (5, 'P0_5'), (4, 'P0_11'), (5, 'P0_2'), (5, 'P0_12')]\n",
            "👨‍⚕️ Doctor D0 atendiendo a P0_14 (restan 13 min)\n",
            "👨‍⚕️ Doctor D1 atendiendo a P0_13 (restan 9 min)\n",
            "📈 Total atendidos: 5\n",
            "⏳ Pacientes en espera total: 11\n",
            "\n",
            "===== MINUTO 60 (01:00) =====\n",
            "Cola de espera (prioridad, paciente): [(3, 'P0_4'), (4, 'P0_11'), (4, 'P0_15'), (5, 'P0_2'), (4, 'P0_7'), (5, 'P0_5'), (5, 'P0_12')]\n",
            "👨‍⚕️ Doctor D0 atendiendo a P0_10 (restan 12 min)\n",
            "👨‍⚕️ Doctor D1 atendiendo a P0_9 (restan 11 min)\n",
            "📈 Total atendidos: 9\n",
            "⏳ Pacientes en espera total: 7\n",
            "\n",
            "===== MINUTO 90 (01:30) =====\n",
            "Cola de espera (prioridad, paciente): [(3, 'P60_13'), (3, 'P60_16'), (3, 'P60_5'), (3, 'P60_9'), (3, 'P60_17'), (4, 'P0_15'), (5, 'P0_12'), (4, 'P60_0'), (4, 'P0_11'), (4, 'P0_7'), (3, 'P60_4'), (5, 'P0_5'), (5, 'P60_1'), (5, 'P60_6'), (5, 'P60_7'), (5, 'P0_2'), (4, 'P60_8'), (5, 'P60_10'), (4, 'P60_11'), (5, 'P60_2'), (4, 'P60_14'), (5, 'P60_3')]\n",
            "👨‍⚕️ Doctor D1 atendiendo a P60_15 (restan 15 min)\n",
            "👨‍⚕️ Doctor D0 atendiendo a P60_12 (restan 3 min)\n",
            "📈 Total atendidos: 12\n",
            "⏳ Pacientes en espera total: 22\n",
            "\n",
            "===== MINUTO 120 (02:00) =====\n",
            "Cola de espera (prioridad, paciente): [(3, 'P60_9'), (4, 'P0_11'), (4, 'P0_15'), (4, 'P60_0'), (4, 'P0_7'), (5, 'P0_5'), (5, 'P0_12'), (4, 'P60_8'), (4, 'P60_11'), (4, 'P60_14'), (5, 'P60_3'), (5, 'P60_2'), (5, 'P60_1'), (5, 'P60_6'), (5, 'P60_7'), (5, 'P0_2'), (5, 'P60_10')]\n",
            "👨‍⚕️ Doctor D1 atendiendo a P60_4 (restan 11 min)\n",
            "👨‍⚕️ Doctor D0 atendiendo a P60_5 (restan 12 min)\n",
            "📈 Total atendidos: 17\n",
            "⏳ Pacientes en espera total: 17\n",
            "\n",
            "===== MINUTO 150 (02:30) =====\n",
            "Cola de espera (prioridad, paciente): [(3, 'P120_12'), (3, 'P120_16'), (3, 'P120_15'), (3, 'P120_3'), (3, 'P60_9'), (4, 'P0_15'), (3, 'P120_7'), (4, 'P120_0'), (4, 'P120_1'), (4, 'P0_11'), (5, 'P120_11'), (5, 'P0_5'), (5, 'P120_8'), (4, 'P120_10'), (4, 'P120_14'), (4, 'P60_8'), (4, 'P120_18'), (4, 'P120_20'), (4, 'P60_0'), (4, 'P60_14'), (4, 'P0_7'), (5, 'P60_3'), (5, 'P60_6'), (5, 'P60_2'), (5, 'P120_6'), (5, 'P60_1'), (5, 'P120_9'), (5, 'P0_12'), (5, 'P120_13'), (5, 'P60_7'), (4, 'P120_21'), (5, 'P0_2'), (5, 'P120_17'), (5, 'P60_10'), (4, 'P120_19'), (4, 'P60_11')]\n",
            "👨‍⚕️ Doctor D1 atendiendo a P120_4 (restan 2 min)\n",
            "👨‍⚕️ Doctor D0 atendiendo a P120_5 (restan 14 min)\n",
            "📈 Total atendidos: 20\n",
            "⏳ Pacientes en espera total: 36\n",
            "\n",
            "===== MINUTO 180 (03:00) =====\n",
            "Cola de espera (prioridad, paciente): [(3, 'P60_9'), (4, 'P0_11'), (4, 'P0_15'), (4, 'P120_0'), (4, 'P0_7'), (5, 'P0_5'), (4, 'P120_10'), (4, 'P120_18'), (4, 'P120_1'), (4, 'P60_14'), (5, 'P120_11'), (5, 'P120_17'), (5, 'P120_8'), (4, 'P60_11'), (4, 'P120_14'), (4, 'P60_8'), (4, 'P120_19'), (4, 'P120_20'), (4, 'P60_0'), (5, 'P0_2'), (5, 'P60_10'), (5, 'P60_3'), (5, 'P60_6'), (5, 'P60_2'), (5, 'P120_6'), (5, 'P60_1'), (5, 'P120_9'), (5, 'P0_12'), (5, 'P120_13'), (5, 'P60_7'), (4, 'P120_21')]\n",
            "👨‍⚕️ Doctor D1 atendiendo a P120_7 (restan 11 min)\n",
            "👨‍⚕️ Doctor D0 atendiendo a P120_3 (restan 10 min)\n",
            "📈 Total atendidos: 25\n",
            "⏳ Pacientes en espera total: 31\n"
          ]
        }
      ]
    },
    {
      "cell_type": "code",
      "source": [],
      "metadata": {
        "id": "_ZL89WCFqTDw"
      },
      "execution_count": 11,
      "outputs": []
    }
  ]
}