{
  "nbformat": 4,
  "nbformat_minor": 0,
  "metadata": {
    "colab": {
      "provenance": [],
      "authorship_tag": "ABX9TyOKnej38BPXQ0ALpYwX5s8Q",
      "include_colab_link": true
    },
    "kernelspec": {
      "name": "python3",
      "display_name": "Python 3"
    },
    "language_info": {
      "name": "python"
    }
  },
  "cells": [
    {
      "cell_type": "markdown",
      "metadata": {
        "id": "view-in-github",
        "colab_type": "text"
      },
      "source": [
        "<a href=\"https://colab.research.google.com/github/stefymojica/MACC/blob/main/Modelo_clinico.ipynb\" target=\"_parent\"><img src=\"https://colab.research.google.com/assets/colab-badge.svg\" alt=\"Open In Colab\"/></a>"
      ]
    },
    {
      "cell_type": "markdown",
      "source": [
        "# Agente para la optimizacion de recursos en un modelo clinico\n",
        "## Matematicas aplicadas y ciencias de la computacion\n",
        "## Estudiante : Stefany Paola Mojica Melo"
      ],
      "metadata": {
        "id": "cDN_RgjbWIb7"
      }
    },
    {
      "cell_type": "markdown",
      "source": [
        "## Contextualizacion\n",
        "\n",
        "- Hay 3 agentes:\n",
        "  - pacientes\n",
        "  - medicos\n",
        "  - triaja\n",
        "- Hay un modelo\n",
        "  - Clinica donde los agentes van a interactuar\n",
        "- Los pacientes llegan y el triaje asigna el nivel de riesgo dependiendo de la situacion del paciente\n",
        "- A la clinica llegan cada 25 minutos un nuevo paciente\n",
        "- Los doctores se demoran 15 minutos para descubrir que le sucede a un paciennte -\n",
        "- los pacientes llegan el nivel de criticidad son 5 niveles.\n",
        "  - nivel 1 - situacion de riesgo vital, requiere accion inmediata\n",
        "  - nivel 2 - Emergencia. requiere atencion en un tiempo maximo de 30 minutos\n",
        "  - nivel 3 - Urgencia. se debe atender en un tiempo no mayor a 30 minutos\n",
        "  - nivel 4 - urgencia menor. Puede esperar hasta 120 minutos\n",
        "  - nivel 5 - sin urgencia. puede esperar hasta 180 minutos"
      ],
      "metadata": {
        "id": "VjACh3IjPKNT"
      }
    },
    {
      "cell_type": "markdown",
      "source": [
        "## Instalar librerias"
      ],
      "metadata": {
        "id": "stctzpQpWofp"
      }
    },
    {
      "cell_type": "code",
      "source": [
        "%pip install mesa"
      ],
      "metadata": {
        "colab": {
          "base_uri": "https://localhost:8080/"
        },
        "id": "HforbzMnU5Pk",
        "outputId": "8c57bdf0-f878-4036-959c-4fc759754204"
      },
      "execution_count": 11,
      "outputs": [
        {
          "output_type": "stream",
          "name": "stdout",
          "text": [
            "Requirement already satisfied: mesa in /usr/local/lib/python3.12/dist-packages (3.3.0)\n",
            "Requirement already satisfied: numpy in /usr/local/lib/python3.12/dist-packages (from mesa) (2.0.2)\n",
            "Requirement already satisfied: pandas in /usr/local/lib/python3.12/dist-packages (from mesa) (2.2.2)\n",
            "Requirement already satisfied: scipy in /usr/local/lib/python3.12/dist-packages (from mesa) (1.16.2)\n",
            "Requirement already satisfied: tqdm in /usr/local/lib/python3.12/dist-packages (from mesa) (4.67.1)\n",
            "Requirement already satisfied: python-dateutil>=2.8.2 in /usr/local/lib/python3.12/dist-packages (from pandas->mesa) (2.9.0.post0)\n",
            "Requirement already satisfied: pytz>=2020.1 in /usr/local/lib/python3.12/dist-packages (from pandas->mesa) (2025.2)\n",
            "Requirement already satisfied: tzdata>=2022.7 in /usr/local/lib/python3.12/dist-packages (from pandas->mesa) (2025.2)\n",
            "Requirement already satisfied: six>=1.5 in /usr/local/lib/python3.12/dist-packages (from python-dateutil>=2.8.2->pandas->mesa) (1.17.0)\n"
          ]
        }
      ]
    },
    {
      "cell_type": "code",
      "source": [
        "import mesa"
      ],
      "metadata": {
        "id": "BpETuK1aVZqL"
      },
      "execution_count": 9,
      "outputs": []
    },
    {
      "cell_type": "code",
      "execution_count": 10,
      "metadata": {
        "id": "mwOvR8X5MloB"
      },
      "outputs": [],
      "source": [
        "from mesa import Agent, Model\n",
        "from mesa.space import MultiGrid\n",
        "import random\n",
        "import heapq"
      ]
    },
    {
      "cell_type": "markdown",
      "source": [
        "## Creacion de Agentes y Modelo"
      ],
      "metadata": {
        "id": "0Yzh0FNcWtBf"
      }
    },
    {
      "cell_type": "code",
      "source": [],
      "metadata": {
        "id": "Ai5bFnsVWwqz"
      },
      "execution_count": null,
      "outputs": []
    }
  ]
}