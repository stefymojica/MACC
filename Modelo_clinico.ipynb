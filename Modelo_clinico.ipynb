{
  "nbformat": 4,
  "nbformat_minor": 0,
  "metadata": {
    "colab": {
      "provenance": [],
      "authorship_tag": "ABX9TyMlrKvYweZG8oJIzLUBrzxU",
      "include_colab_link": true
    },
    "kernelspec": {
      "name": "python3",
      "display_name": "Python 3"
    },
    "language_info": {
      "name": "python"
    }
  },
  "cells": [
    {
      "cell_type": "markdown",
      "metadata": {
        "id": "view-in-github",
        "colab_type": "text"
      },
      "source": [
        "<a href=\"https://colab.research.google.com/github/stefymojica/MACC/blob/main/Modelo_clinico.ipynb\" target=\"_parent\"><img src=\"https://colab.research.google.com/assets/colab-badge.svg\" alt=\"Open In Colab\"/></a>"
      ]
    },
    {
      "cell_type": "markdown",
      "source": [
        "# Agente para la optimizacion de recursos en un modelo clinico\n",
        "## Matematicas aplicadas y ciencias de la computacion\n",
        "## Estudiante : Stefany Paola Mojica Melo"
      ],
      "metadata": {
        "id": "cDN_RgjbWIb7"
      }
    },
    {
      "cell_type": "markdown",
      "source": [
        "## Contextualizacion\n",
        "\n",
        "- Hay 3 agentes:\n",
        "  - pacientes\n",
        "  - medicos\n",
        "  - triaja\n",
        "- Hay un modelo\n",
        "  - Clinica donde los agentes van a interactuar\n",
        "- Los pacientes llegan y el triaje asigna el nivel de riesgo dependiendo de la situacion del paciente\n",
        "- A la clinica llegan cada 25 minutos un nuevo paciente\n",
        "- Los doctores se demoran 15 minutos para descubrir que le sucede a un paciennte -\n",
        "- los pacientes llegan y el triaje les asigana un nivel de criticidad son 5 niveles.\n",
        "  - nivel 1 - situacion de riesgo vital, requiere accion inmediata\n",
        "  - nivel 2 - Emergencia. requiere atencion en un tiempo maximo de 30 minutos\n",
        "  - nivel 3 - Urgencia. se debe atender en un tiempo no mayor a 30 minutos\n",
        "  - nivel 4 - urgencia menor. Puede esperar hasta 120 minutos\n",
        "  - nivel 5 - sin urgencia. puede esperar hasta 180 minutos"
      ],
      "metadata": {
        "id": "VjACh3IjPKNT"
      }
    },
    {
      "cell_type": "markdown",
      "source": [
        "## Instalar librerias"
      ],
      "metadata": {
        "id": "stctzpQpWofp"
      }
    },
    {
      "cell_type": "code",
      "source": [
        "%pip install mesa"
      ],
      "metadata": {
        "colab": {
          "base_uri": "https://localhost:8080/"
        },
        "id": "HforbzMnU5Pk",
        "outputId": "bbd22ab6-5b4f-47ec-fab1-427019d69e9f"
      },
      "execution_count": null,
      "outputs": [
        {
          "output_type": "stream",
          "name": "stdout",
          "text": [
            "Collecting mesa\n",
            "  Downloading mesa-3.3.0-py3-none-any.whl.metadata (11 kB)\n",
            "Requirement already satisfied: numpy in /usr/local/lib/python3.12/dist-packages (from mesa) (2.0.2)\n",
            "Requirement already satisfied: pandas in /usr/local/lib/python3.12/dist-packages (from mesa) (2.2.2)\n",
            "Requirement already satisfied: scipy in /usr/local/lib/python3.12/dist-packages (from mesa) (1.16.2)\n",
            "Requirement already satisfied: tqdm in /usr/local/lib/python3.12/dist-packages (from mesa) (4.67.1)\n",
            "Requirement already satisfied: python-dateutil>=2.8.2 in /usr/local/lib/python3.12/dist-packages (from pandas->mesa) (2.9.0.post0)\n",
            "Requirement already satisfied: pytz>=2020.1 in /usr/local/lib/python3.12/dist-packages (from pandas->mesa) (2025.2)\n",
            "Requirement already satisfied: tzdata>=2022.7 in /usr/local/lib/python3.12/dist-packages (from pandas->mesa) (2025.2)\n",
            "Requirement already satisfied: six>=1.5 in /usr/local/lib/python3.12/dist-packages (from python-dateutil>=2.8.2->pandas->mesa) (1.17.0)\n",
            "Downloading mesa-3.3.0-py3-none-any.whl (239 kB)\n",
            "\u001b[2K   \u001b[90m━━━━━━━━━━━━━━━━━━━━━━━━━━━━━━━━━━━━━━━━\u001b[0m \u001b[32m239.6/239.6 kB\u001b[0m \u001b[31m5.4 MB/s\u001b[0m eta \u001b[36m0:00:00\u001b[0m\n",
            "\u001b[?25hInstalling collected packages: mesa\n",
            "Successfully installed mesa-3.3.0\n"
          ]
        }
      ]
    },
    {
      "cell_type": "code",
      "source": [
        "import mesa"
      ],
      "metadata": {
        "id": "BpETuK1aVZqL"
      },
      "execution_count": null,
      "outputs": []
    },
    {
      "cell_type": "code",
      "source": [
        "import mesa\n",
        "print(\"Versión de Mesa instalada:\", mesa.__version__)"
      ],
      "metadata": {
        "colab": {
          "base_uri": "https://localhost:8080/"
        },
        "id": "V0OkDsFZaw9D",
        "outputId": "37a9cf71-3de0-4076-d2f5-90ccf63d441c"
      },
      "execution_count": null,
      "outputs": [
        {
          "output_type": "stream",
          "name": "stdout",
          "text": [
            "Versión de Mesa instalada: 3.3.0\n"
          ]
        }
      ]
    },
    {
      "cell_type": "code",
      "execution_count": null,
      "metadata": {
        "id": "mwOvR8X5MloB"
      },
      "outputs": [],
      "source": [
        "from mesa import Agent, Model\n",
        "from mesa.space import MultiGrid\n",
        "from mesa.datacollection import DataCollector\n",
        "import random\n",
        "import heapq"
      ]
    },
    {
      "cell_type": "markdown",
      "source": [
        "## Creacion de Agentes y Modelo"
      ],
      "metadata": {
        "id": "0Yzh0FNcWtBf"
      }
    },
    {
      "cell_type": "code",
      "source": [
        "class SchedulerManual:\n",
        "    def __init__(self, model):\n",
        "        self.model = model\n",
        "        self.agents = []\n",
        "\n",
        "    def add(self, agent):\n",
        "        self.agents.append(agent)\n",
        "\n",
        "    def step(self):\n",
        "        random.shuffle(self.agents)\n",
        "        for agent in self.agents:\n",
        "            agent.step()\n",
        "\n",
        "class Paciente(Agent):\n",
        "  def __init__(self, unique_id, model):\n",
        "        super().__init__(model)\n",
        "        self.unique_id = unique_id\n",
        "        self.prioridad = None\n",
        "        self.atendido = False\n",
        "\n",
        "  def step(self):\n",
        "    pass\n",
        "\n",
        "class Triaje(Agent):\n",
        "  def __init__(self, unique_id, model):\n",
        "        super().__init__(model)\n",
        "        self.unique_id = unique_id\n",
        "        self.ocupado = False\n",
        "\n",
        "  def step(self):\n",
        "    if not self.ocupado and len(self.model.pacientes_sin_triaje) > 0:\n",
        "      paciente = self.model.pacientes_sin_triaje.pop(0)\n",
        "      self.asignar_prioridad(paciente)\n",
        "\n",
        "  def asignar_prioridad(self, paciente):\n",
        "    r = random.random()\n",
        "    if r < 0.05: paciente.prioridad = 1\n",
        "    elif r < 0.20: paciente.prioridad = 2\n",
        "    elif r < 0.50: paciente.prioridad = 3\n",
        "    elif r < 0.80: paciente.prioridad = 4\n",
        "    else: paciente.prioridad = 5\n",
        "\n",
        "    heapq.heappush(self.model.cola_prioridad_triaje, (paciente.prioridad, paciente))\n",
        "\n",
        "class Doctor(Agent):\n",
        "  def __init__(self, unique_id, model):\n",
        "        super().__init__(model)\n",
        "        self.unique_id = unique_id\n",
        "        self.ocupado = False\n",
        "        self.paciente_actual = None\n",
        "\n",
        "  def step(self):\n",
        "    if not self.ocupado and len(self.model.cola_prioridad_triaje) > 0:\n",
        "      _, paciente = heapq.heappop(self.model.cola_prioridad_triaje)\n",
        "      self.atender(paciente)\n",
        "\n",
        "    elif self.ocupado:\n",
        "      self.ocupado = False\n",
        "      self.paciente_actual = None\n",
        "\n",
        "  def atender(self, paciente):\n",
        "    self.ocupado = True\n",
        "    self.paciente_actual = paciente\n",
        "    paciente.atendido = True\n",
        "    self.model.pacientes_atendidos += 1\n",
        "\n",
        "class Clinica(Model):\n",
        "  def __init__(self, n_doctores, tasa_llegada):\n",
        "    super().__init__()\n",
        "    self.n_doctores = n_doctores\n",
        "    self.tasa_llegada = tasa_llegada\n",
        "    self.pacientes_sin_triaje = []\n",
        "    self.cola_prioridad_triaje = []\n",
        "    self.pacientes_atendidos = 0\n",
        "    self.tick = 0\n",
        "\n",
        "    self.schedule = SchedulerManual(self)\n",
        "    for d in range(n_doctores):\n",
        "      doctor = Doctor(d, self)\n",
        "      print(doctor)\n",
        "      self.schedule.add(doctor)\n",
        "\n",
        "    self.triaje = Triaje(\"T1\", self)\n",
        "    self.schedule.add(self.triaje)\n",
        "\n",
        "  def step(self):\n",
        "    if random.random() < self.tasa_llegada:\n",
        "      paciente = Paciente(f\"Paciente{self.tick}\", self)\n",
        "      self.schedule.add(paciente)\n",
        "      self.pacientes_sin_triaje.append(paciente)\n",
        "\n",
        "    self.triaje.step()\n",
        "    for doctor in self.schedule.agents:\n",
        "      doctor.step()\n",
        "    self.tick += 1"
      ],
      "metadata": {
        "id": "Ai5bFnsVWwqz"
      },
      "execution_count": 30,
      "outputs": []
    },
    {
      "cell_type": "code",
      "source": [
        "model = Clinica(n_doctores=2, tasa_llegada=0.7)\n",
        "for i in range(20):\n",
        "  model.step()\n",
        "  print(f\"Tick: {i} | Pacientes atendidos: {model.pacientes_atendidos} | Pacientes en Cola:{len(model.cola_prioridad_triaje)}\")"
      ],
      "metadata": {
        "colab": {
          "base_uri": "https://localhost:8080/"
        },
        "id": "Oz_IzCSuhERP",
        "outputId": "59065bbc-e7d5-496a-89f3-c3b7ad857663"
      },
      "execution_count": 32,
      "outputs": [
        {
          "output_type": "stream",
          "name": "stdout",
          "text": [
            "<__main__.Doctor object at 0x7b03cae059d0>\n",
            "<__main__.Doctor object at 0x7b03cae07890>\n",
            "Tick: 0 | Pacientes atendidos: 0 | Pacientes en Cola:0\n",
            "Tick: 1 | Pacientes atendidos: 1 | Pacientes en Cola:0\n",
            "Tick: 2 | Pacientes atendidos: 2 | Pacientes en Cola:0\n",
            "Tick: 3 | Pacientes atendidos: 2 | Pacientes en Cola:0\n",
            "Tick: 4 | Pacientes atendidos: 3 | Pacientes en Cola:0\n",
            "Tick: 5 | Pacientes atendidos: 4 | Pacientes en Cola:0\n",
            "Tick: 6 | Pacientes atendidos: 5 | Pacientes en Cola:0\n",
            "Tick: 7 | Pacientes atendidos: 6 | Pacientes en Cola:0\n",
            "Tick: 8 | Pacientes atendidos: 7 | Pacientes en Cola:0\n",
            "Tick: 9 | Pacientes atendidos: 8 | Pacientes en Cola:0\n",
            "Tick: 10 | Pacientes atendidos: 9 | Pacientes en Cola:0\n",
            "Tick: 11 | Pacientes atendidos: 10 | Pacientes en Cola:0\n",
            "Tick: 12 | Pacientes atendidos: 11 | Pacientes en Cola:0\n",
            "Tick: 13 | Pacientes atendidos: 12 | Pacientes en Cola:0\n",
            "Tick: 14 | Pacientes atendidos: 13 | Pacientes en Cola:0\n",
            "Tick: 15 | Pacientes atendidos: 14 | Pacientes en Cola:0\n",
            "Tick: 16 | Pacientes atendidos: 15 | Pacientes en Cola:0\n",
            "Tick: 17 | Pacientes atendidos: 15 | Pacientes en Cola:0\n",
            "Tick: 18 | Pacientes atendidos: 16 | Pacientes en Cola:0\n",
            "Tick: 19 | Pacientes atendidos: 17 | Pacientes en Cola:0\n"
          ]
        }
      ]
    },
    {
      "cell_type": "code",
      "source": [],
      "metadata": {
        "id": "LJOoMSY_V3X0"
      },
      "execution_count": null,
      "outputs": []
    }
  ]
}