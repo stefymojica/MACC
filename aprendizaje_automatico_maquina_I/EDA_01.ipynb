{
  "cells": [
    {
      "cell_type": "markdown",
      "metadata": {
        "colab_type": "text",
        "id": "view-in-github"
      },
      "source": [
        "<a href=\"https://colab.research.google.com/github/stefymojica/MACC/blob/main/EDA_01.ipynb\" target=\"_parent\"><img src=\"https://colab.research.google.com/assets/colab-badge.svg\" alt=\"Open In Colab\"/></a>"
      ]
    },
    {
      "cell_type": "markdown",
      "id": "96ea1acc",
      "metadata": {
        "id": "96ea1acc"
      },
      "source": [
        "# 1. EDA: El Arte de Explorar tus Datos\n",
        "El Análisis Exploratorio de Datos (EDA) es el primer paso crucial en cualquier proyecto de datos. Es como el trabajo de un detective: antes de resolver el caso, necesitas examinar la escena del crimen, recopilar pistas y entender el contexto.\n",
        "\n",
        "## El Proceso EDA\n",
        "\n",
        "1. Define tus Preguntas: ¿Qué quieres descubrir? Tener un objetivo claro guía tu análisis.\n",
        "\n",
        "2. Conoce tus Datos: ¿Cuántas filas y columnas tienes? ¿Hay datos faltantes?\n",
        "\n",
        "3. Identifica las Variables: Distingue entre variables numéricas (edad, precio) y categóricas (género, ubicación).\n",
        "\n",
        "4. Estadística Descriptiva: Calcula resúmenes como promedios, medianas y desviaciones estándar para entender la distribución de tus datos.\n",
        "\n",
        "5. Visualiza: ¡Un gráfico vale más que mil tablas! Usa histogramas, diagramas de caja y gráficos de dispersión para revelar patrones.\n",
        "\n",
        "6. Busca Relaciones: Explora cómo interactúan las variables entre sí.\n",
        "\n",
        "7. Comunica tus Hallazgos: Reporta tus descubrimientos de forma clara y concisa."
      ]
    },
    {
      "cell_type": "markdown",
      "id": "7117faac",
      "metadata": {
        "id": "7117faac"
      },
      "source": [
        "## 2. ¡Manos a la Obra! Análisis Exploratorio en Python\n",
        "Vamos a aplicar lo aprendido analizando un conjunto de datos sobre la diabetes. Usaremos las librerías esenciales para la ciencia de datos en Python.\n",
        "\n",
        "### Librerías Indispensables\n",
        "* Pandas: Tu navaja suiza para manipular y analizar datos estructurados (los famosos DataFrame).\n",
        "\n",
        "* Plotly Express: Una herramienta poderosa para crear gráficos interactivos y atractivos con muy poco código.\n",
        "\n",
        "* Seaborn y Matplotlib: Otras excelentes librerías para visualización de datos.\n",
        "\n",
        "Primero, importemos las librerías que vamos a necesitar."
      ]
    },
    {
      "cell_type": "code",
      "execution_count": 2,
      "id": "c3ac5fdb",
      "metadata": {
        "id": "c3ac5fdb"
      },
      "outputs": [],
      "source": [
        "import pandas as pd\n",
        "import plotly.express as px\n",
        "import seaborn as sb\n",
        "import matplotlib.pyplot as plt"
      ]
    },
    {
      "cell_type": "markdown",
      "id": "8e29bd2a",
      "metadata": {
        "id": "8e29bd2a"
      },
      "source": [
        "### Paso 1: Cargar los Datos\n",
        "Cargaremos los datos directamente desde un repositorio en GitHub. El archivo está en formato CSV (valores separados por comas)."
      ]
    },
    {
      "cell_type": "code",
      "execution_count": 3,
      "id": "a5fd00ba",
      "metadata": {
        "id": "a5fd00ba"
      },
      "outputs": [],
      "source": [
        "# URL del conjunto de datos\n",
        "url = \"https://raw.githubusercontent.com/Fabian830348/Bases_Datos/master/diabetes.csv\"\n",
        "\n",
        "# Leer el archivo CSV y cargarlo en un DataFrame de pandas\n",
        "diabetes = pd.read_csv(url)"
      ]
    },
    {
      "cell_type": "markdown",
      "id": "a29eed0b",
      "metadata": {
        "id": "a29eed0b"
      },
      "source": [
        "### Paso 2: Exploración Inicial\n",
        "Ahora que tenemos los datos, echemos un primer vistazo.\n",
        "\n",
        "Ver las primeras y últimas filas\n",
        "\n",
        "Esto nos da una idea rápida de la estructura y los valores del DataFrame."
      ]
    },
    {
      "cell_type": "code",
      "execution_count": 4,
      "id": "234ca38f",
      "metadata": {
        "colab": {
          "base_uri": "https://localhost:8080/",
          "height": 206
        },
        "id": "234ca38f",
        "outputId": "49b8a0c9-65f6-4282-a1d1-740373413566"
      },
      "outputs": [
        {
          "data": {
            "text/html": [
              "<div>\n",
              "<style scoped>\n",
              "    .dataframe tbody tr th:only-of-type {\n",
              "        vertical-align: middle;\n",
              "    }\n",
              "\n",
              "    .dataframe tbody tr th {\n",
              "        vertical-align: top;\n",
              "    }\n",
              "\n",
              "    .dataframe thead th {\n",
              "        text-align: right;\n",
              "    }\n",
              "</style>\n",
              "<table border=\"1\" class=\"dataframe\">\n",
              "  <thead>\n",
              "    <tr style=\"text-align: right;\">\n",
              "      <th></th>\n",
              "      <th>Pregnancies</th>\n",
              "      <th>Glucose</th>\n",
              "      <th>BloodPressure</th>\n",
              "      <th>SkinThickness</th>\n",
              "      <th>Insulin</th>\n",
              "      <th>BMI</th>\n",
              "      <th>DiabetesPedigreeFunction</th>\n",
              "      <th>Age</th>\n",
              "      <th>Outcome</th>\n",
              "    </tr>\n",
              "  </thead>\n",
              "  <tbody>\n",
              "    <tr>\n",
              "      <th>0</th>\n",
              "      <td>6</td>\n",
              "      <td>148</td>\n",
              "      <td>72</td>\n",
              "      <td>35</td>\n",
              "      <td>0</td>\n",
              "      <td>33.6</td>\n",
              "      <td>0.627</td>\n",
              "      <td>50</td>\n",
              "      <td>1</td>\n",
              "    </tr>\n",
              "    <tr>\n",
              "      <th>1</th>\n",
              "      <td>1</td>\n",
              "      <td>85</td>\n",
              "      <td>66</td>\n",
              "      <td>29</td>\n",
              "      <td>0</td>\n",
              "      <td>26.6</td>\n",
              "      <td>0.351</td>\n",
              "      <td>31</td>\n",
              "      <td>0</td>\n",
              "    </tr>\n",
              "    <tr>\n",
              "      <th>2</th>\n",
              "      <td>8</td>\n",
              "      <td>183</td>\n",
              "      <td>64</td>\n",
              "      <td>0</td>\n",
              "      <td>0</td>\n",
              "      <td>23.3</td>\n",
              "      <td>0.672</td>\n",
              "      <td>32</td>\n",
              "      <td>1</td>\n",
              "    </tr>\n",
              "    <tr>\n",
              "      <th>3</th>\n",
              "      <td>1</td>\n",
              "      <td>89</td>\n",
              "      <td>66</td>\n",
              "      <td>23</td>\n",
              "      <td>94</td>\n",
              "      <td>28.1</td>\n",
              "      <td>0.167</td>\n",
              "      <td>21</td>\n",
              "      <td>0</td>\n",
              "    </tr>\n",
              "    <tr>\n",
              "      <th>4</th>\n",
              "      <td>0</td>\n",
              "      <td>137</td>\n",
              "      <td>40</td>\n",
              "      <td>35</td>\n",
              "      <td>168</td>\n",
              "      <td>43.1</td>\n",
              "      <td>2.288</td>\n",
              "      <td>33</td>\n",
              "      <td>1</td>\n",
              "    </tr>\n",
              "  </tbody>\n",
              "</table>\n",
              "</div>"
            ],
            "text/plain": [
              "   Pregnancies  Glucose  BloodPressure  SkinThickness  Insulin   BMI  \\\n",
              "0            6      148             72             35        0  33.6   \n",
              "1            1       85             66             29        0  26.6   \n",
              "2            8      183             64              0        0  23.3   \n",
              "3            1       89             66             23       94  28.1   \n",
              "4            0      137             40             35      168  43.1   \n",
              "\n",
              "   DiabetesPedigreeFunction  Age  Outcome  \n",
              "0                     0.627   50        1  \n",
              "1                     0.351   31        0  \n",
              "2                     0.672   32        1  \n",
              "3                     0.167   21        0  \n",
              "4                     2.288   33        1  "
            ]
          },
          "execution_count": 4,
          "metadata": {},
          "output_type": "execute_result"
        }
      ],
      "source": [
        "# Muestra las primeras 5 filas\n",
        "diabetes.head()"
      ]
    },
    {
      "cell_type": "code",
      "execution_count": 5,
      "id": "b6d4976e",
      "metadata": {
        "colab": {
          "base_uri": "https://localhost:8080/",
          "height": 206
        },
        "id": "b6d4976e",
        "outputId": "0939564b-94b6-434f-f65a-fb88b88e6243"
      },
      "outputs": [
        {
          "data": {
            "text/html": [
              "<div>\n",
              "<style scoped>\n",
              "    .dataframe tbody tr th:only-of-type {\n",
              "        vertical-align: middle;\n",
              "    }\n",
              "\n",
              "    .dataframe tbody tr th {\n",
              "        vertical-align: top;\n",
              "    }\n",
              "\n",
              "    .dataframe thead th {\n",
              "        text-align: right;\n",
              "    }\n",
              "</style>\n",
              "<table border=\"1\" class=\"dataframe\">\n",
              "  <thead>\n",
              "    <tr style=\"text-align: right;\">\n",
              "      <th></th>\n",
              "      <th>Pregnancies</th>\n",
              "      <th>Glucose</th>\n",
              "      <th>BloodPressure</th>\n",
              "      <th>SkinThickness</th>\n",
              "      <th>Insulin</th>\n",
              "      <th>BMI</th>\n",
              "      <th>DiabetesPedigreeFunction</th>\n",
              "      <th>Age</th>\n",
              "      <th>Outcome</th>\n",
              "    </tr>\n",
              "  </thead>\n",
              "  <tbody>\n",
              "    <tr>\n",
              "      <th>763</th>\n",
              "      <td>10</td>\n",
              "      <td>101</td>\n",
              "      <td>76</td>\n",
              "      <td>48</td>\n",
              "      <td>180</td>\n",
              "      <td>32.9</td>\n",
              "      <td>0.171</td>\n",
              "      <td>63</td>\n",
              "      <td>0</td>\n",
              "    </tr>\n",
              "    <tr>\n",
              "      <th>764</th>\n",
              "      <td>2</td>\n",
              "      <td>122</td>\n",
              "      <td>70</td>\n",
              "      <td>27</td>\n",
              "      <td>0</td>\n",
              "      <td>36.8</td>\n",
              "      <td>0.340</td>\n",
              "      <td>27</td>\n",
              "      <td>0</td>\n",
              "    </tr>\n",
              "    <tr>\n",
              "      <th>765</th>\n",
              "      <td>5</td>\n",
              "      <td>121</td>\n",
              "      <td>72</td>\n",
              "      <td>23</td>\n",
              "      <td>112</td>\n",
              "      <td>26.2</td>\n",
              "      <td>0.245</td>\n",
              "      <td>30</td>\n",
              "      <td>0</td>\n",
              "    </tr>\n",
              "    <tr>\n",
              "      <th>766</th>\n",
              "      <td>1</td>\n",
              "      <td>126</td>\n",
              "      <td>60</td>\n",
              "      <td>0</td>\n",
              "      <td>0</td>\n",
              "      <td>30.1</td>\n",
              "      <td>0.349</td>\n",
              "      <td>47</td>\n",
              "      <td>1</td>\n",
              "    </tr>\n",
              "    <tr>\n",
              "      <th>767</th>\n",
              "      <td>1</td>\n",
              "      <td>93</td>\n",
              "      <td>70</td>\n",
              "      <td>31</td>\n",
              "      <td>0</td>\n",
              "      <td>30.4</td>\n",
              "      <td>0.315</td>\n",
              "      <td>23</td>\n",
              "      <td>0</td>\n",
              "    </tr>\n",
              "  </tbody>\n",
              "</table>\n",
              "</div>"
            ],
            "text/plain": [
              "     Pregnancies  Glucose  BloodPressure  SkinThickness  Insulin   BMI  \\\n",
              "763           10      101             76             48      180  32.9   \n",
              "764            2      122             70             27        0  36.8   \n",
              "765            5      121             72             23      112  26.2   \n",
              "766            1      126             60              0        0  30.1   \n",
              "767            1       93             70             31        0  30.4   \n",
              "\n",
              "     DiabetesPedigreeFunction  Age  Outcome  \n",
              "763                     0.171   63        0  \n",
              "764                     0.340   27        0  \n",
              "765                     0.245   30        0  \n",
              "766                     0.349   47        1  \n",
              "767                     0.315   23        0  "
            ]
          },
          "execution_count": 5,
          "metadata": {},
          "output_type": "execute_result"
        }
      ],
      "source": [
        "# Muestra las últimas 5 filas\n",
        "diabetes.tail()"
      ]
    },
    {
      "cell_type": "markdown",
      "id": "0f28100e",
      "metadata": {
        "id": "0f28100e"
      },
      "source": [
        "#### Dimensión de los datos\n",
        "\n",
        "¿Cuántos registros (filas) y variables (columnas) tenemos?"
      ]
    },
    {
      "cell_type": "code",
      "execution_count": 6,
      "id": "7f3579d9",
      "metadata": {
        "colab": {
          "base_uri": "https://localhost:8080/"
        },
        "id": "7f3579d9",
        "outputId": "7c688c8c-50b2-44db-e6f9-bde306aeb8a6"
      },
      "outputs": [
        {
          "name": "stdout",
          "output_type": "stream",
          "text": [
            "El conjunto de datos tiene 768 filas y 9 columnas.\n"
          ]
        }
      ],
      "source": [
        "print(f\"El conjunto de datos tiene {diabetes.shape[0]} filas y {diabetes.shape[1]} columnas.\")"
      ]
    },
    {
      "cell_type": "markdown",
      "id": "75b13350",
      "metadata": {
        "id": "75b13350"
      },
      "source": [
        "### Información general del DataFrame\n",
        "\n",
        "La función .info() es extremadamente útil. Nos da un resumen completo: el número de entradas, la cantidad de valores no nulos por columna y el tipo de dato de cada variable. Esto es clave para detectar datos faltantes."
      ]
    },
    {
      "cell_type": "code",
      "execution_count": 7,
      "id": "ca446524",
      "metadata": {
        "colab": {
          "base_uri": "https://localhost:8080/"
        },
        "id": "ca446524",
        "outputId": "047327f4-a13f-4920-a383-c79d33ad4d8b"
      },
      "outputs": [
        {
          "name": "stdout",
          "output_type": "stream",
          "text": [
            "<class 'pandas.core.frame.DataFrame'>\n",
            "RangeIndex: 768 entries, 0 to 767\n",
            "Data columns (total 9 columns):\n",
            " #   Column                    Non-Null Count  Dtype  \n",
            "---  ------                    --------------  -----  \n",
            " 0   Pregnancies               768 non-null    int64  \n",
            " 1   Glucose                   768 non-null    int64  \n",
            " 2   BloodPressure             768 non-null    int64  \n",
            " 3   SkinThickness             768 non-null    int64  \n",
            " 4   Insulin                   768 non-null    int64  \n",
            " 5   BMI                       768 non-null    float64\n",
            " 6   DiabetesPedigreeFunction  768 non-null    float64\n",
            " 7   Age                       768 non-null    int64  \n",
            " 8   Outcome                   768 non-null    int64  \n",
            "dtypes: float64(2), int64(7)\n",
            "memory usage: 54.1 KB\n"
          ]
        }
      ],
      "source": [
        "diabetes.info()"
      ]
    },
    {
      "cell_type": "markdown",
      "id": "2ccf326e",
      "metadata": {
        "id": "2ccf326e"
      },
      "source": [
        "### Resumen estadístico\n",
        "\n",
        "La función .describe() nos proporciona estadísticas descriptivas clave para cada variable numérica, como la media, la mediana (50%), la desviación estándar, y los valores mínimo y máximo.\n",
        "\n"
      ]
    },
    {
      "cell_type": "code",
      "execution_count": 8,
      "id": "70d7fbd2",
      "metadata": {
        "colab": {
          "base_uri": "https://localhost:8080/",
          "height": 300
        },
        "id": "70d7fbd2",
        "outputId": "be021f06-639d-47a5-f5a9-723bcc4a43e6"
      },
      "outputs": [
        {
          "data": {
            "text/html": [
              "<div>\n",
              "<style scoped>\n",
              "    .dataframe tbody tr th:only-of-type {\n",
              "        vertical-align: middle;\n",
              "    }\n",
              "\n",
              "    .dataframe tbody tr th {\n",
              "        vertical-align: top;\n",
              "    }\n",
              "\n",
              "    .dataframe thead th {\n",
              "        text-align: right;\n",
              "    }\n",
              "</style>\n",
              "<table border=\"1\" class=\"dataframe\">\n",
              "  <thead>\n",
              "    <tr style=\"text-align: right;\">\n",
              "      <th></th>\n",
              "      <th>Pregnancies</th>\n",
              "      <th>Glucose</th>\n",
              "      <th>BloodPressure</th>\n",
              "      <th>SkinThickness</th>\n",
              "      <th>Insulin</th>\n",
              "      <th>BMI</th>\n",
              "      <th>DiabetesPedigreeFunction</th>\n",
              "      <th>Age</th>\n",
              "      <th>Outcome</th>\n",
              "    </tr>\n",
              "  </thead>\n",
              "  <tbody>\n",
              "    <tr>\n",
              "      <th>count</th>\n",
              "      <td>768.000000</td>\n",
              "      <td>768.000000</td>\n",
              "      <td>768.000000</td>\n",
              "      <td>768.000000</td>\n",
              "      <td>768.000000</td>\n",
              "      <td>768.000000</td>\n",
              "      <td>768.000000</td>\n",
              "      <td>768.000000</td>\n",
              "      <td>768.000000</td>\n",
              "    </tr>\n",
              "    <tr>\n",
              "      <th>mean</th>\n",
              "      <td>3.845052</td>\n",
              "      <td>120.894531</td>\n",
              "      <td>69.105469</td>\n",
              "      <td>20.536458</td>\n",
              "      <td>79.799479</td>\n",
              "      <td>31.992578</td>\n",
              "      <td>0.471876</td>\n",
              "      <td>33.240885</td>\n",
              "      <td>0.348958</td>\n",
              "    </tr>\n",
              "    <tr>\n",
              "      <th>std</th>\n",
              "      <td>3.369578</td>\n",
              "      <td>31.972618</td>\n",
              "      <td>19.355807</td>\n",
              "      <td>15.952218</td>\n",
              "      <td>115.244002</td>\n",
              "      <td>7.884160</td>\n",
              "      <td>0.331329</td>\n",
              "      <td>11.760232</td>\n",
              "      <td>0.476951</td>\n",
              "    </tr>\n",
              "    <tr>\n",
              "      <th>min</th>\n",
              "      <td>0.000000</td>\n",
              "      <td>0.000000</td>\n",
              "      <td>0.000000</td>\n",
              "      <td>0.000000</td>\n",
              "      <td>0.000000</td>\n",
              "      <td>0.000000</td>\n",
              "      <td>0.078000</td>\n",
              "      <td>21.000000</td>\n",
              "      <td>0.000000</td>\n",
              "    </tr>\n",
              "    <tr>\n",
              "      <th>25%</th>\n",
              "      <td>1.000000</td>\n",
              "      <td>99.000000</td>\n",
              "      <td>62.000000</td>\n",
              "      <td>0.000000</td>\n",
              "      <td>0.000000</td>\n",
              "      <td>27.300000</td>\n",
              "      <td>0.243750</td>\n",
              "      <td>24.000000</td>\n",
              "      <td>0.000000</td>\n",
              "    </tr>\n",
              "    <tr>\n",
              "      <th>50%</th>\n",
              "      <td>3.000000</td>\n",
              "      <td>117.000000</td>\n",
              "      <td>72.000000</td>\n",
              "      <td>23.000000</td>\n",
              "      <td>30.500000</td>\n",
              "      <td>32.000000</td>\n",
              "      <td>0.372500</td>\n",
              "      <td>29.000000</td>\n",
              "      <td>0.000000</td>\n",
              "    </tr>\n",
              "    <tr>\n",
              "      <th>75%</th>\n",
              "      <td>6.000000</td>\n",
              "      <td>140.250000</td>\n",
              "      <td>80.000000</td>\n",
              "      <td>32.000000</td>\n",
              "      <td>127.250000</td>\n",
              "      <td>36.600000</td>\n",
              "      <td>0.626250</td>\n",
              "      <td>41.000000</td>\n",
              "      <td>1.000000</td>\n",
              "    </tr>\n",
              "    <tr>\n",
              "      <th>max</th>\n",
              "      <td>17.000000</td>\n",
              "      <td>199.000000</td>\n",
              "      <td>122.000000</td>\n",
              "      <td>99.000000</td>\n",
              "      <td>846.000000</td>\n",
              "      <td>67.100000</td>\n",
              "      <td>2.420000</td>\n",
              "      <td>81.000000</td>\n",
              "      <td>1.000000</td>\n",
              "    </tr>\n",
              "  </tbody>\n",
              "</table>\n",
              "</div>"
            ],
            "text/plain": [
              "       Pregnancies     Glucose  BloodPressure  SkinThickness     Insulin  \\\n",
              "count   768.000000  768.000000     768.000000     768.000000  768.000000   \n",
              "mean      3.845052  120.894531      69.105469      20.536458   79.799479   \n",
              "std       3.369578   31.972618      19.355807      15.952218  115.244002   \n",
              "min       0.000000    0.000000       0.000000       0.000000    0.000000   \n",
              "25%       1.000000   99.000000      62.000000       0.000000    0.000000   \n",
              "50%       3.000000  117.000000      72.000000      23.000000   30.500000   \n",
              "75%       6.000000  140.250000      80.000000      32.000000  127.250000   \n",
              "max      17.000000  199.000000     122.000000      99.000000  846.000000   \n",
              "\n",
              "              BMI  DiabetesPedigreeFunction         Age     Outcome  \n",
              "count  768.000000                768.000000  768.000000  768.000000  \n",
              "mean    31.992578                  0.471876   33.240885    0.348958  \n",
              "std      7.884160                  0.331329   11.760232    0.476951  \n",
              "min      0.000000                  0.078000   21.000000    0.000000  \n",
              "25%     27.300000                  0.243750   24.000000    0.000000  \n",
              "50%     32.000000                  0.372500   29.000000    0.000000  \n",
              "75%     36.600000                  0.626250   41.000000    1.000000  \n",
              "max     67.100000                  2.420000   81.000000    1.000000  "
            ]
          },
          "execution_count": 8,
          "metadata": {},
          "output_type": "execute_result"
        }
      ],
      "source": [
        "diabetes.describe()"
      ]
    },
    {
      "cell_type": "markdown",
      "id": "d14062cd",
      "metadata": {
        "id": "d14062cd"
      },
      "source": [
        "# Contar las ocurrencias de cada categoría en 'Outcome'\n",
        "freq_outcome = diabetes[\"Outcome\"].value_counts()\n",
        "print(freq_outcome)\n",
        "\n",
        "# Crear un gráfico de barras interactivo\n",
        "fig = px.bar(freq_outcome,\n",
        "             x=freq_outcome.index,\n",
        "             y=freq_outcome.values,\n",
        "             title=\"Distribución de Pacientes con y sin Diabetes\",\n",
        "             labels={'x':'Diagnóstico (0 = No, 1 = Sí)', 'y':'Cantidad de Pacientes'},\n",
        "             color=freq_outcome.index,\n",
        "             text_auto=True)\n",
        "fig.show()"
      ]
    },
    {
      "cell_type": "code",
      "execution_count": 9,
      "id": "c4448346",
      "metadata": {
        "colab": {
          "base_uri": "https://localhost:8080/",
          "height": 616
        },
        "id": "c4448346",
        "outputId": "daffab65-4cac-4541-e9c5-9d09cb3dc3f3"
      },
      "outputs": [
        {
          "name": "stdout",
          "output_type": "stream",
          "text": [
            "Outcome\n",
            "0    500\n",
            "1    268\n",
            "Name: count, dtype: int64\n"
          ]
        },
        {
          "data": {
            "application/vnd.plotly.v1+json": {
              "config": {
                "plotlyServerURL": "https://plot.ly"
              },
              "data": [
                {
                  "hovertemplate": "Outcome=%{marker.color}<br>Cantidad de Pacientes=%{y}<extra></extra>",
                  "legendgroup": "",
                  "marker": {
                    "color": {
                      "bdata": "AAE=",
                      "dtype": "i1"
                    },
                    "coloraxis": "coloraxis",
                    "pattern": {
                      "shape": ""
                    }
                  },
                  "name": "",
                  "orientation": "v",
                  "showlegend": false,
                  "textposition": "auto",
                  "texttemplate": "%{y}",
                  "type": "bar",
                  "x": {
                    "bdata": "AAE=",
                    "dtype": "i1"
                  },
                  "xaxis": "x",
                  "y": {
                    "bdata": "9AEMAQ==",
                    "dtype": "i2"
                  },
                  "yaxis": "y"
                }
              ],
              "layout": {
                "barmode": "relative",
                "coloraxis": {
                  "colorbar": {
                    "title": {
                      "text": "Outcome"
                    }
                  },
                  "colorscale": [
                    [
                      0,
                      "#0d0887"
                    ],
                    [
                      0.1111111111111111,
                      "#46039f"
                    ],
                    [
                      0.2222222222222222,
                      "#7201a8"
                    ],
                    [
                      0.3333333333333333,
                      "#9c179e"
                    ],
                    [
                      0.4444444444444444,
                      "#bd3786"
                    ],
                    [
                      0.5555555555555556,
                      "#d8576b"
                    ],
                    [
                      0.6666666666666666,
                      "#ed7953"
                    ],
                    [
                      0.7777777777777778,
                      "#fb9f3a"
                    ],
                    [
                      0.8888888888888888,
                      "#fdca26"
                    ],
                    [
                      1,
                      "#f0f921"
                    ]
                  ],
                  "showscale": false
                },
                "legend": {
                  "tracegroupgap": 0
                },
                "template": {
                  "data": {
                    "bar": [
                      {
                        "error_x": {
                          "color": "#2a3f5f"
                        },
                        "error_y": {
                          "color": "#2a3f5f"
                        },
                        "marker": {
                          "line": {
                            "color": "#E5ECF6",
                            "width": 0.5
                          },
                          "pattern": {
                            "fillmode": "overlay",
                            "size": 10,
                            "solidity": 0.2
                          }
                        },
                        "type": "bar"
                      }
                    ],
                    "barpolar": [
                      {
                        "marker": {
                          "line": {
                            "color": "#E5ECF6",
                            "width": 0.5
                          },
                          "pattern": {
                            "fillmode": "overlay",
                            "size": 10,
                            "solidity": 0.2
                          }
                        },
                        "type": "barpolar"
                      }
                    ],
                    "carpet": [
                      {
                        "aaxis": {
                          "endlinecolor": "#2a3f5f",
                          "gridcolor": "white",
                          "linecolor": "white",
                          "minorgridcolor": "white",
                          "startlinecolor": "#2a3f5f"
                        },
                        "baxis": {
                          "endlinecolor": "#2a3f5f",
                          "gridcolor": "white",
                          "linecolor": "white",
                          "minorgridcolor": "white",
                          "startlinecolor": "#2a3f5f"
                        },
                        "type": "carpet"
                      }
                    ],
                    "choropleth": [
                      {
                        "colorbar": {
                          "outlinewidth": 0,
                          "ticks": ""
                        },
                        "type": "choropleth"
                      }
                    ],
                    "contour": [
                      {
                        "colorbar": {
                          "outlinewidth": 0,
                          "ticks": ""
                        },
                        "colorscale": [
                          [
                            0,
                            "#0d0887"
                          ],
                          [
                            0.1111111111111111,
                            "#46039f"
                          ],
                          [
                            0.2222222222222222,
                            "#7201a8"
                          ],
                          [
                            0.3333333333333333,
                            "#9c179e"
                          ],
                          [
                            0.4444444444444444,
                            "#bd3786"
                          ],
                          [
                            0.5555555555555556,
                            "#d8576b"
                          ],
                          [
                            0.6666666666666666,
                            "#ed7953"
                          ],
                          [
                            0.7777777777777778,
                            "#fb9f3a"
                          ],
                          [
                            0.8888888888888888,
                            "#fdca26"
                          ],
                          [
                            1,
                            "#f0f921"
                          ]
                        ],
                        "type": "contour"
                      }
                    ],
                    "contourcarpet": [
                      {
                        "colorbar": {
                          "outlinewidth": 0,
                          "ticks": ""
                        },
                        "type": "contourcarpet"
                      }
                    ],
                    "heatmap": [
                      {
                        "colorbar": {
                          "outlinewidth": 0,
                          "ticks": ""
                        },
                        "colorscale": [
                          [
                            0,
                            "#0d0887"
                          ],
                          [
                            0.1111111111111111,
                            "#46039f"
                          ],
                          [
                            0.2222222222222222,
                            "#7201a8"
                          ],
                          [
                            0.3333333333333333,
                            "#9c179e"
                          ],
                          [
                            0.4444444444444444,
                            "#bd3786"
                          ],
                          [
                            0.5555555555555556,
                            "#d8576b"
                          ],
                          [
                            0.6666666666666666,
                            "#ed7953"
                          ],
                          [
                            0.7777777777777778,
                            "#fb9f3a"
                          ],
                          [
                            0.8888888888888888,
                            "#fdca26"
                          ],
                          [
                            1,
                            "#f0f921"
                          ]
                        ],
                        "type": "heatmap"
                      }
                    ],
                    "histogram": [
                      {
                        "marker": {
                          "pattern": {
                            "fillmode": "overlay",
                            "size": 10,
                            "solidity": 0.2
                          }
                        },
                        "type": "histogram"
                      }
                    ],
                    "histogram2d": [
                      {
                        "colorbar": {
                          "outlinewidth": 0,
                          "ticks": ""
                        },
                        "colorscale": [
                          [
                            0,
                            "#0d0887"
                          ],
                          [
                            0.1111111111111111,
                            "#46039f"
                          ],
                          [
                            0.2222222222222222,
                            "#7201a8"
                          ],
                          [
                            0.3333333333333333,
                            "#9c179e"
                          ],
                          [
                            0.4444444444444444,
                            "#bd3786"
                          ],
                          [
                            0.5555555555555556,
                            "#d8576b"
                          ],
                          [
                            0.6666666666666666,
                            "#ed7953"
                          ],
                          [
                            0.7777777777777778,
                            "#fb9f3a"
                          ],
                          [
                            0.8888888888888888,
                            "#fdca26"
                          ],
                          [
                            1,
                            "#f0f921"
                          ]
                        ],
                        "type": "histogram2d"
                      }
                    ],
                    "histogram2dcontour": [
                      {
                        "colorbar": {
                          "outlinewidth": 0,
                          "ticks": ""
                        },
                        "colorscale": [
                          [
                            0,
                            "#0d0887"
                          ],
                          [
                            0.1111111111111111,
                            "#46039f"
                          ],
                          [
                            0.2222222222222222,
                            "#7201a8"
                          ],
                          [
                            0.3333333333333333,
                            "#9c179e"
                          ],
                          [
                            0.4444444444444444,
                            "#bd3786"
                          ],
                          [
                            0.5555555555555556,
                            "#d8576b"
                          ],
                          [
                            0.6666666666666666,
                            "#ed7953"
                          ],
                          [
                            0.7777777777777778,
                            "#fb9f3a"
                          ],
                          [
                            0.8888888888888888,
                            "#fdca26"
                          ],
                          [
                            1,
                            "#f0f921"
                          ]
                        ],
                        "type": "histogram2dcontour"
                      }
                    ],
                    "mesh3d": [
                      {
                        "colorbar": {
                          "outlinewidth": 0,
                          "ticks": ""
                        },
                        "type": "mesh3d"
                      }
                    ],
                    "parcoords": [
                      {
                        "line": {
                          "colorbar": {
                            "outlinewidth": 0,
                            "ticks": ""
                          }
                        },
                        "type": "parcoords"
                      }
                    ],
                    "pie": [
                      {
                        "automargin": true,
                        "type": "pie"
                      }
                    ],
                    "scatter": [
                      {
                        "fillpattern": {
                          "fillmode": "overlay",
                          "size": 10,
                          "solidity": 0.2
                        },
                        "type": "scatter"
                      }
                    ],
                    "scatter3d": [
                      {
                        "line": {
                          "colorbar": {
                            "outlinewidth": 0,
                            "ticks": ""
                          }
                        },
                        "marker": {
                          "colorbar": {
                            "outlinewidth": 0,
                            "ticks": ""
                          }
                        },
                        "type": "scatter3d"
                      }
                    ],
                    "scattercarpet": [
                      {
                        "marker": {
                          "colorbar": {
                            "outlinewidth": 0,
                            "ticks": ""
                          }
                        },
                        "type": "scattercarpet"
                      }
                    ],
                    "scattergeo": [
                      {
                        "marker": {
                          "colorbar": {
                            "outlinewidth": 0,
                            "ticks": ""
                          }
                        },
                        "type": "scattergeo"
                      }
                    ],
                    "scattergl": [
                      {
                        "marker": {
                          "colorbar": {
                            "outlinewidth": 0,
                            "ticks": ""
                          }
                        },
                        "type": "scattergl"
                      }
                    ],
                    "scattermap": [
                      {
                        "marker": {
                          "colorbar": {
                            "outlinewidth": 0,
                            "ticks": ""
                          }
                        },
                        "type": "scattermap"
                      }
                    ],
                    "scattermapbox": [
                      {
                        "marker": {
                          "colorbar": {
                            "outlinewidth": 0,
                            "ticks": ""
                          }
                        },
                        "type": "scattermapbox"
                      }
                    ],
                    "scatterpolar": [
                      {
                        "marker": {
                          "colorbar": {
                            "outlinewidth": 0,
                            "ticks": ""
                          }
                        },
                        "type": "scatterpolar"
                      }
                    ],
                    "scatterpolargl": [
                      {
                        "marker": {
                          "colorbar": {
                            "outlinewidth": 0,
                            "ticks": ""
                          }
                        },
                        "type": "scatterpolargl"
                      }
                    ],
                    "scatterternary": [
                      {
                        "marker": {
                          "colorbar": {
                            "outlinewidth": 0,
                            "ticks": ""
                          }
                        },
                        "type": "scatterternary"
                      }
                    ],
                    "surface": [
                      {
                        "colorbar": {
                          "outlinewidth": 0,
                          "ticks": ""
                        },
                        "colorscale": [
                          [
                            0,
                            "#0d0887"
                          ],
                          [
                            0.1111111111111111,
                            "#46039f"
                          ],
                          [
                            0.2222222222222222,
                            "#7201a8"
                          ],
                          [
                            0.3333333333333333,
                            "#9c179e"
                          ],
                          [
                            0.4444444444444444,
                            "#bd3786"
                          ],
                          [
                            0.5555555555555556,
                            "#d8576b"
                          ],
                          [
                            0.6666666666666666,
                            "#ed7953"
                          ],
                          [
                            0.7777777777777778,
                            "#fb9f3a"
                          ],
                          [
                            0.8888888888888888,
                            "#fdca26"
                          ],
                          [
                            1,
                            "#f0f921"
                          ]
                        ],
                        "type": "surface"
                      }
                    ],
                    "table": [
                      {
                        "cells": {
                          "fill": {
                            "color": "#EBF0F8"
                          },
                          "line": {
                            "color": "white"
                          }
                        },
                        "header": {
                          "fill": {
                            "color": "#C8D4E3"
                          },
                          "line": {
                            "color": "white"
                          }
                        },
                        "type": "table"
                      }
                    ]
                  },
                  "layout": {
                    "annotationdefaults": {
                      "arrowcolor": "#2a3f5f",
                      "arrowhead": 0,
                      "arrowwidth": 1
                    },
                    "autotypenumbers": "strict",
                    "coloraxis": {
                      "colorbar": {
                        "outlinewidth": 0,
                        "ticks": ""
                      }
                    },
                    "colorscale": {
                      "diverging": [
                        [
                          0,
                          "#8e0152"
                        ],
                        [
                          0.1,
                          "#c51b7d"
                        ],
                        [
                          0.2,
                          "#de77ae"
                        ],
                        [
                          0.3,
                          "#f1b6da"
                        ],
                        [
                          0.4,
                          "#fde0ef"
                        ],
                        [
                          0.5,
                          "#f7f7f7"
                        ],
                        [
                          0.6,
                          "#e6f5d0"
                        ],
                        [
                          0.7,
                          "#b8e186"
                        ],
                        [
                          0.8,
                          "#7fbc41"
                        ],
                        [
                          0.9,
                          "#4d9221"
                        ],
                        [
                          1,
                          "#276419"
                        ]
                      ],
                      "sequential": [
                        [
                          0,
                          "#0d0887"
                        ],
                        [
                          0.1111111111111111,
                          "#46039f"
                        ],
                        [
                          0.2222222222222222,
                          "#7201a8"
                        ],
                        [
                          0.3333333333333333,
                          "#9c179e"
                        ],
                        [
                          0.4444444444444444,
                          "#bd3786"
                        ],
                        [
                          0.5555555555555556,
                          "#d8576b"
                        ],
                        [
                          0.6666666666666666,
                          "#ed7953"
                        ],
                        [
                          0.7777777777777778,
                          "#fb9f3a"
                        ],
                        [
                          0.8888888888888888,
                          "#fdca26"
                        ],
                        [
                          1,
                          "#f0f921"
                        ]
                      ],
                      "sequentialminus": [
                        [
                          0,
                          "#0d0887"
                        ],
                        [
                          0.1111111111111111,
                          "#46039f"
                        ],
                        [
                          0.2222222222222222,
                          "#7201a8"
                        ],
                        [
                          0.3333333333333333,
                          "#9c179e"
                        ],
                        [
                          0.4444444444444444,
                          "#bd3786"
                        ],
                        [
                          0.5555555555555556,
                          "#d8576b"
                        ],
                        [
                          0.6666666666666666,
                          "#ed7953"
                        ],
                        [
                          0.7777777777777778,
                          "#fb9f3a"
                        ],
                        [
                          0.8888888888888888,
                          "#fdca26"
                        ],
                        [
                          1,
                          "#f0f921"
                        ]
                      ]
                    },
                    "colorway": [
                      "#636efa",
                      "#EF553B",
                      "#00cc96",
                      "#ab63fa",
                      "#FFA15A",
                      "#19d3f3",
                      "#FF6692",
                      "#B6E880",
                      "#FF97FF",
                      "#FECB52"
                    ],
                    "font": {
                      "color": "#2a3f5f"
                    },
                    "geo": {
                      "bgcolor": "white",
                      "lakecolor": "white",
                      "landcolor": "#E5ECF6",
                      "showlakes": true,
                      "showland": true,
                      "subunitcolor": "white"
                    },
                    "hoverlabel": {
                      "align": "left"
                    },
                    "hovermode": "closest",
                    "mapbox": {
                      "style": "light"
                    },
                    "paper_bgcolor": "white",
                    "plot_bgcolor": "#E5ECF6",
                    "polar": {
                      "angularaxis": {
                        "gridcolor": "white",
                        "linecolor": "white",
                        "ticks": ""
                      },
                      "bgcolor": "#E5ECF6",
                      "radialaxis": {
                        "gridcolor": "white",
                        "linecolor": "white",
                        "ticks": ""
                      }
                    },
                    "scene": {
                      "xaxis": {
                        "backgroundcolor": "#E5ECF6",
                        "gridcolor": "white",
                        "gridwidth": 2,
                        "linecolor": "white",
                        "showbackground": true,
                        "ticks": "",
                        "zerolinecolor": "white"
                      },
                      "yaxis": {
                        "backgroundcolor": "#E5ECF6",
                        "gridcolor": "white",
                        "gridwidth": 2,
                        "linecolor": "white",
                        "showbackground": true,
                        "ticks": "",
                        "zerolinecolor": "white"
                      },
                      "zaxis": {
                        "backgroundcolor": "#E5ECF6",
                        "gridcolor": "white",
                        "gridwidth": 2,
                        "linecolor": "white",
                        "showbackground": true,
                        "ticks": "",
                        "zerolinecolor": "white"
                      }
                    },
                    "shapedefaults": {
                      "line": {
                        "color": "#2a3f5f"
                      }
                    },
                    "ternary": {
                      "aaxis": {
                        "gridcolor": "white",
                        "linecolor": "white",
                        "ticks": ""
                      },
                      "baxis": {
                        "gridcolor": "white",
                        "linecolor": "white",
                        "ticks": ""
                      },
                      "bgcolor": "#E5ECF6",
                      "caxis": {
                        "gridcolor": "white",
                        "linecolor": "white",
                        "ticks": ""
                      }
                    },
                    "title": {
                      "x": 0.05
                    },
                    "xaxis": {
                      "automargin": true,
                      "gridcolor": "white",
                      "linecolor": "white",
                      "ticks": "",
                      "title": {
                        "standoff": 15
                      },
                      "zerolinecolor": "white",
                      "zerolinewidth": 2
                    },
                    "yaxis": {
                      "automargin": true,
                      "gridcolor": "white",
                      "linecolor": "white",
                      "ticks": "",
                      "title": {
                        "standoff": 15
                      },
                      "zerolinecolor": "white",
                      "zerolinewidth": 2
                    }
                  }
                },
                "title": {
                  "text": "Distribución de Pacientes con y sin Diabetes"
                },
                "xaxis": {
                  "anchor": "y",
                  "domain": [
                    0,
                    1
                  ],
                  "title": {
                    "text": "Outcome"
                  }
                },
                "yaxis": {
                  "anchor": "x",
                  "domain": [
                    0,
                    1
                  ],
                  "title": {
                    "text": "Cantidad de Pacientes"
                  }
                }
              }
            }
          },
          "metadata": {},
          "output_type": "display_data"
        }
      ],
      "source": [
        "# Contar las ocurrencias de cada categoría en 'Outcome'\n",
        "freq_outcome = diabetes[\"Outcome\"].value_counts()\n",
        "print(freq_outcome)\n",
        "\n",
        "# Crear un gráfico de barras interactivo\n",
        "fig = px.bar(freq_outcome,\n",
        "             x=freq_outcome.index,\n",
        "             y=freq_outcome.values,\n",
        "             title=\"Distribución de Pacientes con y sin Diabetes\",\n",
        "             labels={'x':'Diagnóstico (0 = No, 1 = Sí)', 'y':'Cantidad de Pacientes'},\n",
        "             color=freq_outcome.index,\n",
        "             text_auto=True)\n",
        "fig.update_layout(coloraxis_showscale=False)\n",
        "fig.show()"
      ]
    },
    {
      "cell_type": "markdown",
      "id": "234f218f",
      "metadata": {
        "id": "234f218f"
      },
      "source": [
        "### Histograma: Distribución de una Variable Numérica\n",
        "Veamos cómo se distribuye la presión arterial (BloodPressure) en nuestros pacientes."
      ]
    },
    {
      "cell_type": "code",
      "execution_count": 10,
      "id": "b62d749d",
      "metadata": {
        "colab": {
          "base_uri": "https://localhost:8080/",
          "height": 542
        },
        "id": "b62d749d",
        "outputId": "f0fbf9e4-fb65-4e71-9c83-ddc714c0c56f"
      },
      "outputs": [
        {
          "data": {
            "application/vnd.plotly.v1+json": {
              "config": {
                "plotlyServerURL": "https://plot.ly"
              },
              "data": [
                {
                  "bingroup": "x",
                  "hovertemplate": "BloodPressure=%{x}<br>count=%{y}<extra></extra>",
                  "legendgroup": "",
                  "marker": {
                    "color": "#636efa",
                    "pattern": {
                      "shape": ""
                    }
                  },
                  "name": "",
                  "nbinsx": 30,
                  "orientation": "v",
                  "showlegend": false,
                  "type": "histogram",
                  "x": {
                    "bdata": "SEJAQihKMgBGYFxKUDxIAFRKHkZYVFpQXkZMQlJcS0w6XE48TExESEBUXG5AQjhGQgBQMkJaQjJEWFJAAEg+OkJKWFxCVUJAWlZLME5IAEIsAE5BbEpIREZEN1BOSFJIPjAyWkg8YEhBOHo6OlVIPkw+NlxKMDxMTEBKUEweRjpYVEY4QEpEPEY8UEhOUjRCPktQQE5GSkFWUk5YNDhKSFpKUEBYSkJEQlpSRgA8QEhObk5SUEBKPEpERGJMUD5GQgA3VDo+QDxQUkRGSEhMaEBUPFVfQVJGPkRKQjxaADxCTkw0RlBWUFBEREhUWlRMQEY2MkxVRFpGVjRUUEQ+QDhEMkxEAEZQPkoAQDQAVj5OTkZGPEBKPkZMWFZQSlRWOEhYPk4wMj5GVE5IADpSYkxMREREREJGSjJQRFBKQk48SkZaS0hARlZGSDoAUDxMAExOVEZKRFZIWC4APlBQVFI+TlgyAEpMQEZsTko2SEBWZlJAQDo0UlI8S2RIRDw+RjZKZFJEQkxASE46OEJGRkA9VE5AMEg+SkRaSFRKPFREUkRAWERAQE5OAEBeUgBKSktEAFVLRlhoQkBGPk5IUEBKQEZEADY+NkRUSkg+Rk5iODRAAE5SRkJaQFRQTEpWRlg6UgBEPk5IUEFaREYASkRIRkpaSERATlJaPDJOSD5EPjZGWFY8WkZQAEY6PEBKQkE8TEIAOABaPFBcSkhVWk5aTERSbkZEWD5ARkZMREpMQkQ8UDZIPkhCRmA6PFYsLFBERlo8TkxMOEJCVgBUTlA0SFJMGEomWABKTgA8Tj5SPjY6WFBKSGA+UgBWTF5GQFhETlBBQE48Uj5ISkxMSlZGUABISkoyVDw2PEo2RjQ6UGpSVExqUDxQUkY6TkQ6amRSRlY8NDo4TEBQUkpAMkpSUHJGRDxaSgBYRkxOWABMUAAuTkBATj46SjJOSDxMVkJEVl5OTlRYNE5WWDhLPFZIPEpQLDpeWFReSkY+Rk4+WE5YWkhMXDpKPkxGSDxG",
                    "dtype": "i1"
                  },
                  "xaxis": "x",
                  "yaxis": "y"
                },
                {
                  "hovertemplate": "BloodPressure=%{x}<extra></extra>",
                  "legendgroup": "",
                  "marker": {
                    "color": "#636efa"
                  },
                  "name": "",
                  "notched": true,
                  "showlegend": false,
                  "type": "box",
                  "x": {
                    "bdata": "SEJAQihKMgBGYFxKUDxIAFRKHkZYVFpQXkZMQlJcS0w6XE48TExESEBUXG5AQjhGQgBQMkJaQjJEWFJAAEg+OkJKWFxCVUJAWlZLME5IAEIsAE5BbEpIREZEN1BOSFJIPjAyWkg8YEhBOHo6OlVIPkw+NlxKMDxMTEBKUEweRjpYVEY4QEpEPEY8UEhOUjRCPktQQE5GSkFWUk5YNDhKSFpKUEBYSkJEQlpSRgA8QEhObk5SUEBKPEpERGJMUD5GQgA3VDo+QDxQUkRGSEhMaEBUPFVfQVJGPkRKQjxaADxCTkw0RlBWUFBEREhUWlRMQEY2MkxVRFpGVjRUUEQ+QDhEMkxEAEZQPkoAQDQAVj5OTkZGPEBKPkZMWFZQSlRWOEhYPk4wMj5GVE5IADpSYkxMREREREJGSjJQRFBKQk48SkZaS0hARlZGSDoAUDxMAExOVEZKRFZIWC4APlBQVFI+TlgyAEpMQEZsTko2SEBWZlJAQDo0UlI8S2RIRDw+RjZKZFJEQkxASE46OEJGRkA9VE5AMEg+SkRaSFRKPFREUkRAWERAQE5OAEBeUgBKSktEAFVLRlhoQkBGPk5IUEBKQEZEADY+NkRUSkg+Rk5iODRAAE5SRkJaQFRQTEpWRlg6UgBEPk5IUEFaREYASkRIRkpaSERATlJaPDJOSD5EPjZGWFY8WkZQAEY6PEBKQkE8TEIAOABaPFBcSkhVWk5aTERSbkZEWD5ARkZMREpMQkQ8UDZIPkhCRmA6PFYsLFBERlo8TkxMOEJCVgBUTlA0SFJMGEomWABKTgA8Tj5SPjY6WFBKSGA+UgBWTF5GQFhETlBBQE48Uj5ISkxMSlZGUABISkoyVDw2PEo2RjQ6UGpSVExqUDxQUkY6TkQ6amRSRlY8NDo4TEBQUkpAMkpSUHJGRDxaSgBYRkxOWABMUAAuTkBATj46SjJOSDxMVkJEVl5OTlRYNE5WWDhLPFZIPEpQLDpeWFReSkY+Rk4+WE5YWkhMXDpKPkxGSDxG",
                    "dtype": "i1"
                  },
                  "xaxis": "x2",
                  "yaxis": "y2"
                }
              ],
              "layout": {
                "barmode": "relative",
                "legend": {
                  "tracegroupgap": 0
                },
                "template": {
                  "data": {
                    "bar": [
                      {
                        "error_x": {
                          "color": "#2a3f5f"
                        },
                        "error_y": {
                          "color": "#2a3f5f"
                        },
                        "marker": {
                          "line": {
                            "color": "#E5ECF6",
                            "width": 0.5
                          },
                          "pattern": {
                            "fillmode": "overlay",
                            "size": 10,
                            "solidity": 0.2
                          }
                        },
                        "type": "bar"
                      }
                    ],
                    "barpolar": [
                      {
                        "marker": {
                          "line": {
                            "color": "#E5ECF6",
                            "width": 0.5
                          },
                          "pattern": {
                            "fillmode": "overlay",
                            "size": 10,
                            "solidity": 0.2
                          }
                        },
                        "type": "barpolar"
                      }
                    ],
                    "carpet": [
                      {
                        "aaxis": {
                          "endlinecolor": "#2a3f5f",
                          "gridcolor": "white",
                          "linecolor": "white",
                          "minorgridcolor": "white",
                          "startlinecolor": "#2a3f5f"
                        },
                        "baxis": {
                          "endlinecolor": "#2a3f5f",
                          "gridcolor": "white",
                          "linecolor": "white",
                          "minorgridcolor": "white",
                          "startlinecolor": "#2a3f5f"
                        },
                        "type": "carpet"
                      }
                    ],
                    "choropleth": [
                      {
                        "colorbar": {
                          "outlinewidth": 0,
                          "ticks": ""
                        },
                        "type": "choropleth"
                      }
                    ],
                    "contour": [
                      {
                        "colorbar": {
                          "outlinewidth": 0,
                          "ticks": ""
                        },
                        "colorscale": [
                          [
                            0,
                            "#0d0887"
                          ],
                          [
                            0.1111111111111111,
                            "#46039f"
                          ],
                          [
                            0.2222222222222222,
                            "#7201a8"
                          ],
                          [
                            0.3333333333333333,
                            "#9c179e"
                          ],
                          [
                            0.4444444444444444,
                            "#bd3786"
                          ],
                          [
                            0.5555555555555556,
                            "#d8576b"
                          ],
                          [
                            0.6666666666666666,
                            "#ed7953"
                          ],
                          [
                            0.7777777777777778,
                            "#fb9f3a"
                          ],
                          [
                            0.8888888888888888,
                            "#fdca26"
                          ],
                          [
                            1,
                            "#f0f921"
                          ]
                        ],
                        "type": "contour"
                      }
                    ],
                    "contourcarpet": [
                      {
                        "colorbar": {
                          "outlinewidth": 0,
                          "ticks": ""
                        },
                        "type": "contourcarpet"
                      }
                    ],
                    "heatmap": [
                      {
                        "colorbar": {
                          "outlinewidth": 0,
                          "ticks": ""
                        },
                        "colorscale": [
                          [
                            0,
                            "#0d0887"
                          ],
                          [
                            0.1111111111111111,
                            "#46039f"
                          ],
                          [
                            0.2222222222222222,
                            "#7201a8"
                          ],
                          [
                            0.3333333333333333,
                            "#9c179e"
                          ],
                          [
                            0.4444444444444444,
                            "#bd3786"
                          ],
                          [
                            0.5555555555555556,
                            "#d8576b"
                          ],
                          [
                            0.6666666666666666,
                            "#ed7953"
                          ],
                          [
                            0.7777777777777778,
                            "#fb9f3a"
                          ],
                          [
                            0.8888888888888888,
                            "#fdca26"
                          ],
                          [
                            1,
                            "#f0f921"
                          ]
                        ],
                        "type": "heatmap"
                      }
                    ],
                    "histogram": [
                      {
                        "marker": {
                          "pattern": {
                            "fillmode": "overlay",
                            "size": 10,
                            "solidity": 0.2
                          }
                        },
                        "type": "histogram"
                      }
                    ],
                    "histogram2d": [
                      {
                        "colorbar": {
                          "outlinewidth": 0,
                          "ticks": ""
                        },
                        "colorscale": [
                          [
                            0,
                            "#0d0887"
                          ],
                          [
                            0.1111111111111111,
                            "#46039f"
                          ],
                          [
                            0.2222222222222222,
                            "#7201a8"
                          ],
                          [
                            0.3333333333333333,
                            "#9c179e"
                          ],
                          [
                            0.4444444444444444,
                            "#bd3786"
                          ],
                          [
                            0.5555555555555556,
                            "#d8576b"
                          ],
                          [
                            0.6666666666666666,
                            "#ed7953"
                          ],
                          [
                            0.7777777777777778,
                            "#fb9f3a"
                          ],
                          [
                            0.8888888888888888,
                            "#fdca26"
                          ],
                          [
                            1,
                            "#f0f921"
                          ]
                        ],
                        "type": "histogram2d"
                      }
                    ],
                    "histogram2dcontour": [
                      {
                        "colorbar": {
                          "outlinewidth": 0,
                          "ticks": ""
                        },
                        "colorscale": [
                          [
                            0,
                            "#0d0887"
                          ],
                          [
                            0.1111111111111111,
                            "#46039f"
                          ],
                          [
                            0.2222222222222222,
                            "#7201a8"
                          ],
                          [
                            0.3333333333333333,
                            "#9c179e"
                          ],
                          [
                            0.4444444444444444,
                            "#bd3786"
                          ],
                          [
                            0.5555555555555556,
                            "#d8576b"
                          ],
                          [
                            0.6666666666666666,
                            "#ed7953"
                          ],
                          [
                            0.7777777777777778,
                            "#fb9f3a"
                          ],
                          [
                            0.8888888888888888,
                            "#fdca26"
                          ],
                          [
                            1,
                            "#f0f921"
                          ]
                        ],
                        "type": "histogram2dcontour"
                      }
                    ],
                    "mesh3d": [
                      {
                        "colorbar": {
                          "outlinewidth": 0,
                          "ticks": ""
                        },
                        "type": "mesh3d"
                      }
                    ],
                    "parcoords": [
                      {
                        "line": {
                          "colorbar": {
                            "outlinewidth": 0,
                            "ticks": ""
                          }
                        },
                        "type": "parcoords"
                      }
                    ],
                    "pie": [
                      {
                        "automargin": true,
                        "type": "pie"
                      }
                    ],
                    "scatter": [
                      {
                        "fillpattern": {
                          "fillmode": "overlay",
                          "size": 10,
                          "solidity": 0.2
                        },
                        "type": "scatter"
                      }
                    ],
                    "scatter3d": [
                      {
                        "line": {
                          "colorbar": {
                            "outlinewidth": 0,
                            "ticks": ""
                          }
                        },
                        "marker": {
                          "colorbar": {
                            "outlinewidth": 0,
                            "ticks": ""
                          }
                        },
                        "type": "scatter3d"
                      }
                    ],
                    "scattercarpet": [
                      {
                        "marker": {
                          "colorbar": {
                            "outlinewidth": 0,
                            "ticks": ""
                          }
                        },
                        "type": "scattercarpet"
                      }
                    ],
                    "scattergeo": [
                      {
                        "marker": {
                          "colorbar": {
                            "outlinewidth": 0,
                            "ticks": ""
                          }
                        },
                        "type": "scattergeo"
                      }
                    ],
                    "scattergl": [
                      {
                        "marker": {
                          "colorbar": {
                            "outlinewidth": 0,
                            "ticks": ""
                          }
                        },
                        "type": "scattergl"
                      }
                    ],
                    "scattermap": [
                      {
                        "marker": {
                          "colorbar": {
                            "outlinewidth": 0,
                            "ticks": ""
                          }
                        },
                        "type": "scattermap"
                      }
                    ],
                    "scattermapbox": [
                      {
                        "marker": {
                          "colorbar": {
                            "outlinewidth": 0,
                            "ticks": ""
                          }
                        },
                        "type": "scattermapbox"
                      }
                    ],
                    "scatterpolar": [
                      {
                        "marker": {
                          "colorbar": {
                            "outlinewidth": 0,
                            "ticks": ""
                          }
                        },
                        "type": "scatterpolar"
                      }
                    ],
                    "scatterpolargl": [
                      {
                        "marker": {
                          "colorbar": {
                            "outlinewidth": 0,
                            "ticks": ""
                          }
                        },
                        "type": "scatterpolargl"
                      }
                    ],
                    "scatterternary": [
                      {
                        "marker": {
                          "colorbar": {
                            "outlinewidth": 0,
                            "ticks": ""
                          }
                        },
                        "type": "scatterternary"
                      }
                    ],
                    "surface": [
                      {
                        "colorbar": {
                          "outlinewidth": 0,
                          "ticks": ""
                        },
                        "colorscale": [
                          [
                            0,
                            "#0d0887"
                          ],
                          [
                            0.1111111111111111,
                            "#46039f"
                          ],
                          [
                            0.2222222222222222,
                            "#7201a8"
                          ],
                          [
                            0.3333333333333333,
                            "#9c179e"
                          ],
                          [
                            0.4444444444444444,
                            "#bd3786"
                          ],
                          [
                            0.5555555555555556,
                            "#d8576b"
                          ],
                          [
                            0.6666666666666666,
                            "#ed7953"
                          ],
                          [
                            0.7777777777777778,
                            "#fb9f3a"
                          ],
                          [
                            0.8888888888888888,
                            "#fdca26"
                          ],
                          [
                            1,
                            "#f0f921"
                          ]
                        ],
                        "type": "surface"
                      }
                    ],
                    "table": [
                      {
                        "cells": {
                          "fill": {
                            "color": "#EBF0F8"
                          },
                          "line": {
                            "color": "white"
                          }
                        },
                        "header": {
                          "fill": {
                            "color": "#C8D4E3"
                          },
                          "line": {
                            "color": "white"
                          }
                        },
                        "type": "table"
                      }
                    ]
                  },
                  "layout": {
                    "annotationdefaults": {
                      "arrowcolor": "#2a3f5f",
                      "arrowhead": 0,
                      "arrowwidth": 1
                    },
                    "autotypenumbers": "strict",
                    "coloraxis": {
                      "colorbar": {
                        "outlinewidth": 0,
                        "ticks": ""
                      }
                    },
                    "colorscale": {
                      "diverging": [
                        [
                          0,
                          "#8e0152"
                        ],
                        [
                          0.1,
                          "#c51b7d"
                        ],
                        [
                          0.2,
                          "#de77ae"
                        ],
                        [
                          0.3,
                          "#f1b6da"
                        ],
                        [
                          0.4,
                          "#fde0ef"
                        ],
                        [
                          0.5,
                          "#f7f7f7"
                        ],
                        [
                          0.6,
                          "#e6f5d0"
                        ],
                        [
                          0.7,
                          "#b8e186"
                        ],
                        [
                          0.8,
                          "#7fbc41"
                        ],
                        [
                          0.9,
                          "#4d9221"
                        ],
                        [
                          1,
                          "#276419"
                        ]
                      ],
                      "sequential": [
                        [
                          0,
                          "#0d0887"
                        ],
                        [
                          0.1111111111111111,
                          "#46039f"
                        ],
                        [
                          0.2222222222222222,
                          "#7201a8"
                        ],
                        [
                          0.3333333333333333,
                          "#9c179e"
                        ],
                        [
                          0.4444444444444444,
                          "#bd3786"
                        ],
                        [
                          0.5555555555555556,
                          "#d8576b"
                        ],
                        [
                          0.6666666666666666,
                          "#ed7953"
                        ],
                        [
                          0.7777777777777778,
                          "#fb9f3a"
                        ],
                        [
                          0.8888888888888888,
                          "#fdca26"
                        ],
                        [
                          1,
                          "#f0f921"
                        ]
                      ],
                      "sequentialminus": [
                        [
                          0,
                          "#0d0887"
                        ],
                        [
                          0.1111111111111111,
                          "#46039f"
                        ],
                        [
                          0.2222222222222222,
                          "#7201a8"
                        ],
                        [
                          0.3333333333333333,
                          "#9c179e"
                        ],
                        [
                          0.4444444444444444,
                          "#bd3786"
                        ],
                        [
                          0.5555555555555556,
                          "#d8576b"
                        ],
                        [
                          0.6666666666666666,
                          "#ed7953"
                        ],
                        [
                          0.7777777777777778,
                          "#fb9f3a"
                        ],
                        [
                          0.8888888888888888,
                          "#fdca26"
                        ],
                        [
                          1,
                          "#f0f921"
                        ]
                      ]
                    },
                    "colorway": [
                      "#636efa",
                      "#EF553B",
                      "#00cc96",
                      "#ab63fa",
                      "#FFA15A",
                      "#19d3f3",
                      "#FF6692",
                      "#B6E880",
                      "#FF97FF",
                      "#FECB52"
                    ],
                    "font": {
                      "color": "#2a3f5f"
                    },
                    "geo": {
                      "bgcolor": "white",
                      "lakecolor": "white",
                      "landcolor": "#E5ECF6",
                      "showlakes": true,
                      "showland": true,
                      "subunitcolor": "white"
                    },
                    "hoverlabel": {
                      "align": "left"
                    },
                    "hovermode": "closest",
                    "mapbox": {
                      "style": "light"
                    },
                    "paper_bgcolor": "white",
                    "plot_bgcolor": "#E5ECF6",
                    "polar": {
                      "angularaxis": {
                        "gridcolor": "white",
                        "linecolor": "white",
                        "ticks": ""
                      },
                      "bgcolor": "#E5ECF6",
                      "radialaxis": {
                        "gridcolor": "white",
                        "linecolor": "white",
                        "ticks": ""
                      }
                    },
                    "scene": {
                      "xaxis": {
                        "backgroundcolor": "#E5ECF6",
                        "gridcolor": "white",
                        "gridwidth": 2,
                        "linecolor": "white",
                        "showbackground": true,
                        "ticks": "",
                        "zerolinecolor": "white"
                      },
                      "yaxis": {
                        "backgroundcolor": "#E5ECF6",
                        "gridcolor": "white",
                        "gridwidth": 2,
                        "linecolor": "white",
                        "showbackground": true,
                        "ticks": "",
                        "zerolinecolor": "white"
                      },
                      "zaxis": {
                        "backgroundcolor": "#E5ECF6",
                        "gridcolor": "white",
                        "gridwidth": 2,
                        "linecolor": "white",
                        "showbackground": true,
                        "ticks": "",
                        "zerolinecolor": "white"
                      }
                    },
                    "shapedefaults": {
                      "line": {
                        "color": "#2a3f5f"
                      }
                    },
                    "ternary": {
                      "aaxis": {
                        "gridcolor": "white",
                        "linecolor": "white",
                        "ticks": ""
                      },
                      "baxis": {
                        "gridcolor": "white",
                        "linecolor": "white",
                        "ticks": ""
                      },
                      "bgcolor": "#E5ECF6",
                      "caxis": {
                        "gridcolor": "white",
                        "linecolor": "white",
                        "ticks": ""
                      }
                    },
                    "title": {
                      "x": 0.05
                    },
                    "xaxis": {
                      "automargin": true,
                      "gridcolor": "white",
                      "linecolor": "white",
                      "ticks": "",
                      "title": {
                        "standoff": 15
                      },
                      "zerolinecolor": "white",
                      "zerolinewidth": 2
                    },
                    "yaxis": {
                      "automargin": true,
                      "gridcolor": "white",
                      "linecolor": "white",
                      "ticks": "",
                      "title": {
                        "standoff": 15
                      },
                      "zerolinecolor": "white",
                      "zerolinewidth": 2
                    }
                  }
                },
                "title": {
                  "text": "Distribución de la Presión Arterial"
                },
                "xaxis": {
                  "anchor": "y",
                  "domain": [
                    0,
                    1
                  ],
                  "title": {
                    "text": "BloodPressure"
                  }
                },
                "xaxis2": {
                  "anchor": "y2",
                  "domain": [
                    0,
                    1
                  ],
                  "matches": "x",
                  "showgrid": true,
                  "showticklabels": false
                },
                "yaxis": {
                  "anchor": "x",
                  "domain": [
                    0,
                    0.8316
                  ],
                  "title": {
                    "text": "count"
                  }
                },
                "yaxis2": {
                  "anchor": "x2",
                  "domain": [
                    0.8416,
                    1
                  ],
                  "matches": "y2",
                  "showgrid": false,
                  "showline": false,
                  "showticklabels": false,
                  "ticks": ""
                }
              }
            }
          },
          "metadata": {},
          "output_type": "display_data"
        }
      ],
      "source": [
        "# Crear un histograma interactivo para la presión arterial\n",
        "fig = px.histogram(diabetes,\n",
        "                   x=\"BloodPressure\",\n",
        "                   nbins=30,\n",
        "                   title=\"Distribución de la Presión Arterial\",\n",
        "                   marginal=\"box\") # Añade un boxplot en el margen\n",
        "fig.show()"
      ]
    },
    {
      "cell_type": "markdown",
      "id": "0a9bce6c",
      "metadata": {
        "id": "0a9bce6c"
      },
      "source": [
        "### Boxplot: Comparando Distribuciones\n",
        "Los diagramas de caja son excelentes para comparar la distribución de una variable numérica a través de diferentes categorías. Comparemos la edad (Age) de los pacientes con y sin diabetes."
      ]
    },
    {
      "cell_type": "code",
      "execution_count": 11,
      "id": "a24dc704",
      "metadata": {
        "colab": {
          "base_uri": "https://localhost:8080/",
          "height": 542
        },
        "id": "a24dc704",
        "outputId": "e2f8b65b-10db-4df1-d0da-7b9a93606803"
      },
      "outputs": [
        {
          "data": {
            "application/vnd.plotly.v1+json": {
              "config": {
                "plotlyServerURL": "https://plot.ly"
              },
              "data": [
                {
                  "alignmentgroup": "True",
                  "hovertemplate": "Diagnóstico (0 = No, 1 = Sí)=%{x}<br>Edad=%{y}<extra></extra>",
                  "legendgroup": "1",
                  "marker": {
                    "color": "#636efa"
                  },
                  "name": "1",
                  "notched": false,
                  "offsetgroup": "1",
                  "orientation": "v",
                  "showlegend": true,
                  "type": "box",
                  "x": {
                    "bdata": "AQEBAQEBAQEBAQEBAQEBAQEBAQEBAQEBAQEBAQEBAQEBAQEBAQEBAQEBAQEBAQEBAQEBAQEBAQEBAQEBAQEBAQEBAQEBAQEBAQEBAQEBAQEBAQEBAQEBAQEBAQEBAQEBAQEBAQEBAQEBAQEBAQEBAQEBAQEBAQEBAQEBAQEBAQEBAQEBAQEBAQEBAQEBAQEBAQEBAQEBAQEBAQEBAQEBAQEBAQEBAQEBAQEBAQEBAQEBAQEBAQEBAQEBAQEBAQEBAQEBAQEBAQEBAQEBAQEBAQEBAQEBAQEBAQEBAQEBAQEBAQEBAQEBAQEBAQEBAQEBAQEBAQEBAQEBAQEBAQEBAQEBAQEBAQEBAQEBAQ==",
                    "dtype": "i1"
                  },
                  "x0": " ",
                  "xaxis": "x",
                  "y": {
                    "bdata": "MiAhGjU2IjszIB8fICkdMykrHC4bODYZHzopJyomHCoaJSs8HyEYGC4nPSYZFxooPiEhHioqKyQvICkkHSQaJSk8IR8ZJCgdFxodOTQpGCQmGSApFUIYFi4aMxcgFiExLBUzGyMZHCYdHC80HRkfGB0uHhkcLxkeGysdOxkkKx4XKSwhKSUxHCwdHUMdLRk6ICMtOhsfFhkfIykuJxwVFiUcJB8mKx0pIR4ZFhcmMyYdIx8YLTcpIy4cNS0XICsbOCU1NhwhFT4VNCk0LSwWJjYkFiQoMjIYIiYgMiEWKhkbFisoKEYoHzUZGhsuLCsrHzE0Hi0XJiIfNCoiFhgqMC0bJDIWGi0lNEIrLw==",
                    "dtype": "i1"
                  },
                  "y0": " ",
                  "yaxis": "y"
                },
                {
                  "alignmentgroup": "True",
                  "hovertemplate": "Diagnóstico (0 = No, 1 = Sí)=%{x}<br>Edad=%{y}<extra></extra>",
                  "legendgroup": "0",
                  "marker": {
                    "color": "#EF553B"
                  },
                  "name": "0",
                  "notched": false,
                  "offsetgroup": "0",
                  "orientation": "v",
                  "showlegend": true,
                  "type": "box",
                  "x": {
                    "bdata": "AAAAAAAAAAAAAAAAAAAAAAAAAAAAAAAAAAAAAAAAAAAAAAAAAAAAAAAAAAAAAAAAAAAAAAAAAAAAAAAAAAAAAAAAAAAAAAAAAAAAAAAAAAAAAAAAAAAAAAAAAAAAAAAAAAAAAAAAAAAAAAAAAAAAAAAAAAAAAAAAAAAAAAAAAAAAAAAAAAAAAAAAAAAAAAAAAAAAAAAAAAAAAAAAAAAAAAAAAAAAAAAAAAAAAAAAAAAAAAAAAAAAAAAAAAAAAAAAAAAAAAAAAAAAAAAAAAAAAAAAAAAAAAAAAAAAAAAAAAAAAAAAAAAAAAAAAAAAAAAAAAAAAAAAAAAAAAAAAAAAAAAAAAAAAAAAAAAAAAAAAAAAAAAAAAAAAAAAAAAAAAAAAAAAAAAAAAAAAAAAAAAAAAAAAAAAAAAAAAAAAAAAAAAAAAAAAAAAAAAAAAAAAAAAAAAAAAAAAAAAAAAAAAAAAAAAAAAAAAAAAAAAAAAAAAAAAAAAAAAAAAAAAAAAAAAAAAAAAAAAAAAAAAAAAAAAAAAAAAAAAAAAAAAAAAAAAAAAAAAAAAAAAAAAAAAAAAAAAAAAAAAAAAAAAAAAAAAAAAAAAAAAAAAAAAAAAAAAAAAAAAAAAAAAAAAAAAAAAAAAAAAAAAAAAAAAAAAAAAAAAAAAAAA=",
                    "dtype": "i1"
                  },
                  "x0": " ",
                  "xaxis": "x",
                  "y": {
                    "bdata": "HxUeHR45IRsyFjkmPBYcLSEjGiUwKB0WGBYaHioVHywWFSQYIDYZGxoXFhYpGxgWFiQWGy0aGBUiKhUoGBYXFhUYGxUbJRkXGRkWFRgXRR4XJxofFRYdHDcmFhcVKSJBFhglFxUXFiQtGxUWIh0dGRchKi8gFxUbKBUoKhUVHCAbNxsVGRg8ICU9GhYaHxgWHRcbFRYdKRciFyobGBkeGRgiGD8rGBUVKBU0GRc5FiclMyIaIRVBHBg6IyUdFSkWGRoeHB8VGCUlLhksFhosFiQWITkxFhcaHR4uGBUwP0EeHhUWFRUZHBYWIxgWFRkZGBwqFSUZJxk3JhoZHBkWFRYbGhUVFRkaFyYWHSQpHBUfFhgcGhoXGUgYPhhRMBonJSIVFhkbHBYWMhg7Hyc/HRwXFTocQxgqIRZCHhknFRwpKCYVFUAVOhYYMyk8GRoaGBUVGBYfFhgdHxguQxcZHRwyJRUZQhccJR46KiMYIBsWFS4lJxUWFhcZIyQbPioWHRkYGSIuFRoYHB4VGRsXGBobHhccHC0VFR0VFS0VGBcWHzAXHBsYHxseFxcbHBsWFikzNhgrLTEVLxZEGRcWFkUZFh0XIhcZFhwaGikbHBYYKBUgOBgiFSotJhkWFhYWNRwVKhUaFicuIBwZJxoWIT8bHhc=",
                    "dtype": "i1"
                  },
                  "y0": " ",
                  "yaxis": "y"
                }
              ],
              "layout": {
                "boxmode": "overlay",
                "legend": {
                  "title": {
                    "text": "Diagnóstico (0 = No, 1 = Sí)"
                  },
                  "tracegroupgap": 0
                },
                "template": {
                  "data": {
                    "bar": [
                      {
                        "error_x": {
                          "color": "#2a3f5f"
                        },
                        "error_y": {
                          "color": "#2a3f5f"
                        },
                        "marker": {
                          "line": {
                            "color": "#E5ECF6",
                            "width": 0.5
                          },
                          "pattern": {
                            "fillmode": "overlay",
                            "size": 10,
                            "solidity": 0.2
                          }
                        },
                        "type": "bar"
                      }
                    ],
                    "barpolar": [
                      {
                        "marker": {
                          "line": {
                            "color": "#E5ECF6",
                            "width": 0.5
                          },
                          "pattern": {
                            "fillmode": "overlay",
                            "size": 10,
                            "solidity": 0.2
                          }
                        },
                        "type": "barpolar"
                      }
                    ],
                    "carpet": [
                      {
                        "aaxis": {
                          "endlinecolor": "#2a3f5f",
                          "gridcolor": "white",
                          "linecolor": "white",
                          "minorgridcolor": "white",
                          "startlinecolor": "#2a3f5f"
                        },
                        "baxis": {
                          "endlinecolor": "#2a3f5f",
                          "gridcolor": "white",
                          "linecolor": "white",
                          "minorgridcolor": "white",
                          "startlinecolor": "#2a3f5f"
                        },
                        "type": "carpet"
                      }
                    ],
                    "choropleth": [
                      {
                        "colorbar": {
                          "outlinewidth": 0,
                          "ticks": ""
                        },
                        "type": "choropleth"
                      }
                    ],
                    "contour": [
                      {
                        "colorbar": {
                          "outlinewidth": 0,
                          "ticks": ""
                        },
                        "colorscale": [
                          [
                            0,
                            "#0d0887"
                          ],
                          [
                            0.1111111111111111,
                            "#46039f"
                          ],
                          [
                            0.2222222222222222,
                            "#7201a8"
                          ],
                          [
                            0.3333333333333333,
                            "#9c179e"
                          ],
                          [
                            0.4444444444444444,
                            "#bd3786"
                          ],
                          [
                            0.5555555555555556,
                            "#d8576b"
                          ],
                          [
                            0.6666666666666666,
                            "#ed7953"
                          ],
                          [
                            0.7777777777777778,
                            "#fb9f3a"
                          ],
                          [
                            0.8888888888888888,
                            "#fdca26"
                          ],
                          [
                            1,
                            "#f0f921"
                          ]
                        ],
                        "type": "contour"
                      }
                    ],
                    "contourcarpet": [
                      {
                        "colorbar": {
                          "outlinewidth": 0,
                          "ticks": ""
                        },
                        "type": "contourcarpet"
                      }
                    ],
                    "heatmap": [
                      {
                        "colorbar": {
                          "outlinewidth": 0,
                          "ticks": ""
                        },
                        "colorscale": [
                          [
                            0,
                            "#0d0887"
                          ],
                          [
                            0.1111111111111111,
                            "#46039f"
                          ],
                          [
                            0.2222222222222222,
                            "#7201a8"
                          ],
                          [
                            0.3333333333333333,
                            "#9c179e"
                          ],
                          [
                            0.4444444444444444,
                            "#bd3786"
                          ],
                          [
                            0.5555555555555556,
                            "#d8576b"
                          ],
                          [
                            0.6666666666666666,
                            "#ed7953"
                          ],
                          [
                            0.7777777777777778,
                            "#fb9f3a"
                          ],
                          [
                            0.8888888888888888,
                            "#fdca26"
                          ],
                          [
                            1,
                            "#f0f921"
                          ]
                        ],
                        "type": "heatmap"
                      }
                    ],
                    "histogram": [
                      {
                        "marker": {
                          "pattern": {
                            "fillmode": "overlay",
                            "size": 10,
                            "solidity": 0.2
                          }
                        },
                        "type": "histogram"
                      }
                    ],
                    "histogram2d": [
                      {
                        "colorbar": {
                          "outlinewidth": 0,
                          "ticks": ""
                        },
                        "colorscale": [
                          [
                            0,
                            "#0d0887"
                          ],
                          [
                            0.1111111111111111,
                            "#46039f"
                          ],
                          [
                            0.2222222222222222,
                            "#7201a8"
                          ],
                          [
                            0.3333333333333333,
                            "#9c179e"
                          ],
                          [
                            0.4444444444444444,
                            "#bd3786"
                          ],
                          [
                            0.5555555555555556,
                            "#d8576b"
                          ],
                          [
                            0.6666666666666666,
                            "#ed7953"
                          ],
                          [
                            0.7777777777777778,
                            "#fb9f3a"
                          ],
                          [
                            0.8888888888888888,
                            "#fdca26"
                          ],
                          [
                            1,
                            "#f0f921"
                          ]
                        ],
                        "type": "histogram2d"
                      }
                    ],
                    "histogram2dcontour": [
                      {
                        "colorbar": {
                          "outlinewidth": 0,
                          "ticks": ""
                        },
                        "colorscale": [
                          [
                            0,
                            "#0d0887"
                          ],
                          [
                            0.1111111111111111,
                            "#46039f"
                          ],
                          [
                            0.2222222222222222,
                            "#7201a8"
                          ],
                          [
                            0.3333333333333333,
                            "#9c179e"
                          ],
                          [
                            0.4444444444444444,
                            "#bd3786"
                          ],
                          [
                            0.5555555555555556,
                            "#d8576b"
                          ],
                          [
                            0.6666666666666666,
                            "#ed7953"
                          ],
                          [
                            0.7777777777777778,
                            "#fb9f3a"
                          ],
                          [
                            0.8888888888888888,
                            "#fdca26"
                          ],
                          [
                            1,
                            "#f0f921"
                          ]
                        ],
                        "type": "histogram2dcontour"
                      }
                    ],
                    "mesh3d": [
                      {
                        "colorbar": {
                          "outlinewidth": 0,
                          "ticks": ""
                        },
                        "type": "mesh3d"
                      }
                    ],
                    "parcoords": [
                      {
                        "line": {
                          "colorbar": {
                            "outlinewidth": 0,
                            "ticks": ""
                          }
                        },
                        "type": "parcoords"
                      }
                    ],
                    "pie": [
                      {
                        "automargin": true,
                        "type": "pie"
                      }
                    ],
                    "scatter": [
                      {
                        "fillpattern": {
                          "fillmode": "overlay",
                          "size": 10,
                          "solidity": 0.2
                        },
                        "type": "scatter"
                      }
                    ],
                    "scatter3d": [
                      {
                        "line": {
                          "colorbar": {
                            "outlinewidth": 0,
                            "ticks": ""
                          }
                        },
                        "marker": {
                          "colorbar": {
                            "outlinewidth": 0,
                            "ticks": ""
                          }
                        },
                        "type": "scatter3d"
                      }
                    ],
                    "scattercarpet": [
                      {
                        "marker": {
                          "colorbar": {
                            "outlinewidth": 0,
                            "ticks": ""
                          }
                        },
                        "type": "scattercarpet"
                      }
                    ],
                    "scattergeo": [
                      {
                        "marker": {
                          "colorbar": {
                            "outlinewidth": 0,
                            "ticks": ""
                          }
                        },
                        "type": "scattergeo"
                      }
                    ],
                    "scattergl": [
                      {
                        "marker": {
                          "colorbar": {
                            "outlinewidth": 0,
                            "ticks": ""
                          }
                        },
                        "type": "scattergl"
                      }
                    ],
                    "scattermap": [
                      {
                        "marker": {
                          "colorbar": {
                            "outlinewidth": 0,
                            "ticks": ""
                          }
                        },
                        "type": "scattermap"
                      }
                    ],
                    "scattermapbox": [
                      {
                        "marker": {
                          "colorbar": {
                            "outlinewidth": 0,
                            "ticks": ""
                          }
                        },
                        "type": "scattermapbox"
                      }
                    ],
                    "scatterpolar": [
                      {
                        "marker": {
                          "colorbar": {
                            "outlinewidth": 0,
                            "ticks": ""
                          }
                        },
                        "type": "scatterpolar"
                      }
                    ],
                    "scatterpolargl": [
                      {
                        "marker": {
                          "colorbar": {
                            "outlinewidth": 0,
                            "ticks": ""
                          }
                        },
                        "type": "scatterpolargl"
                      }
                    ],
                    "scatterternary": [
                      {
                        "marker": {
                          "colorbar": {
                            "outlinewidth": 0,
                            "ticks": ""
                          }
                        },
                        "type": "scatterternary"
                      }
                    ],
                    "surface": [
                      {
                        "colorbar": {
                          "outlinewidth": 0,
                          "ticks": ""
                        },
                        "colorscale": [
                          [
                            0,
                            "#0d0887"
                          ],
                          [
                            0.1111111111111111,
                            "#46039f"
                          ],
                          [
                            0.2222222222222222,
                            "#7201a8"
                          ],
                          [
                            0.3333333333333333,
                            "#9c179e"
                          ],
                          [
                            0.4444444444444444,
                            "#bd3786"
                          ],
                          [
                            0.5555555555555556,
                            "#d8576b"
                          ],
                          [
                            0.6666666666666666,
                            "#ed7953"
                          ],
                          [
                            0.7777777777777778,
                            "#fb9f3a"
                          ],
                          [
                            0.8888888888888888,
                            "#fdca26"
                          ],
                          [
                            1,
                            "#f0f921"
                          ]
                        ],
                        "type": "surface"
                      }
                    ],
                    "table": [
                      {
                        "cells": {
                          "fill": {
                            "color": "#EBF0F8"
                          },
                          "line": {
                            "color": "white"
                          }
                        },
                        "header": {
                          "fill": {
                            "color": "#C8D4E3"
                          },
                          "line": {
                            "color": "white"
                          }
                        },
                        "type": "table"
                      }
                    ]
                  },
                  "layout": {
                    "annotationdefaults": {
                      "arrowcolor": "#2a3f5f",
                      "arrowhead": 0,
                      "arrowwidth": 1
                    },
                    "autotypenumbers": "strict",
                    "coloraxis": {
                      "colorbar": {
                        "outlinewidth": 0,
                        "ticks": ""
                      }
                    },
                    "colorscale": {
                      "diverging": [
                        [
                          0,
                          "#8e0152"
                        ],
                        [
                          0.1,
                          "#c51b7d"
                        ],
                        [
                          0.2,
                          "#de77ae"
                        ],
                        [
                          0.3,
                          "#f1b6da"
                        ],
                        [
                          0.4,
                          "#fde0ef"
                        ],
                        [
                          0.5,
                          "#f7f7f7"
                        ],
                        [
                          0.6,
                          "#e6f5d0"
                        ],
                        [
                          0.7,
                          "#b8e186"
                        ],
                        [
                          0.8,
                          "#7fbc41"
                        ],
                        [
                          0.9,
                          "#4d9221"
                        ],
                        [
                          1,
                          "#276419"
                        ]
                      ],
                      "sequential": [
                        [
                          0,
                          "#0d0887"
                        ],
                        [
                          0.1111111111111111,
                          "#46039f"
                        ],
                        [
                          0.2222222222222222,
                          "#7201a8"
                        ],
                        [
                          0.3333333333333333,
                          "#9c179e"
                        ],
                        [
                          0.4444444444444444,
                          "#bd3786"
                        ],
                        [
                          0.5555555555555556,
                          "#d8576b"
                        ],
                        [
                          0.6666666666666666,
                          "#ed7953"
                        ],
                        [
                          0.7777777777777778,
                          "#fb9f3a"
                        ],
                        [
                          0.8888888888888888,
                          "#fdca26"
                        ],
                        [
                          1,
                          "#f0f921"
                        ]
                      ],
                      "sequentialminus": [
                        [
                          0,
                          "#0d0887"
                        ],
                        [
                          0.1111111111111111,
                          "#46039f"
                        ],
                        [
                          0.2222222222222222,
                          "#7201a8"
                        ],
                        [
                          0.3333333333333333,
                          "#9c179e"
                        ],
                        [
                          0.4444444444444444,
                          "#bd3786"
                        ],
                        [
                          0.5555555555555556,
                          "#d8576b"
                        ],
                        [
                          0.6666666666666666,
                          "#ed7953"
                        ],
                        [
                          0.7777777777777778,
                          "#fb9f3a"
                        ],
                        [
                          0.8888888888888888,
                          "#fdca26"
                        ],
                        [
                          1,
                          "#f0f921"
                        ]
                      ]
                    },
                    "colorway": [
                      "#636efa",
                      "#EF553B",
                      "#00cc96",
                      "#ab63fa",
                      "#FFA15A",
                      "#19d3f3",
                      "#FF6692",
                      "#B6E880",
                      "#FF97FF",
                      "#FECB52"
                    ],
                    "font": {
                      "color": "#2a3f5f"
                    },
                    "geo": {
                      "bgcolor": "white",
                      "lakecolor": "white",
                      "landcolor": "#E5ECF6",
                      "showlakes": true,
                      "showland": true,
                      "subunitcolor": "white"
                    },
                    "hoverlabel": {
                      "align": "left"
                    },
                    "hovermode": "closest",
                    "mapbox": {
                      "style": "light"
                    },
                    "paper_bgcolor": "white",
                    "plot_bgcolor": "#E5ECF6",
                    "polar": {
                      "angularaxis": {
                        "gridcolor": "white",
                        "linecolor": "white",
                        "ticks": ""
                      },
                      "bgcolor": "#E5ECF6",
                      "radialaxis": {
                        "gridcolor": "white",
                        "linecolor": "white",
                        "ticks": ""
                      }
                    },
                    "scene": {
                      "xaxis": {
                        "backgroundcolor": "#E5ECF6",
                        "gridcolor": "white",
                        "gridwidth": 2,
                        "linecolor": "white",
                        "showbackground": true,
                        "ticks": "",
                        "zerolinecolor": "white"
                      },
                      "yaxis": {
                        "backgroundcolor": "#E5ECF6",
                        "gridcolor": "white",
                        "gridwidth": 2,
                        "linecolor": "white",
                        "showbackground": true,
                        "ticks": "",
                        "zerolinecolor": "white"
                      },
                      "zaxis": {
                        "backgroundcolor": "#E5ECF6",
                        "gridcolor": "white",
                        "gridwidth": 2,
                        "linecolor": "white",
                        "showbackground": true,
                        "ticks": "",
                        "zerolinecolor": "white"
                      }
                    },
                    "shapedefaults": {
                      "line": {
                        "color": "#2a3f5f"
                      }
                    },
                    "ternary": {
                      "aaxis": {
                        "gridcolor": "white",
                        "linecolor": "white",
                        "ticks": ""
                      },
                      "baxis": {
                        "gridcolor": "white",
                        "linecolor": "white",
                        "ticks": ""
                      },
                      "bgcolor": "#E5ECF6",
                      "caxis": {
                        "gridcolor": "white",
                        "linecolor": "white",
                        "ticks": ""
                      }
                    },
                    "title": {
                      "x": 0.05
                    },
                    "xaxis": {
                      "automargin": true,
                      "gridcolor": "white",
                      "linecolor": "white",
                      "ticks": "",
                      "title": {
                        "standoff": 15
                      },
                      "zerolinecolor": "white",
                      "zerolinewidth": 2
                    },
                    "yaxis": {
                      "automargin": true,
                      "gridcolor": "white",
                      "linecolor": "white",
                      "ticks": "",
                      "title": {
                        "standoff": 15
                      },
                      "zerolinecolor": "white",
                      "zerolinewidth": 2
                    }
                  }
                },
                "title": {
                  "text": "Comparación de Edad por Diagnóstico de Diabetes"
                },
                "xaxis": {
                  "anchor": "y",
                  "categoryarray": [
                    1,
                    0
                  ],
                  "categoryorder": "array",
                  "domain": [
                    0,
                    1
                  ],
                  "title": {
                    "text": "Diagnóstico (0 = No, 1 = Sí)"
                  }
                },
                "yaxis": {
                  "anchor": "x",
                  "domain": [
                    0,
                    1
                  ],
                  "title": {
                    "text": "Edad"
                  }
                }
              }
            }
          },
          "metadata": {},
          "output_type": "display_data"
        }
      ],
      "source": [
        "# Crear un boxplot para comparar la edad por diagnóstico\n",
        "fig = px.box(diabetes,\n",
        "             x=\"Outcome\",\n",
        "             y=\"Age\",\n",
        "             color=\"Outcome\",\n",
        "             title=\"Comparación de Edad por Diagnóstico de Diabetes\",\n",
        "             labels={\"Outcome\": \"Diagnóstico (0 = No, 1 = Sí)\", \"Age\": \"Edad\"})\n",
        "fig.show()"
      ]
    },
    {
      "cell_type": "markdown",
      "id": "66301511",
      "metadata": {
        "id": "66301511"
      },
      "source": [
        "### Diagrama de Dispersión: Relación entre dos Variables\n",
        "Exploremos si existe una relación entre el nivel de glucosa (Glucose) y el índice de masa corporal (BMI), y veamos si el diagnóstico (Outcome) influye."
      ]
    },
    {
      "cell_type": "code",
      "execution_count": 12,
      "id": "db4f605b",
      "metadata": {
        "colab": {
          "base_uri": "https://localhost:8080/",
          "height": 542
        },
        "id": "db4f605b",
        "outputId": "a4ff83d3-6e9a-4099-8afa-ff5337d746f2"
      },
      "outputs": [
        {
          "data": {
            "application/vnd.plotly.v1+json": {
              "config": {
                "plotlyServerURL": "https://plot.ly"
              },
              "data": [
                {
                  "customdata": {
                    "bdata": "Mh8gFSEeGh01Nh4iOTszIB8fISAbMikdMykrFjkmPBwWHC0hIy4bOBolMDYoGR0WHxgWGh46KhUpHywWFSckGCogJjYZGxwaKhcWFikbGhgWFiQWJRstGisYFSIqPBUoGBYXHyEWFRgbFRslGRgYLhcZJz0mGRYVGRgXRRcaHhcoPiEhHicaHxUWHRw3JhYqFxUpIkEWGCUqFyskFRcWLyQtGxUgKRYiHR0kHRkXISQqGi8lIBcVGygpPCEfGRUoJCgqHRUXGh0VHCAbNxs5NBUpGRg8GCQmGSAgKRVCJT0aFhoYHxgWLhYdFxozFyAbFRYWIR0xKRciFyobGBksFR4ZGDMiGxg/IysZGBUcJhUoFTQZHRc5FhwnJS80MyIdGiEVGR8YQRwdGC46HhkjHCUdLxUZHikWGxkrGh4dHDsfGSQrFRgeJRclLhkpLBYaLCwhKRYkFiE5MRYXGiUdHi4YFTEcLDAdHT9BQx4eHRUWLRkVFRkcOhYWICMYFhUZGRgjLTocKhsVJR8ZJxYZGR83IyYpGi4ZJxwcGRYVFRYWJRscGhUVFSQfGSYaKxcmFh0kHSkcFR8pFhghHhkcGhYaFxcZSBgmPhgzUTAaJyUiFRYZJhscFhYyGDsdHyc/Ix0cFx8YFTocQxgqIS0WQh4ZNycVHCkpKCYjFRVALhU6FhgcNTMpPBkaGi0YFRUYFh8WGB0fGBcuQxcgKxs4GR0lNRwyJRUZQhccJR46KiM2HBggGxYVLiUhJxUWFhcZIxUkPhUbPio0FikdNBktGCwZIhYuFSYaGBweNiQVFhkbFxgkKBoyGx4XMhgcHC0VFR0VFS0VIhgXFh8mMBcgHBsYMh8bHiEWKhcXGxwbFhkWKTMbNhYrKCgYRigrLTEVLxZEHzUZGRcWGhYbRRkWHRcuIiwXKxkrHxYcGhoxNCkbHB4WLRcYKCYVICIfOBg0IhUqKi0mGRYWFiIWGBY1HBUqFSowGhYtJy4bICQyFhwZGi0lJzQaQhYrIT8bHi8X",
                    "dtype": "i1",
                    "shape": "768, 1"
                  },
                  "hovertemplate": "Nivel de Glucosa=%{x}<br>Índice de Masa Corporal=%{y}<br>Age=%{customdata[0]}<br>Outcome=%{marker.color}<extra></extra>",
                  "legendgroup": "",
                  "marker": {
                    "color": {
                      "bdata": "AQABAAEAAQABAQABAAEBAQEBAAEAAAEBAQEBAAAAAAEAAAAAAAEBAQAAAAEAAQAAAQAAAAABAAABAAAAAAEAAAEAAQAAAAEAAQAAAAAAAQAAAAAAAQAAAAEAAAAAAQAAAAAAAQEAAAAAAAAAAAEBAQAAAQEBAAAAAQAAAAEBAAABAQEBAQAAAAAAAAAAAAABAAAAAAAAAAABAAEBAAAAAQAAAAABAQAAAAABAQAAAAEAAQABAAAAAAABAQEBAQAAAQEAAQABAQEAAAAAAAABAQABAAAAAQEBAQABAQEBAAAAAAABAAABAQAAAAEBAQEAAAABAQABAAAAAAAAAAABAQAAAAEAAQAAAQABAAABAQAAAAAAAQAAAAEAAAEBAAABAAAAAQEBAAABAAEAAQEAAQAAAQABAQAAAQABAAABAAEAAQEBAAABAAEAAAABAAAAAAEBAQAAAAAAAAAAAAEAAAAAAAEBAQABAQAAAQAAAQAAAQEAAAAAAQAAAQAAAAAAAAABAQEAAAEAAAEAAAEAAQEAAQABAAEAAQEAAAAAAQEAAQABAAAAAAEBAAEAAQAAAAAAAQAAAAABAAABAQEAAAEAAAEAAAABAAABAAAAAAAAAAAAAQAAAAAAAAABAAAAAQAAAAEBAAAAAAAAAAEAAAAAAQAAAAEAAAABAAAAAQAAAAABAQAAAAAAAAEAAAAAAAAAAAAAAAEAAAABAQEBAAABAQAAAAAAAAAAAAAAAAABAQAAAAAAAAABAAAAAAAAAAEAAQEAAAABAAEAAQABAAEAAAEAAAEAAAAAAQEAAQAAAAABAQABAAAAAQEAAAAAAAAAAAAAAQAAAAABAAABAAAAAQAAAAEBAQAAAAAAAAEAAAABAAEBAQEAAQEAAAAAAAAAAQEAAQAAAQABAAAAAAABAAEAAQABAQAAAAABAQAAAAEAAQEAAAEAAAEBAAABAAABAAAAAAAAAAEBAQAAAAAAAAEBAAABAAABAAEBAQAAAQEBAAEAAQABAAAAAAEA",
                      "dtype": "i1"
                    },
                    "coloraxis": "coloraxis",
                    "symbol": "circle"
                  },
                  "mode": "markers",
                  "name": "",
                  "orientation": "v",
                  "showlegend": false,
                  "type": "scatter",
                  "x": {
                    "bdata": "lABVALcAWQCJAHQATgBzAMUAfQBuAKgAiwC9AKYAZAB2AGsAZwBzAH4AYwDEAHcAjwB9AJMAYQCRAHUAbQCeAFgAXAB6AGcAigBmAFoAbwC0AIUAagCrAJ8AtACSAEcAZwBpAGcAZQBYALAAlgBJALsAZACSAGkAVACFACwAjQByAGMAbQBtAF8AkgBkAIsAfgCBAE8AAAA+AF8AgwBwAHEASgBTAGUAiQBuAGoAZACIAGsAUAB7AFEAhgCOAJAAXABHAF0AegCjAJcAfQBRAFUAfgBgAJAAUwBfAKsAmwBZAEwAoACSAHwATgBhAGMAogBvAGsAhABxAFgAeAB2AHUAaQCtAHoAqgBUAGAAfQBkAF0AgQBpAIAAagBsAGwAmgBmADkAagCTAFoAiAByAJwAmQC8AJgAYwBtAFgAowCXAGYAcgBkAIMAaACUAHgAbgBvAGYAhgBXAE8ASwCzAFUAgQCPAIIAVwB3AAAASQCNAMIAtQCAAG0AiwBvAHsAnwCHAFUAngBpAGsAbQCUAHEAigBsAGMAZwBvAMQAogBgALgAUQCTALMAjABwAJcAbQB9AFUAcACxAJ4AdwCOAGQAVwBlAKIAxQB1AI4AhgBPAHoASgCrALUAswCkAGgAWwBbAIsAdwCSALgAegClAHwAbwBqAIEAWgBWAFwAcQBvAHIAwQCbAL8AjQBfAI4AewBgAIoAgABmAJIAZQBsAHoARwBqAGQAagBoAHIAbACSAIEAhQChAGwAiACbAHcAYABsAE4AawCAAIAAoQCXAJIAfgBkAHAApwCQAE0AcwCWAHgAoQCJAIAAfABQAGoAmwBxAG0AcABjALYAcwDCAIEAcAB8AJgAcACdAHoAswBmAGkAdgBXALQAagBfAKUAdQBzAJgAsgCCAF8AAAB6AF8AfgCLAHQAYwAAAFwAiQA9AFoAWgClAH0AgQBYAMQAvQCeAGcAkgCTAGMAfABlAFEAhQCtAHYAVABpAHoAjABiAFcAnABdAGsAaQBtAFoAfQB3AHQAaQCQAGQAZACmAIMAdACeAH8AYACDAFIAwQBfAIkAiABIAKgAewBzAGUAxQCsAGYAcACPAI8AigCtAGEAkABTAIEAdwBeAGYAcwCXALgAXgC1AIcAXwBjAFkAUACLAFoAjQCMAJMAYQBrAL0AUwB1AGwAdQC0AGQAXwBoAHgAUgCGAFsAdwBkAK8AhwBWAJQAhgB4AEcASgBYAHMAfABKAGEAeACaAJAAiQB3AIgAcgCJAGkAcgB+AIQAngB7AFUAVACRAIcAiwCtAGMAwgBTAFkAYwB9AFAApgBuAFEAwwCaAHUAVAAAAF4AYABLALQAggBUAHgAVACLAFsAWwBjAKMAkQB9AEwAgQBEAHwAcgCCAH0AVwBhAHQAdQBvAHoAawBWAFsATQCEAGkAOQB/AIEAZACAAFoAVABYALoAuwCDAKQAvQB0AFQAcgBYAFQAfABhAG4AZwBVAH0AxgBXAGMAWwBfAGMAXACaAHkATgCCAG8AYgCPAHcAbAB2AIUAxQCXAG0AeQBkAHwAXQCPAGcAsABJAG8AcACEAFIAewC8AEMAWQCtAG0AbABgAHwAlgC3AHwAtQBcAJgAbwBqAK4AqABpAIoAagB1AEQAcAB3AHAAXAC3AF4AbABaAH0AhACAAF4AcgBmAG8AgABcAGgAaABeAGEAZABmAIAAkwBaAGcAnQCnALMAiABrAFsAdQB7AHgAagCbAGUAeAB/AFAAogDHAKcAkQBzAHAAkQBvAGIAmgClAGMARAB7AFsAwwCcAF0AeQBlADgAogBfAH0AiACBAIIAawCMAJAAawCeAHkAgQBaAI4AqQBjAH8AdgB6AH0AqACBAG4AUABzAH8ApABdAJ4AfgCBAIYAZgC7AK0AXgBsAGEAUwByAJUAdQBvAHAAdACNAK8AXACCAHgArgBqAGkAXwB+AEEAYwBmAHgAZgBtAIwAmQBkAJMAUQC7AKIAiAB5AGwAtQCaAIAAiQB7AGoAvgBYAKoAWQBlAHoAeQB+AF0A",
                    "dtype": "i2"
                  },
                  "xaxis": "x",
                  "y": {
                    "bdata": "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",
                    "dtype": "f8"
                  },
                  "yaxis": "y"
                }
              ],
              "layout": {
                "coloraxis": {
                  "colorbar": {
                    "title": {
                      "text": "Outcome"
                    }
                  },
                  "colorscale": [
                    [
                      0,
                      "#0d0887"
                    ],
                    [
                      0.1111111111111111,
                      "#46039f"
                    ],
                    [
                      0.2222222222222222,
                      "#7201a8"
                    ],
                    [
                      0.3333333333333333,
                      "#9c179e"
                    ],
                    [
                      0.4444444444444444,
                      "#bd3786"
                    ],
                    [
                      0.5555555555555556,
                      "#d8576b"
                    ],
                    [
                      0.6666666666666666,
                      "#ed7953"
                    ],
                    [
                      0.7777777777777778,
                      "#fb9f3a"
                    ],
                    [
                      0.8888888888888888,
                      "#fdca26"
                    ],
                    [
                      1,
                      "#f0f921"
                    ]
                  ],
                  "showscale": false
                },
                "legend": {
                  "tracegroupgap": 0
                },
                "template": {
                  "data": {
                    "bar": [
                      {
                        "error_x": {
                          "color": "#2a3f5f"
                        },
                        "error_y": {
                          "color": "#2a3f5f"
                        },
                        "marker": {
                          "line": {
                            "color": "#E5ECF6",
                            "width": 0.5
                          },
                          "pattern": {
                            "fillmode": "overlay",
                            "size": 10,
                            "solidity": 0.2
                          }
                        },
                        "type": "bar"
                      }
                    ],
                    "barpolar": [
                      {
                        "marker": {
                          "line": {
                            "color": "#E5ECF6",
                            "width": 0.5
                          },
                          "pattern": {
                            "fillmode": "overlay",
                            "size": 10,
                            "solidity": 0.2
                          }
                        },
                        "type": "barpolar"
                      }
                    ],
                    "carpet": [
                      {
                        "aaxis": {
                          "endlinecolor": "#2a3f5f",
                          "gridcolor": "white",
                          "linecolor": "white",
                          "minorgridcolor": "white",
                          "startlinecolor": "#2a3f5f"
                        },
                        "baxis": {
                          "endlinecolor": "#2a3f5f",
                          "gridcolor": "white",
                          "linecolor": "white",
                          "minorgridcolor": "white",
                          "startlinecolor": "#2a3f5f"
                        },
                        "type": "carpet"
                      }
                    ],
                    "choropleth": [
                      {
                        "colorbar": {
                          "outlinewidth": 0,
                          "ticks": ""
                        },
                        "type": "choropleth"
                      }
                    ],
                    "contour": [
                      {
                        "colorbar": {
                          "outlinewidth": 0,
                          "ticks": ""
                        },
                        "colorscale": [
                          [
                            0,
                            "#0d0887"
                          ],
                          [
                            0.1111111111111111,
                            "#46039f"
                          ],
                          [
                            0.2222222222222222,
                            "#7201a8"
                          ],
                          [
                            0.3333333333333333,
                            "#9c179e"
                          ],
                          [
                            0.4444444444444444,
                            "#bd3786"
                          ],
                          [
                            0.5555555555555556,
                            "#d8576b"
                          ],
                          [
                            0.6666666666666666,
                            "#ed7953"
                          ],
                          [
                            0.7777777777777778,
                            "#fb9f3a"
                          ],
                          [
                            0.8888888888888888,
                            "#fdca26"
                          ],
                          [
                            1,
                            "#f0f921"
                          ]
                        ],
                        "type": "contour"
                      }
                    ],
                    "contourcarpet": [
                      {
                        "colorbar": {
                          "outlinewidth": 0,
                          "ticks": ""
                        },
                        "type": "contourcarpet"
                      }
                    ],
                    "heatmap": [
                      {
                        "colorbar": {
                          "outlinewidth": 0,
                          "ticks": ""
                        },
                        "colorscale": [
                          [
                            0,
                            "#0d0887"
                          ],
                          [
                            0.1111111111111111,
                            "#46039f"
                          ],
                          [
                            0.2222222222222222,
                            "#7201a8"
                          ],
                          [
                            0.3333333333333333,
                            "#9c179e"
                          ],
                          [
                            0.4444444444444444,
                            "#bd3786"
                          ],
                          [
                            0.5555555555555556,
                            "#d8576b"
                          ],
                          [
                            0.6666666666666666,
                            "#ed7953"
                          ],
                          [
                            0.7777777777777778,
                            "#fb9f3a"
                          ],
                          [
                            0.8888888888888888,
                            "#fdca26"
                          ],
                          [
                            1,
                            "#f0f921"
                          ]
                        ],
                        "type": "heatmap"
                      }
                    ],
                    "histogram": [
                      {
                        "marker": {
                          "pattern": {
                            "fillmode": "overlay",
                            "size": 10,
                            "solidity": 0.2
                          }
                        },
                        "type": "histogram"
                      }
                    ],
                    "histogram2d": [
                      {
                        "colorbar": {
                          "outlinewidth": 0,
                          "ticks": ""
                        },
                        "colorscale": [
                          [
                            0,
                            "#0d0887"
                          ],
                          [
                            0.1111111111111111,
                            "#46039f"
                          ],
                          [
                            0.2222222222222222,
                            "#7201a8"
                          ],
                          [
                            0.3333333333333333,
                            "#9c179e"
                          ],
                          [
                            0.4444444444444444,
                            "#bd3786"
                          ],
                          [
                            0.5555555555555556,
                            "#d8576b"
                          ],
                          [
                            0.6666666666666666,
                            "#ed7953"
                          ],
                          [
                            0.7777777777777778,
                            "#fb9f3a"
                          ],
                          [
                            0.8888888888888888,
                            "#fdca26"
                          ],
                          [
                            1,
                            "#f0f921"
                          ]
                        ],
                        "type": "histogram2d"
                      }
                    ],
                    "histogram2dcontour": [
                      {
                        "colorbar": {
                          "outlinewidth": 0,
                          "ticks": ""
                        },
                        "colorscale": [
                          [
                            0,
                            "#0d0887"
                          ],
                          [
                            0.1111111111111111,
                            "#46039f"
                          ],
                          [
                            0.2222222222222222,
                            "#7201a8"
                          ],
                          [
                            0.3333333333333333,
                            "#9c179e"
                          ],
                          [
                            0.4444444444444444,
                            "#bd3786"
                          ],
                          [
                            0.5555555555555556,
                            "#d8576b"
                          ],
                          [
                            0.6666666666666666,
                            "#ed7953"
                          ],
                          [
                            0.7777777777777778,
                            "#fb9f3a"
                          ],
                          [
                            0.8888888888888888,
                            "#fdca26"
                          ],
                          [
                            1,
                            "#f0f921"
                          ]
                        ],
                        "type": "histogram2dcontour"
                      }
                    ],
                    "mesh3d": [
                      {
                        "colorbar": {
                          "outlinewidth": 0,
                          "ticks": ""
                        },
                        "type": "mesh3d"
                      }
                    ],
                    "parcoords": [
                      {
                        "line": {
                          "colorbar": {
                            "outlinewidth": 0,
                            "ticks": ""
                          }
                        },
                        "type": "parcoords"
                      }
                    ],
                    "pie": [
                      {
                        "automargin": true,
                        "type": "pie"
                      }
                    ],
                    "scatter": [
                      {
                        "fillpattern": {
                          "fillmode": "overlay",
                          "size": 10,
                          "solidity": 0.2
                        },
                        "type": "scatter"
                      }
                    ],
                    "scatter3d": [
                      {
                        "line": {
                          "colorbar": {
                            "outlinewidth": 0,
                            "ticks": ""
                          }
                        },
                        "marker": {
                          "colorbar": {
                            "outlinewidth": 0,
                            "ticks": ""
                          }
                        },
                        "type": "scatter3d"
                      }
                    ],
                    "scattercarpet": [
                      {
                        "marker": {
                          "colorbar": {
                            "outlinewidth": 0,
                            "ticks": ""
                          }
                        },
                        "type": "scattercarpet"
                      }
                    ],
                    "scattergeo": [
                      {
                        "marker": {
                          "colorbar": {
                            "outlinewidth": 0,
                            "ticks": ""
                          }
                        },
                        "type": "scattergeo"
                      }
                    ],
                    "scattergl": [
                      {
                        "marker": {
                          "colorbar": {
                            "outlinewidth": 0,
                            "ticks": ""
                          }
                        },
                        "type": "scattergl"
                      }
                    ],
                    "scattermap": [
                      {
                        "marker": {
                          "colorbar": {
                            "outlinewidth": 0,
                            "ticks": ""
                          }
                        },
                        "type": "scattermap"
                      }
                    ],
                    "scattermapbox": [
                      {
                        "marker": {
                          "colorbar": {
                            "outlinewidth": 0,
                            "ticks": ""
                          }
                        },
                        "type": "scattermapbox"
                      }
                    ],
                    "scatterpolar": [
                      {
                        "marker": {
                          "colorbar": {
                            "outlinewidth": 0,
                            "ticks": ""
                          }
                        },
                        "type": "scatterpolar"
                      }
                    ],
                    "scatterpolargl": [
                      {
                        "marker": {
                          "colorbar": {
                            "outlinewidth": 0,
                            "ticks": ""
                          }
                        },
                        "type": "scatterpolargl"
                      }
                    ],
                    "scatterternary": [
                      {
                        "marker": {
                          "colorbar": {
                            "outlinewidth": 0,
                            "ticks": ""
                          }
                        },
                        "type": "scatterternary"
                      }
                    ],
                    "surface": [
                      {
                        "colorbar": {
                          "outlinewidth": 0,
                          "ticks": ""
                        },
                        "colorscale": [
                          [
                            0,
                            "#0d0887"
                          ],
                          [
                            0.1111111111111111,
                            "#46039f"
                          ],
                          [
                            0.2222222222222222,
                            "#7201a8"
                          ],
                          [
                            0.3333333333333333,
                            "#9c179e"
                          ],
                          [
                            0.4444444444444444,
                            "#bd3786"
                          ],
                          [
                            0.5555555555555556,
                            "#d8576b"
                          ],
                          [
                            0.6666666666666666,
                            "#ed7953"
                          ],
                          [
                            0.7777777777777778,
                            "#fb9f3a"
                          ],
                          [
                            0.8888888888888888,
                            "#fdca26"
                          ],
                          [
                            1,
                            "#f0f921"
                          ]
                        ],
                        "type": "surface"
                      }
                    ],
                    "table": [
                      {
                        "cells": {
                          "fill": {
                            "color": "#EBF0F8"
                          },
                          "line": {
                            "color": "white"
                          }
                        },
                        "header": {
                          "fill": {
                            "color": "#C8D4E3"
                          },
                          "line": {
                            "color": "white"
                          }
                        },
                        "type": "table"
                      }
                    ]
                  },
                  "layout": {
                    "annotationdefaults": {
                      "arrowcolor": "#2a3f5f",
                      "arrowhead": 0,
                      "arrowwidth": 1
                    },
                    "autotypenumbers": "strict",
                    "coloraxis": {
                      "colorbar": {
                        "outlinewidth": 0,
                        "ticks": ""
                      }
                    },
                    "colorscale": {
                      "diverging": [
                        [
                          0,
                          "#8e0152"
                        ],
                        [
                          0.1,
                          "#c51b7d"
                        ],
                        [
                          0.2,
                          "#de77ae"
                        ],
                        [
                          0.3,
                          "#f1b6da"
                        ],
                        [
                          0.4,
                          "#fde0ef"
                        ],
                        [
                          0.5,
                          "#f7f7f7"
                        ],
                        [
                          0.6,
                          "#e6f5d0"
                        ],
                        [
                          0.7,
                          "#b8e186"
                        ],
                        [
                          0.8,
                          "#7fbc41"
                        ],
                        [
                          0.9,
                          "#4d9221"
                        ],
                        [
                          1,
                          "#276419"
                        ]
                      ],
                      "sequential": [
                        [
                          0,
                          "#0d0887"
                        ],
                        [
                          0.1111111111111111,
                          "#46039f"
                        ],
                        [
                          0.2222222222222222,
                          "#7201a8"
                        ],
                        [
                          0.3333333333333333,
                          "#9c179e"
                        ],
                        [
                          0.4444444444444444,
                          "#bd3786"
                        ],
                        [
                          0.5555555555555556,
                          "#d8576b"
                        ],
                        [
                          0.6666666666666666,
                          "#ed7953"
                        ],
                        [
                          0.7777777777777778,
                          "#fb9f3a"
                        ],
                        [
                          0.8888888888888888,
                          "#fdca26"
                        ],
                        [
                          1,
                          "#f0f921"
                        ]
                      ],
                      "sequentialminus": [
                        [
                          0,
                          "#0d0887"
                        ],
                        [
                          0.1111111111111111,
                          "#46039f"
                        ],
                        [
                          0.2222222222222222,
                          "#7201a8"
                        ],
                        [
                          0.3333333333333333,
                          "#9c179e"
                        ],
                        [
                          0.4444444444444444,
                          "#bd3786"
                        ],
                        [
                          0.5555555555555556,
                          "#d8576b"
                        ],
                        [
                          0.6666666666666666,
                          "#ed7953"
                        ],
                        [
                          0.7777777777777778,
                          "#fb9f3a"
                        ],
                        [
                          0.8888888888888888,
                          "#fdca26"
                        ],
                        [
                          1,
                          "#f0f921"
                        ]
                      ]
                    },
                    "colorway": [
                      "#636efa",
                      "#EF553B",
                      "#00cc96",
                      "#ab63fa",
                      "#FFA15A",
                      "#19d3f3",
                      "#FF6692",
                      "#B6E880",
                      "#FF97FF",
                      "#FECB52"
                    ],
                    "font": {
                      "color": "#2a3f5f"
                    },
                    "geo": {
                      "bgcolor": "white",
                      "lakecolor": "white",
                      "landcolor": "#E5ECF6",
                      "showlakes": true,
                      "showland": true,
                      "subunitcolor": "white"
                    },
                    "hoverlabel": {
                      "align": "left"
                    },
                    "hovermode": "closest",
                    "mapbox": {
                      "style": "light"
                    },
                    "paper_bgcolor": "white",
                    "plot_bgcolor": "#E5ECF6",
                    "polar": {
                      "angularaxis": {
                        "gridcolor": "white",
                        "linecolor": "white",
                        "ticks": ""
                      },
                      "bgcolor": "#E5ECF6",
                      "radialaxis": {
                        "gridcolor": "white",
                        "linecolor": "white",
                        "ticks": ""
                      }
                    },
                    "scene": {
                      "xaxis": {
                        "backgroundcolor": "#E5ECF6",
                        "gridcolor": "white",
                        "gridwidth": 2,
                        "linecolor": "white",
                        "showbackground": true,
                        "ticks": "",
                        "zerolinecolor": "white"
                      },
                      "yaxis": {
                        "backgroundcolor": "#E5ECF6",
                        "gridcolor": "white",
                        "gridwidth": 2,
                        "linecolor": "white",
                        "showbackground": true,
                        "ticks": "",
                        "zerolinecolor": "white"
                      },
                      "zaxis": {
                        "backgroundcolor": "#E5ECF6",
                        "gridcolor": "white",
                        "gridwidth": 2,
                        "linecolor": "white",
                        "showbackground": true,
                        "ticks": "",
                        "zerolinecolor": "white"
                      }
                    },
                    "shapedefaults": {
                      "line": {
                        "color": "#2a3f5f"
                      }
                    },
                    "ternary": {
                      "aaxis": {
                        "gridcolor": "white",
                        "linecolor": "white",
                        "ticks": ""
                      },
                      "baxis": {
                        "gridcolor": "white",
                        "linecolor": "white",
                        "ticks": ""
                      },
                      "bgcolor": "#E5ECF6",
                      "caxis": {
                        "gridcolor": "white",
                        "linecolor": "white",
                        "ticks": ""
                      }
                    },
                    "title": {
                      "x": 0.05
                    },
                    "xaxis": {
                      "automargin": true,
                      "gridcolor": "white",
                      "linecolor": "white",
                      "ticks": "",
                      "title": {
                        "standoff": 15
                      },
                      "zerolinecolor": "white",
                      "zerolinewidth": 2
                    },
                    "yaxis": {
                      "automargin": true,
                      "gridcolor": "white",
                      "linecolor": "white",
                      "ticks": "",
                      "title": {
                        "standoff": 15
                      },
                      "zerolinecolor": "white",
                      "zerolinewidth": 2
                    }
                  }
                },
                "title": {
                  "text": "Relación entre Glucosa y BMI"
                },
                "xaxis": {
                  "anchor": "y",
                  "domain": [
                    0,
                    1
                  ],
                  "title": {
                    "text": "Nivel de Glucosa"
                  }
                },
                "yaxis": {
                  "anchor": "x",
                  "domain": [
                    0,
                    1
                  ],
                  "title": {
                    "text": "Índice de Masa Corporal"
                  }
                }
              }
            }
          },
          "metadata": {},
          "output_type": "display_data"
        }
      ],
      "source": [
        "# Crear un diagrama de dispersión interactivo\n",
        "fig = px.scatter(diabetes,\n",
        "                 x=\"Glucose\",\n",
        "                 y=\"BMI\",\n",
        "                 color=\"Outcome\",  # Colorea los puntos según el diagnóstico\n",
        "                 title=\"Relación entre Glucosa y BMI\",\n",
        "                 labels={\"Glucose\": \"Nivel de Glucosa\", \"BMI\": \"Índice de Masa Corporal\"},\n",
        "                 hover_data=['Age']) # Muestra la edad al pasar el cursor\n",
        "fig.update_layout(coloraxis_showscale=False)\n",
        "fig.show()"
      ]
    },
    {
      "cell_type": "markdown",
      "id": "44a37faf",
      "metadata": {
        "id": "44a37faf"
      },
      "source": [
        "## 3. Manipulación de Datos con Pandas\n",
        "Pandas no solo sirve para explorar, sino también para transformar tus datos.\n",
        "\n",
        "Agrupación de Datos con groupby()\n",
        "Una de las operaciones más potentes es groupby(). Nos permite dividir los datos en grupos basados en alguna categoría y aplicar una función a cada grupo.\n",
        "\n",
        "Por ejemplo, calculemos las estadísticas descriptivas de la glucosa para cada grupo de Outcome."
      ]
    },
    {
      "cell_type": "code",
      "execution_count": 13,
      "id": "82fe76b3",
      "metadata": {
        "colab": {
          "base_uri": "https://localhost:8080/"
        },
        "id": "82fe76b3",
        "outputId": "0e857833-eec1-4568-e43b-0728cc4e14d4"
      },
      "outputs": [
        {
          "name": "stdout",
          "output_type": "stream",
          "text": [
            "         count        mean        std  min    25%    50%    75%    max\n",
            "Outcome                                                               \n",
            "0        500.0  109.980000  26.141200  0.0   93.0  107.0  125.0  197.0\n",
            "1        268.0  141.257463  31.939622  0.0  119.0  140.0  167.0  199.0\n"
          ]
        }
      ],
      "source": [
        "# Agrupar por 'Outcome' y obtener estadísticas de 'Glucose'\n",
        "stats_glucosa = diabetes.groupby(\"Outcome\")[\"Glucose\"].describe()\n",
        "print(stats_glucosa)"
      ]
    },
    {
      "cell_type": "markdown",
      "id": "daa5fb78",
      "metadata": {
        "id": "daa5fb78"
      },
      "source": [
        "## 5. Ejercicio Práctico\n",
        "¡Ahora es tu turno! Aplica lo que has aprendido con un nuevo conjunto de datos sobre apartamentos en Medellín.\n",
        "\n",
        "Carga los datos:\n",
        "\n",
        "```python\n",
        "url_aptos = \"https://raw.githubusercontent.com/Fabian830348/Bases_Datos/master/APARTAMENTOS.csv\"\n",
        "aptos = pd.read_csv(url_aptos)\n",
        "```\n",
        "\n",
        "\n",
        "### Exploración:\n",
        "\n",
        "* ¿Cuál es el tamaño de los datos?\n",
        "\n",
        "Usa head(), info() y describe() para una exploración inicial.\n",
        "\n",
        "* ¿Hay alguna columna que consideres inútil? Si es así, elimínala con aptos.drop('nombre_columna', axis=1).\n",
        "\n",
        "### Ingeniería de Características:\n",
        "\n",
        "* Crea una nueva variable precio_por_mt2 dividiendo el precio entre los mt2.\n",
        "\n",
        "### Visualización:\n",
        "\n",
        "* Crea un gráfico de barras para la variable ubicacion.\n",
        "\n",
        "* Analiza la distribución de la variable precio con un histograma.\n",
        "\n",
        "* Usa el siguiente código para crear un boxplot que compare el precio por ubicación. ¿Qué conclusiones puedes sacar?\n",
        "\n",
        "```python\n",
        "px.box(aptos,\n",
        "    y=\"precio\",\n",
        "    x=\"ubicacion\",\n",
        "    color=\"ubicacion\",\n",
        "    title=\"Distribución de Precios por Ubicación\")\n",
        "```\n",
        "\n"
      ]
    },
    {
      "cell_type": "code",
      "execution_count": 14,
      "id": "N7uZTOT3Ll5i",
      "metadata": {
        "id": "N7uZTOT3Ll5i"
      },
      "outputs": [],
      "source": [
        "url_aptos = \"https://raw.githubusercontent.com/Fabian830348/Bases_Datos/master/APARTAMENTOS.csv\"\n",
        "aptos = pd.read_csv(url_aptos)"
      ]
    },
    {
      "cell_type": "code",
      "execution_count": 15,
      "id": "7Fo5c4rjLoy0",
      "metadata": {
        "colab": {
          "base_uri": "https://localhost:8080/",
          "height": 206
        },
        "id": "7Fo5c4rjLoy0",
        "outputId": "5a53e840-04ca-4361-9c79-0e0b3419eeeb"
      },
      "outputs": [
        {
          "data": {
            "text/html": [
              "<div>\n",
              "<style scoped>\n",
              "    .dataframe tbody tr th:only-of-type {\n",
              "        vertical-align: middle;\n",
              "    }\n",
              "\n",
              "    .dataframe tbody tr th {\n",
              "        vertical-align: top;\n",
              "    }\n",
              "\n",
              "    .dataframe thead th {\n",
              "        text-align: right;\n",
              "    }\n",
              "</style>\n",
              "<table border=\"1\" class=\"dataframe\">\n",
              "  <thead>\n",
              "    <tr style=\"text-align: right;\">\n",
              "      <th></th>\n",
              "      <th>Unnamed: 0</th>\n",
              "      <th>precio</th>\n",
              "      <th>mt2</th>\n",
              "      <th>ubicacion</th>\n",
              "      <th>estrato</th>\n",
              "      <th>alcobas</th>\n",
              "      <th>banos</th>\n",
              "      <th>balcon</th>\n",
              "      <th>parqueadero</th>\n",
              "      <th>administracion</th>\n",
              "      <th>avaluo</th>\n",
              "      <th>terminado</th>\n",
              "    </tr>\n",
              "  </thead>\n",
              "  <tbody>\n",
              "    <tr>\n",
              "      <th>0</th>\n",
              "      <td>1</td>\n",
              "      <td>79.0</td>\n",
              "      <td>43.16</td>\n",
              "      <td>norte</td>\n",
              "      <td>3</td>\n",
              "      <td>3</td>\n",
              "      <td>1</td>\n",
              "      <td>si</td>\n",
              "      <td>si</td>\n",
              "      <td>0.050</td>\n",
              "      <td>14.923002</td>\n",
              "      <td>no</td>\n",
              "    </tr>\n",
              "    <tr>\n",
              "      <th>1</th>\n",
              "      <td>2</td>\n",
              "      <td>93.0</td>\n",
              "      <td>56.92</td>\n",
              "      <td>norte</td>\n",
              "      <td>2</td>\n",
              "      <td>2</td>\n",
              "      <td>1</td>\n",
              "      <td>si</td>\n",
              "      <td>si</td>\n",
              "      <td>0.069</td>\n",
              "      <td>27.000000</td>\n",
              "      <td>si</td>\n",
              "    </tr>\n",
              "    <tr>\n",
              "      <th>2</th>\n",
              "      <td>3</td>\n",
              "      <td>100.0</td>\n",
              "      <td>66.40</td>\n",
              "      <td>norte</td>\n",
              "      <td>3</td>\n",
              "      <td>2</td>\n",
              "      <td>2</td>\n",
              "      <td>no</td>\n",
              "      <td>no</td>\n",
              "      <td>0.000</td>\n",
              "      <td>15.738427</td>\n",
              "      <td>no</td>\n",
              "    </tr>\n",
              "    <tr>\n",
              "      <th>3</th>\n",
              "      <td>4</td>\n",
              "      <td>123.0</td>\n",
              "      <td>61.85</td>\n",
              "      <td>norte</td>\n",
              "      <td>2</td>\n",
              "      <td>3</td>\n",
              "      <td>2</td>\n",
              "      <td>si</td>\n",
              "      <td>si</td>\n",
              "      <td>0.130</td>\n",
              "      <td>27.000000</td>\n",
              "      <td>no</td>\n",
              "    </tr>\n",
              "    <tr>\n",
              "      <th>4</th>\n",
              "      <td>5</td>\n",
              "      <td>135.0</td>\n",
              "      <td>89.80</td>\n",
              "      <td>norte</td>\n",
              "      <td>4</td>\n",
              "      <td>3</td>\n",
              "      <td>2</td>\n",
              "      <td>si</td>\n",
              "      <td>no</td>\n",
              "      <td>0.000</td>\n",
              "      <td>39.567000</td>\n",
              "      <td>si</td>\n",
              "    </tr>\n",
              "  </tbody>\n",
              "</table>\n",
              "</div>"
            ],
            "text/plain": [
              "   Unnamed: 0  precio    mt2 ubicacion  estrato  alcobas  banos balcon  \\\n",
              "0           1    79.0  43.16     norte        3        3      1     si   \n",
              "1           2    93.0  56.92     norte        2        2      1     si   \n",
              "2           3   100.0  66.40     norte        3        2      2     no   \n",
              "3           4   123.0  61.85     norte        2        3      2     si   \n",
              "4           5   135.0  89.80     norte        4        3      2     si   \n",
              "\n",
              "  parqueadero  administracion     avaluo terminado  \n",
              "0          si           0.050  14.923002        no  \n",
              "1          si           0.069  27.000000        si  \n",
              "2          no           0.000  15.738427        no  \n",
              "3          si           0.130  27.000000        no  \n",
              "4          no           0.000  39.567000        si  "
            ]
          },
          "execution_count": 15,
          "metadata": {},
          "output_type": "execute_result"
        }
      ],
      "source": [
        "aptos.head()"
      ]
    },
    {
      "cell_type": "code",
      "execution_count": 16,
      "id": "GfagYSPkLsX9",
      "metadata": {
        "colab": {
          "base_uri": "https://localhost:8080/",
          "height": 206
        },
        "id": "GfagYSPkLsX9",
        "outputId": "e376bb97-ad5b-45c0-c638-c025a011d0c7"
      },
      "outputs": [
        {
          "data": {
            "text/html": [
              "<div>\n",
              "<style scoped>\n",
              "    .dataframe tbody tr th:only-of-type {\n",
              "        vertical-align: middle;\n",
              "    }\n",
              "\n",
              "    .dataframe tbody tr th {\n",
              "        vertical-align: top;\n",
              "    }\n",
              "\n",
              "    .dataframe thead th {\n",
              "        text-align: right;\n",
              "    }\n",
              "</style>\n",
              "<table border=\"1\" class=\"dataframe\">\n",
              "  <thead>\n",
              "    <tr style=\"text-align: right;\">\n",
              "      <th></th>\n",
              "      <th>precio</th>\n",
              "      <th>mt2</th>\n",
              "      <th>ubicacion</th>\n",
              "      <th>estrato</th>\n",
              "      <th>alcobas</th>\n",
              "      <th>banos</th>\n",
              "      <th>balcon</th>\n",
              "      <th>parqueadero</th>\n",
              "      <th>administracion</th>\n",
              "      <th>avaluo</th>\n",
              "      <th>terminado</th>\n",
              "    </tr>\n",
              "  </thead>\n",
              "  <tbody>\n",
              "    <tr>\n",
              "      <th>0</th>\n",
              "      <td>79.0</td>\n",
              "      <td>43.16</td>\n",
              "      <td>norte</td>\n",
              "      <td>3</td>\n",
              "      <td>3</td>\n",
              "      <td>1</td>\n",
              "      <td>si</td>\n",
              "      <td>si</td>\n",
              "      <td>0.050</td>\n",
              "      <td>14.923002</td>\n",
              "      <td>no</td>\n",
              "    </tr>\n",
              "    <tr>\n",
              "      <th>1</th>\n",
              "      <td>93.0</td>\n",
              "      <td>56.92</td>\n",
              "      <td>norte</td>\n",
              "      <td>2</td>\n",
              "      <td>2</td>\n",
              "      <td>1</td>\n",
              "      <td>si</td>\n",
              "      <td>si</td>\n",
              "      <td>0.069</td>\n",
              "      <td>27.000000</td>\n",
              "      <td>si</td>\n",
              "    </tr>\n",
              "    <tr>\n",
              "      <th>2</th>\n",
              "      <td>100.0</td>\n",
              "      <td>66.40</td>\n",
              "      <td>norte</td>\n",
              "      <td>3</td>\n",
              "      <td>2</td>\n",
              "      <td>2</td>\n",
              "      <td>no</td>\n",
              "      <td>no</td>\n",
              "      <td>0.000</td>\n",
              "      <td>15.738427</td>\n",
              "      <td>no</td>\n",
              "    </tr>\n",
              "    <tr>\n",
              "      <th>3</th>\n",
              "      <td>123.0</td>\n",
              "      <td>61.85</td>\n",
              "      <td>norte</td>\n",
              "      <td>2</td>\n",
              "      <td>3</td>\n",
              "      <td>2</td>\n",
              "      <td>si</td>\n",
              "      <td>si</td>\n",
              "      <td>0.130</td>\n",
              "      <td>27.000000</td>\n",
              "      <td>no</td>\n",
              "    </tr>\n",
              "    <tr>\n",
              "      <th>4</th>\n",
              "      <td>135.0</td>\n",
              "      <td>89.80</td>\n",
              "      <td>norte</td>\n",
              "      <td>4</td>\n",
              "      <td>3</td>\n",
              "      <td>2</td>\n",
              "      <td>si</td>\n",
              "      <td>no</td>\n",
              "      <td>0.000</td>\n",
              "      <td>39.567000</td>\n",
              "      <td>si</td>\n",
              "    </tr>\n",
              "  </tbody>\n",
              "</table>\n",
              "</div>"
            ],
            "text/plain": [
              "   precio    mt2 ubicacion  estrato  alcobas  banos balcon parqueadero  \\\n",
              "0    79.0  43.16     norte        3        3      1     si          si   \n",
              "1    93.0  56.92     norte        2        2      1     si          si   \n",
              "2   100.0  66.40     norte        3        2      2     no          no   \n",
              "3   123.0  61.85     norte        2        3      2     si          si   \n",
              "4   135.0  89.80     norte        4        3      2     si          no   \n",
              "\n",
              "   administracion     avaluo terminado  \n",
              "0           0.050  14.923002        no  \n",
              "1           0.069  27.000000        si  \n",
              "2           0.000  15.738427        no  \n",
              "3           0.130  27.000000        no  \n",
              "4           0.000  39.567000        si  "
            ]
          },
          "execution_count": 16,
          "metadata": {},
          "output_type": "execute_result"
        }
      ],
      "source": [
        "aptos = aptos.drop('Unnamed: 0',axis=1)\n",
        "aptos.head()"
      ]
    },
    {
      "cell_type": "code",
      "execution_count": 17,
      "id": "CMGWcuHSMrWT",
      "metadata": {
        "colab": {
          "base_uri": "https://localhost:8080/"
        },
        "id": "CMGWcuHSMrWT",
        "outputId": "556591e9-3eba-4330-cee7-673d051d5f9c"
      },
      "outputs": [
        {
          "name": "stdout",
          "output_type": "stream",
          "text": [
            "<class 'pandas.core.frame.DataFrame'>\n",
            "RangeIndex: 694 entries, 0 to 693\n",
            "Data columns (total 11 columns):\n",
            " #   Column          Non-Null Count  Dtype  \n",
            "---  ------          --------------  -----  \n",
            " 0   precio          694 non-null    float64\n",
            " 1   mt2             694 non-null    float64\n",
            " 2   ubicacion       694 non-null    object \n",
            " 3   estrato         694 non-null    int64  \n",
            " 4   alcobas         694 non-null    int64  \n",
            " 5   banos           694 non-null    int64  \n",
            " 6   balcon          694 non-null    object \n",
            " 7   parqueadero     694 non-null    object \n",
            " 8   administracion  694 non-null    float64\n",
            " 9   avaluo          694 non-null    float64\n",
            " 10  terminado       694 non-null    object \n",
            "dtypes: float64(4), int64(3), object(4)\n",
            "memory usage: 59.8+ KB\n"
          ]
        }
      ],
      "source": [
        "aptos.info()"
      ]
    },
    {
      "cell_type": "code",
      "execution_count": 18,
      "id": "eFf5yZxKM7PM",
      "metadata": {
        "colab": {
          "base_uri": "https://localhost:8080/",
          "height": 300
        },
        "id": "eFf5yZxKM7PM",
        "outputId": "b9f32c20-dde8-47c6-8e14-3f1be2f23db2"
      },
      "outputs": [
        {
          "data": {
            "text/html": [
              "<div>\n",
              "<style scoped>\n",
              "    .dataframe tbody tr th:only-of-type {\n",
              "        vertical-align: middle;\n",
              "    }\n",
              "\n",
              "    .dataframe tbody tr th {\n",
              "        vertical-align: top;\n",
              "    }\n",
              "\n",
              "    .dataframe thead th {\n",
              "        text-align: right;\n",
              "    }\n",
              "</style>\n",
              "<table border=\"1\" class=\"dataframe\">\n",
              "  <thead>\n",
              "    <tr style=\"text-align: right;\">\n",
              "      <th></th>\n",
              "      <th>precio</th>\n",
              "      <th>mt2</th>\n",
              "      <th>estrato</th>\n",
              "      <th>alcobas</th>\n",
              "      <th>banos</th>\n",
              "      <th>administracion</th>\n",
              "      <th>avaluo</th>\n",
              "    </tr>\n",
              "  </thead>\n",
              "  <tbody>\n",
              "    <tr>\n",
              "      <th>count</th>\n",
              "      <td>694.000000</td>\n",
              "      <td>694.000000</td>\n",
              "      <td>694.000000</td>\n",
              "      <td>694.000000</td>\n",
              "      <td>694.000000</td>\n",
              "      <td>694.000000</td>\n",
              "      <td>694.000000</td>\n",
              "    </tr>\n",
              "    <tr>\n",
              "      <th>mean</th>\n",
              "      <td>317.762739</td>\n",
              "      <td>120.943818</td>\n",
              "      <td>4.651297</td>\n",
              "      <td>2.910663</td>\n",
              "      <td>2.289625</td>\n",
              "      <td>0.263556</td>\n",
              "      <td>182.636593</td>\n",
              "    </tr>\n",
              "    <tr>\n",
              "      <th>std</th>\n",
              "      <td>247.614914</td>\n",
              "      <td>74.695493</td>\n",
              "      <td>1.208205</td>\n",
              "      <td>0.763962</td>\n",
              "      <td>0.795718</td>\n",
              "      <td>0.251586</td>\n",
              "      <td>169.082384</td>\n",
              "    </tr>\n",
              "    <tr>\n",
              "      <th>min</th>\n",
              "      <td>25.000000</td>\n",
              "      <td>26.000000</td>\n",
              "      <td>2.000000</td>\n",
              "      <td>1.000000</td>\n",
              "      <td>1.000000</td>\n",
              "      <td>0.000000</td>\n",
              "      <td>0.149000</td>\n",
              "    </tr>\n",
              "    <tr>\n",
              "      <th>25%</th>\n",
              "      <td>160.000000</td>\n",
              "      <td>71.000000</td>\n",
              "      <td>4.000000</td>\n",
              "      <td>3.000000</td>\n",
              "      <td>2.000000</td>\n",
              "      <td>0.090000</td>\n",
              "      <td>73.000000</td>\n",
              "    </tr>\n",
              "    <tr>\n",
              "      <th>50%</th>\n",
              "      <td>245.000000</td>\n",
              "      <td>97.500000</td>\n",
              "      <td>5.000000</td>\n",
              "      <td>3.000000</td>\n",
              "      <td>2.000000</td>\n",
              "      <td>0.201000</td>\n",
              "      <td>131.431500</td>\n",
              "    </tr>\n",
              "    <tr>\n",
              "      <th>75%</th>\n",
              "      <td>380.000000</td>\n",
              "      <td>141.750000</td>\n",
              "      <td>6.000000</td>\n",
              "      <td>3.000000</td>\n",
              "      <td>3.000000</td>\n",
              "      <td>0.375000</td>\n",
              "      <td>234.051000</td>\n",
              "    </tr>\n",
              "    <tr>\n",
              "      <th>max</th>\n",
              "      <td>1700.000000</td>\n",
              "      <td>500.000000</td>\n",
              "      <td>6.000000</td>\n",
              "      <td>14.000000</td>\n",
              "      <td>6.000000</td>\n",
              "      <td>2.280000</td>\n",
              "      <td>1540.620000</td>\n",
              "    </tr>\n",
              "  </tbody>\n",
              "</table>\n",
              "</div>"
            ],
            "text/plain": [
              "            precio         mt2     estrato     alcobas       banos  \\\n",
              "count   694.000000  694.000000  694.000000  694.000000  694.000000   \n",
              "mean    317.762739  120.943818    4.651297    2.910663    2.289625   \n",
              "std     247.614914   74.695493    1.208205    0.763962    0.795718   \n",
              "min      25.000000   26.000000    2.000000    1.000000    1.000000   \n",
              "25%     160.000000   71.000000    4.000000    3.000000    2.000000   \n",
              "50%     245.000000   97.500000    5.000000    3.000000    2.000000   \n",
              "75%     380.000000  141.750000    6.000000    3.000000    3.000000   \n",
              "max    1700.000000  500.000000    6.000000   14.000000    6.000000   \n",
              "\n",
              "       administracion       avaluo  \n",
              "count      694.000000   694.000000  \n",
              "mean         0.263556   182.636593  \n",
              "std          0.251586   169.082384  \n",
              "min          0.000000     0.149000  \n",
              "25%          0.090000    73.000000  \n",
              "50%          0.201000   131.431500  \n",
              "75%          0.375000   234.051000  \n",
              "max          2.280000  1540.620000  "
            ]
          },
          "execution_count": 18,
          "metadata": {},
          "output_type": "execute_result"
        }
      ],
      "source": [
        "aptos.describe()"
      ]
    },
    {
      "cell_type": "markdown",
      "id": "58a9752a",
      "metadata": {},
      "source": [
        "count → Número de registros (694 apartamentos analizados).\n",
        "mean → Promedio de la columna.\n",
        "std → Desviación estándar (qué tanto varían los valores respecto al promedio).\n",
        "min → Valor mínimo.\n",
        "25% → Percentil 25 (el 25% de los datos está por debajo de este valor).\n",
        "50% → Mediana (la mitad de los datos está por debajo y la otra mitad por encima).\n",
        "75% → Percentil 75 (el 75% de los datos está por debajo de este valor).\n",
        "max → Valor máximo."
      ]
    },
    {
      "cell_type": "code",
      "execution_count": 19,
      "id": "WlolkwHwMvG3",
      "metadata": {
        "colab": {
          "base_uri": "https://localhost:8080/",
          "height": 206
        },
        "id": "WlolkwHwMvG3",
        "outputId": "2cdc740a-06b6-4d9e-9859-aaa064b7bce3"
      },
      "outputs": [
        {
          "data": {
            "text/html": [
              "<div>\n",
              "<style scoped>\n",
              "    .dataframe tbody tr th:only-of-type {\n",
              "        vertical-align: middle;\n",
              "    }\n",
              "\n",
              "    .dataframe tbody tr th {\n",
              "        vertical-align: top;\n",
              "    }\n",
              "\n",
              "    .dataframe thead th {\n",
              "        text-align: right;\n",
              "    }\n",
              "</style>\n",
              "<table border=\"1\" class=\"dataframe\">\n",
              "  <thead>\n",
              "    <tr style=\"text-align: right;\">\n",
              "      <th></th>\n",
              "      <th>precio</th>\n",
              "      <th>mt2</th>\n",
              "      <th>ubicacion</th>\n",
              "      <th>estrato</th>\n",
              "      <th>alcobas</th>\n",
              "      <th>banos</th>\n",
              "      <th>balcon</th>\n",
              "      <th>parqueadero</th>\n",
              "      <th>administracion</th>\n",
              "      <th>avaluo</th>\n",
              "      <th>terminado</th>\n",
              "      <th>precio_por_mt2</th>\n",
              "    </tr>\n",
              "  </thead>\n",
              "  <tbody>\n",
              "    <tr>\n",
              "      <th>0</th>\n",
              "      <td>79.0</td>\n",
              "      <td>43.16</td>\n",
              "      <td>norte</td>\n",
              "      <td>3</td>\n",
              "      <td>3</td>\n",
              "      <td>1</td>\n",
              "      <td>si</td>\n",
              "      <td>si</td>\n",
              "      <td>0.050</td>\n",
              "      <td>14.923002</td>\n",
              "      <td>no</td>\n",
              "      <td>1.830399</td>\n",
              "    </tr>\n",
              "    <tr>\n",
              "      <th>1</th>\n",
              "      <td>93.0</td>\n",
              "      <td>56.92</td>\n",
              "      <td>norte</td>\n",
              "      <td>2</td>\n",
              "      <td>2</td>\n",
              "      <td>1</td>\n",
              "      <td>si</td>\n",
              "      <td>si</td>\n",
              "      <td>0.069</td>\n",
              "      <td>27.000000</td>\n",
              "      <td>si</td>\n",
              "      <td>1.633872</td>\n",
              "    </tr>\n",
              "    <tr>\n",
              "      <th>2</th>\n",
              "      <td>100.0</td>\n",
              "      <td>66.40</td>\n",
              "      <td>norte</td>\n",
              "      <td>3</td>\n",
              "      <td>2</td>\n",
              "      <td>2</td>\n",
              "      <td>no</td>\n",
              "      <td>no</td>\n",
              "      <td>0.000</td>\n",
              "      <td>15.738427</td>\n",
              "      <td>no</td>\n",
              "      <td>1.506024</td>\n",
              "    </tr>\n",
              "    <tr>\n",
              "      <th>3</th>\n",
              "      <td>123.0</td>\n",
              "      <td>61.85</td>\n",
              "      <td>norte</td>\n",
              "      <td>2</td>\n",
              "      <td>3</td>\n",
              "      <td>2</td>\n",
              "      <td>si</td>\n",
              "      <td>si</td>\n",
              "      <td>0.130</td>\n",
              "      <td>27.000000</td>\n",
              "      <td>no</td>\n",
              "      <td>1.988682</td>\n",
              "    </tr>\n",
              "    <tr>\n",
              "      <th>4</th>\n",
              "      <td>135.0</td>\n",
              "      <td>89.80</td>\n",
              "      <td>norte</td>\n",
              "      <td>4</td>\n",
              "      <td>3</td>\n",
              "      <td>2</td>\n",
              "      <td>si</td>\n",
              "      <td>no</td>\n",
              "      <td>0.000</td>\n",
              "      <td>39.567000</td>\n",
              "      <td>si</td>\n",
              "      <td>1.503341</td>\n",
              "    </tr>\n",
              "  </tbody>\n",
              "</table>\n",
              "</div>"
            ],
            "text/plain": [
              "   precio    mt2 ubicacion  estrato  alcobas  banos balcon parqueadero  \\\n",
              "0    79.0  43.16     norte        3        3      1     si          si   \n",
              "1    93.0  56.92     norte        2        2      1     si          si   \n",
              "2   100.0  66.40     norte        3        2      2     no          no   \n",
              "3   123.0  61.85     norte        2        3      2     si          si   \n",
              "4   135.0  89.80     norte        4        3      2     si          no   \n",
              "\n",
              "   administracion     avaluo terminado  precio_por_mt2  \n",
              "0           0.050  14.923002        no        1.830399  \n",
              "1           0.069  27.000000        si        1.633872  \n",
              "2           0.000  15.738427        no        1.506024  \n",
              "3           0.130  27.000000        no        1.988682  \n",
              "4           0.000  39.567000        si        1.503341  "
            ]
          },
          "execution_count": 19,
          "metadata": {},
          "output_type": "execute_result"
        }
      ],
      "source": [
        "precio_por_mt2  = aptos['precio']/aptos['mt2']\n",
        "aptos['precio_por_mt2'] = precio_por_mt2\n",
        "aptos.head()"
      ]
    },
    {
      "cell_type": "code",
      "execution_count": 20,
      "id": "6NJVtvD_OWyN",
      "metadata": {
        "colab": {
          "base_uri": "https://localhost:8080/"
        },
        "id": "6NJVtvD_OWyN",
        "outputId": "f60e2e9d-5e59-4d9c-c624-43485da85a14"
      },
      "outputs": [
        {
          "name": "stdout",
          "output_type": "stream",
          "text": [
            "ubicacion\n",
            "poblado           268\n",
            "aburra sur        169\n",
            "laureles           73\n",
            "occidente          69\n",
            "belen guayabal     67\n",
            "centro             38\n",
            "norte              10\n",
            "Name: count, dtype: int64\n"
          ]
        }
      ],
      "source": [
        "freq_ubicacion = aptos[\"ubicacion\"].value_counts()\n",
        "print(freq_ubicacion)"
      ]
    },
    {
      "cell_type": "code",
      "execution_count": 21,
      "id": "j4k0rtEmSy7i",
      "metadata": {
        "colab": {
          "base_uri": "https://localhost:8080/",
          "height": 542
        },
        "id": "j4k0rtEmSy7i",
        "outputId": "b2665947-9159-4c24-f323-c79db440f678"
      },
      "outputs": [
        {
          "data": {
            "application/vnd.plotly.v1+json": {
              "config": {
                "plotlyServerURL": "https://plot.ly"
              },
              "data": [
                {
                  "hovertemplate": "ubicacion=%{x}<br>Cantidad de apartamentos=%{y}<extra></extra>",
                  "legendgroup": "poblado",
                  "marker": {
                    "color": "#636efa",
                    "pattern": {
                      "shape": ""
                    }
                  },
                  "name": "poblado",
                  "orientation": "v",
                  "showlegend": true,
                  "textposition": "auto",
                  "texttemplate": "%{y}",
                  "type": "bar",
                  "x": [
                    "poblado"
                  ],
                  "xaxis": "x",
                  "y": {
                    "bdata": "DAE=",
                    "dtype": "i2"
                  },
                  "yaxis": "y"
                },
                {
                  "hovertemplate": "ubicacion=%{x}<br>Cantidad de apartamentos=%{y}<extra></extra>",
                  "legendgroup": "aburra sur",
                  "marker": {
                    "color": "#EF553B",
                    "pattern": {
                      "shape": ""
                    }
                  },
                  "name": "aburra sur",
                  "orientation": "v",
                  "showlegend": true,
                  "textposition": "auto",
                  "texttemplate": "%{y}",
                  "type": "bar",
                  "x": [
                    "aburra sur"
                  ],
                  "xaxis": "x",
                  "y": {
                    "bdata": "qQA=",
                    "dtype": "i2"
                  },
                  "yaxis": "y"
                },
                {
                  "hovertemplate": "ubicacion=%{x}<br>Cantidad de apartamentos=%{y}<extra></extra>",
                  "legendgroup": "laureles",
                  "marker": {
                    "color": "#00cc96",
                    "pattern": {
                      "shape": ""
                    }
                  },
                  "name": "laureles",
                  "orientation": "v",
                  "showlegend": true,
                  "textposition": "auto",
                  "texttemplate": "%{y}",
                  "type": "bar",
                  "x": [
                    "laureles"
                  ],
                  "xaxis": "x",
                  "y": {
                    "bdata": "SQ==",
                    "dtype": "i1"
                  },
                  "yaxis": "y"
                },
                {
                  "hovertemplate": "ubicacion=%{x}<br>Cantidad de apartamentos=%{y}<extra></extra>",
                  "legendgroup": "occidente",
                  "marker": {
                    "color": "#ab63fa",
                    "pattern": {
                      "shape": ""
                    }
                  },
                  "name": "occidente",
                  "orientation": "v",
                  "showlegend": true,
                  "textposition": "auto",
                  "texttemplate": "%{y}",
                  "type": "bar",
                  "x": [
                    "occidente"
                  ],
                  "xaxis": "x",
                  "y": {
                    "bdata": "RQ==",
                    "dtype": "i1"
                  },
                  "yaxis": "y"
                },
                {
                  "hovertemplate": "ubicacion=%{x}<br>Cantidad de apartamentos=%{y}<extra></extra>",
                  "legendgroup": "belen guayabal",
                  "marker": {
                    "color": "#FFA15A",
                    "pattern": {
                      "shape": ""
                    }
                  },
                  "name": "belen guayabal",
                  "orientation": "v",
                  "showlegend": true,
                  "textposition": "auto",
                  "texttemplate": "%{y}",
                  "type": "bar",
                  "x": [
                    "belen guayabal"
                  ],
                  "xaxis": "x",
                  "y": {
                    "bdata": "Qw==",
                    "dtype": "i1"
                  },
                  "yaxis": "y"
                },
                {
                  "hovertemplate": "ubicacion=%{x}<br>Cantidad de apartamentos=%{y}<extra></extra>",
                  "legendgroup": "centro",
                  "marker": {
                    "color": "#19d3f3",
                    "pattern": {
                      "shape": ""
                    }
                  },
                  "name": "centro",
                  "orientation": "v",
                  "showlegend": true,
                  "textposition": "auto",
                  "texttemplate": "%{y}",
                  "type": "bar",
                  "x": [
                    "centro"
                  ],
                  "xaxis": "x",
                  "y": {
                    "bdata": "Jg==",
                    "dtype": "i1"
                  },
                  "yaxis": "y"
                },
                {
                  "hovertemplate": "ubicacion=%{x}<br>Cantidad de apartamentos=%{y}<extra></extra>",
                  "legendgroup": "norte",
                  "marker": {
                    "color": "#FF6692",
                    "pattern": {
                      "shape": ""
                    }
                  },
                  "name": "norte",
                  "orientation": "v",
                  "showlegend": true,
                  "textposition": "auto",
                  "texttemplate": "%{y}",
                  "type": "bar",
                  "x": [
                    "norte"
                  ],
                  "xaxis": "x",
                  "y": {
                    "bdata": "Cg==",
                    "dtype": "i1"
                  },
                  "yaxis": "y"
                }
              ],
              "layout": {
                "barmode": "relative",
                "coloraxis": {
                  "showscale": false
                },
                "legend": {
                  "title": {
                    "text": "ubicacion"
                  },
                  "tracegroupgap": 0
                },
                "template": {
                  "data": {
                    "bar": [
                      {
                        "error_x": {
                          "color": "#2a3f5f"
                        },
                        "error_y": {
                          "color": "#2a3f5f"
                        },
                        "marker": {
                          "line": {
                            "color": "#E5ECF6",
                            "width": 0.5
                          },
                          "pattern": {
                            "fillmode": "overlay",
                            "size": 10,
                            "solidity": 0.2
                          }
                        },
                        "type": "bar"
                      }
                    ],
                    "barpolar": [
                      {
                        "marker": {
                          "line": {
                            "color": "#E5ECF6",
                            "width": 0.5
                          },
                          "pattern": {
                            "fillmode": "overlay",
                            "size": 10,
                            "solidity": 0.2
                          }
                        },
                        "type": "barpolar"
                      }
                    ],
                    "carpet": [
                      {
                        "aaxis": {
                          "endlinecolor": "#2a3f5f",
                          "gridcolor": "white",
                          "linecolor": "white",
                          "minorgridcolor": "white",
                          "startlinecolor": "#2a3f5f"
                        },
                        "baxis": {
                          "endlinecolor": "#2a3f5f",
                          "gridcolor": "white",
                          "linecolor": "white",
                          "minorgridcolor": "white",
                          "startlinecolor": "#2a3f5f"
                        },
                        "type": "carpet"
                      }
                    ],
                    "choropleth": [
                      {
                        "colorbar": {
                          "outlinewidth": 0,
                          "ticks": ""
                        },
                        "type": "choropleth"
                      }
                    ],
                    "contour": [
                      {
                        "colorbar": {
                          "outlinewidth": 0,
                          "ticks": ""
                        },
                        "colorscale": [
                          [
                            0,
                            "#0d0887"
                          ],
                          [
                            0.1111111111111111,
                            "#46039f"
                          ],
                          [
                            0.2222222222222222,
                            "#7201a8"
                          ],
                          [
                            0.3333333333333333,
                            "#9c179e"
                          ],
                          [
                            0.4444444444444444,
                            "#bd3786"
                          ],
                          [
                            0.5555555555555556,
                            "#d8576b"
                          ],
                          [
                            0.6666666666666666,
                            "#ed7953"
                          ],
                          [
                            0.7777777777777778,
                            "#fb9f3a"
                          ],
                          [
                            0.8888888888888888,
                            "#fdca26"
                          ],
                          [
                            1,
                            "#f0f921"
                          ]
                        ],
                        "type": "contour"
                      }
                    ],
                    "contourcarpet": [
                      {
                        "colorbar": {
                          "outlinewidth": 0,
                          "ticks": ""
                        },
                        "type": "contourcarpet"
                      }
                    ],
                    "heatmap": [
                      {
                        "colorbar": {
                          "outlinewidth": 0,
                          "ticks": ""
                        },
                        "colorscale": [
                          [
                            0,
                            "#0d0887"
                          ],
                          [
                            0.1111111111111111,
                            "#46039f"
                          ],
                          [
                            0.2222222222222222,
                            "#7201a8"
                          ],
                          [
                            0.3333333333333333,
                            "#9c179e"
                          ],
                          [
                            0.4444444444444444,
                            "#bd3786"
                          ],
                          [
                            0.5555555555555556,
                            "#d8576b"
                          ],
                          [
                            0.6666666666666666,
                            "#ed7953"
                          ],
                          [
                            0.7777777777777778,
                            "#fb9f3a"
                          ],
                          [
                            0.8888888888888888,
                            "#fdca26"
                          ],
                          [
                            1,
                            "#f0f921"
                          ]
                        ],
                        "type": "heatmap"
                      }
                    ],
                    "histogram": [
                      {
                        "marker": {
                          "pattern": {
                            "fillmode": "overlay",
                            "size": 10,
                            "solidity": 0.2
                          }
                        },
                        "type": "histogram"
                      }
                    ],
                    "histogram2d": [
                      {
                        "colorbar": {
                          "outlinewidth": 0,
                          "ticks": ""
                        },
                        "colorscale": [
                          [
                            0,
                            "#0d0887"
                          ],
                          [
                            0.1111111111111111,
                            "#46039f"
                          ],
                          [
                            0.2222222222222222,
                            "#7201a8"
                          ],
                          [
                            0.3333333333333333,
                            "#9c179e"
                          ],
                          [
                            0.4444444444444444,
                            "#bd3786"
                          ],
                          [
                            0.5555555555555556,
                            "#d8576b"
                          ],
                          [
                            0.6666666666666666,
                            "#ed7953"
                          ],
                          [
                            0.7777777777777778,
                            "#fb9f3a"
                          ],
                          [
                            0.8888888888888888,
                            "#fdca26"
                          ],
                          [
                            1,
                            "#f0f921"
                          ]
                        ],
                        "type": "histogram2d"
                      }
                    ],
                    "histogram2dcontour": [
                      {
                        "colorbar": {
                          "outlinewidth": 0,
                          "ticks": ""
                        },
                        "colorscale": [
                          [
                            0,
                            "#0d0887"
                          ],
                          [
                            0.1111111111111111,
                            "#46039f"
                          ],
                          [
                            0.2222222222222222,
                            "#7201a8"
                          ],
                          [
                            0.3333333333333333,
                            "#9c179e"
                          ],
                          [
                            0.4444444444444444,
                            "#bd3786"
                          ],
                          [
                            0.5555555555555556,
                            "#d8576b"
                          ],
                          [
                            0.6666666666666666,
                            "#ed7953"
                          ],
                          [
                            0.7777777777777778,
                            "#fb9f3a"
                          ],
                          [
                            0.8888888888888888,
                            "#fdca26"
                          ],
                          [
                            1,
                            "#f0f921"
                          ]
                        ],
                        "type": "histogram2dcontour"
                      }
                    ],
                    "mesh3d": [
                      {
                        "colorbar": {
                          "outlinewidth": 0,
                          "ticks": ""
                        },
                        "type": "mesh3d"
                      }
                    ],
                    "parcoords": [
                      {
                        "line": {
                          "colorbar": {
                            "outlinewidth": 0,
                            "ticks": ""
                          }
                        },
                        "type": "parcoords"
                      }
                    ],
                    "pie": [
                      {
                        "automargin": true,
                        "type": "pie"
                      }
                    ],
                    "scatter": [
                      {
                        "fillpattern": {
                          "fillmode": "overlay",
                          "size": 10,
                          "solidity": 0.2
                        },
                        "type": "scatter"
                      }
                    ],
                    "scatter3d": [
                      {
                        "line": {
                          "colorbar": {
                            "outlinewidth": 0,
                            "ticks": ""
                          }
                        },
                        "marker": {
                          "colorbar": {
                            "outlinewidth": 0,
                            "ticks": ""
                          }
                        },
                        "type": "scatter3d"
                      }
                    ],
                    "scattercarpet": [
                      {
                        "marker": {
                          "colorbar": {
                            "outlinewidth": 0,
                            "ticks": ""
                          }
                        },
                        "type": "scattercarpet"
                      }
                    ],
                    "scattergeo": [
                      {
                        "marker": {
                          "colorbar": {
                            "outlinewidth": 0,
                            "ticks": ""
                          }
                        },
                        "type": "scattergeo"
                      }
                    ],
                    "scattergl": [
                      {
                        "marker": {
                          "colorbar": {
                            "outlinewidth": 0,
                            "ticks": ""
                          }
                        },
                        "type": "scattergl"
                      }
                    ],
                    "scattermap": [
                      {
                        "marker": {
                          "colorbar": {
                            "outlinewidth": 0,
                            "ticks": ""
                          }
                        },
                        "type": "scattermap"
                      }
                    ],
                    "scattermapbox": [
                      {
                        "marker": {
                          "colorbar": {
                            "outlinewidth": 0,
                            "ticks": ""
                          }
                        },
                        "type": "scattermapbox"
                      }
                    ],
                    "scatterpolar": [
                      {
                        "marker": {
                          "colorbar": {
                            "outlinewidth": 0,
                            "ticks": ""
                          }
                        },
                        "type": "scatterpolar"
                      }
                    ],
                    "scatterpolargl": [
                      {
                        "marker": {
                          "colorbar": {
                            "outlinewidth": 0,
                            "ticks": ""
                          }
                        },
                        "type": "scatterpolargl"
                      }
                    ],
                    "scatterternary": [
                      {
                        "marker": {
                          "colorbar": {
                            "outlinewidth": 0,
                            "ticks": ""
                          }
                        },
                        "type": "scatterternary"
                      }
                    ],
                    "surface": [
                      {
                        "colorbar": {
                          "outlinewidth": 0,
                          "ticks": ""
                        },
                        "colorscale": [
                          [
                            0,
                            "#0d0887"
                          ],
                          [
                            0.1111111111111111,
                            "#46039f"
                          ],
                          [
                            0.2222222222222222,
                            "#7201a8"
                          ],
                          [
                            0.3333333333333333,
                            "#9c179e"
                          ],
                          [
                            0.4444444444444444,
                            "#bd3786"
                          ],
                          [
                            0.5555555555555556,
                            "#d8576b"
                          ],
                          [
                            0.6666666666666666,
                            "#ed7953"
                          ],
                          [
                            0.7777777777777778,
                            "#fb9f3a"
                          ],
                          [
                            0.8888888888888888,
                            "#fdca26"
                          ],
                          [
                            1,
                            "#f0f921"
                          ]
                        ],
                        "type": "surface"
                      }
                    ],
                    "table": [
                      {
                        "cells": {
                          "fill": {
                            "color": "#EBF0F8"
                          },
                          "line": {
                            "color": "white"
                          }
                        },
                        "header": {
                          "fill": {
                            "color": "#C8D4E3"
                          },
                          "line": {
                            "color": "white"
                          }
                        },
                        "type": "table"
                      }
                    ]
                  },
                  "layout": {
                    "annotationdefaults": {
                      "arrowcolor": "#2a3f5f",
                      "arrowhead": 0,
                      "arrowwidth": 1
                    },
                    "autotypenumbers": "strict",
                    "coloraxis": {
                      "colorbar": {
                        "outlinewidth": 0,
                        "ticks": ""
                      }
                    },
                    "colorscale": {
                      "diverging": [
                        [
                          0,
                          "#8e0152"
                        ],
                        [
                          0.1,
                          "#c51b7d"
                        ],
                        [
                          0.2,
                          "#de77ae"
                        ],
                        [
                          0.3,
                          "#f1b6da"
                        ],
                        [
                          0.4,
                          "#fde0ef"
                        ],
                        [
                          0.5,
                          "#f7f7f7"
                        ],
                        [
                          0.6,
                          "#e6f5d0"
                        ],
                        [
                          0.7,
                          "#b8e186"
                        ],
                        [
                          0.8,
                          "#7fbc41"
                        ],
                        [
                          0.9,
                          "#4d9221"
                        ],
                        [
                          1,
                          "#276419"
                        ]
                      ],
                      "sequential": [
                        [
                          0,
                          "#0d0887"
                        ],
                        [
                          0.1111111111111111,
                          "#46039f"
                        ],
                        [
                          0.2222222222222222,
                          "#7201a8"
                        ],
                        [
                          0.3333333333333333,
                          "#9c179e"
                        ],
                        [
                          0.4444444444444444,
                          "#bd3786"
                        ],
                        [
                          0.5555555555555556,
                          "#d8576b"
                        ],
                        [
                          0.6666666666666666,
                          "#ed7953"
                        ],
                        [
                          0.7777777777777778,
                          "#fb9f3a"
                        ],
                        [
                          0.8888888888888888,
                          "#fdca26"
                        ],
                        [
                          1,
                          "#f0f921"
                        ]
                      ],
                      "sequentialminus": [
                        [
                          0,
                          "#0d0887"
                        ],
                        [
                          0.1111111111111111,
                          "#46039f"
                        ],
                        [
                          0.2222222222222222,
                          "#7201a8"
                        ],
                        [
                          0.3333333333333333,
                          "#9c179e"
                        ],
                        [
                          0.4444444444444444,
                          "#bd3786"
                        ],
                        [
                          0.5555555555555556,
                          "#d8576b"
                        ],
                        [
                          0.6666666666666666,
                          "#ed7953"
                        ],
                        [
                          0.7777777777777778,
                          "#fb9f3a"
                        ],
                        [
                          0.8888888888888888,
                          "#fdca26"
                        ],
                        [
                          1,
                          "#f0f921"
                        ]
                      ]
                    },
                    "colorway": [
                      "#636efa",
                      "#EF553B",
                      "#00cc96",
                      "#ab63fa",
                      "#FFA15A",
                      "#19d3f3",
                      "#FF6692",
                      "#B6E880",
                      "#FF97FF",
                      "#FECB52"
                    ],
                    "font": {
                      "color": "#2a3f5f"
                    },
                    "geo": {
                      "bgcolor": "white",
                      "lakecolor": "white",
                      "landcolor": "#E5ECF6",
                      "showlakes": true,
                      "showland": true,
                      "subunitcolor": "white"
                    },
                    "hoverlabel": {
                      "align": "left"
                    },
                    "hovermode": "closest",
                    "mapbox": {
                      "style": "light"
                    },
                    "paper_bgcolor": "white",
                    "plot_bgcolor": "#E5ECF6",
                    "polar": {
                      "angularaxis": {
                        "gridcolor": "white",
                        "linecolor": "white",
                        "ticks": ""
                      },
                      "bgcolor": "#E5ECF6",
                      "radialaxis": {
                        "gridcolor": "white",
                        "linecolor": "white",
                        "ticks": ""
                      }
                    },
                    "scene": {
                      "xaxis": {
                        "backgroundcolor": "#E5ECF6",
                        "gridcolor": "white",
                        "gridwidth": 2,
                        "linecolor": "white",
                        "showbackground": true,
                        "ticks": "",
                        "zerolinecolor": "white"
                      },
                      "yaxis": {
                        "backgroundcolor": "#E5ECF6",
                        "gridcolor": "white",
                        "gridwidth": 2,
                        "linecolor": "white",
                        "showbackground": true,
                        "ticks": "",
                        "zerolinecolor": "white"
                      },
                      "zaxis": {
                        "backgroundcolor": "#E5ECF6",
                        "gridcolor": "white",
                        "gridwidth": 2,
                        "linecolor": "white",
                        "showbackground": true,
                        "ticks": "",
                        "zerolinecolor": "white"
                      }
                    },
                    "shapedefaults": {
                      "line": {
                        "color": "#2a3f5f"
                      }
                    },
                    "ternary": {
                      "aaxis": {
                        "gridcolor": "white",
                        "linecolor": "white",
                        "ticks": ""
                      },
                      "baxis": {
                        "gridcolor": "white",
                        "linecolor": "white",
                        "ticks": ""
                      },
                      "bgcolor": "#E5ECF6",
                      "caxis": {
                        "gridcolor": "white",
                        "linecolor": "white",
                        "ticks": ""
                      }
                    },
                    "title": {
                      "x": 0.05
                    },
                    "xaxis": {
                      "automargin": true,
                      "gridcolor": "white",
                      "linecolor": "white",
                      "ticks": "",
                      "title": {
                        "standoff": 15
                      },
                      "zerolinecolor": "white",
                      "zerolinewidth": 2
                    },
                    "yaxis": {
                      "automargin": true,
                      "gridcolor": "white",
                      "linecolor": "white",
                      "ticks": "",
                      "title": {
                        "standoff": 15
                      },
                      "zerolinecolor": "white",
                      "zerolinewidth": 2
                    }
                  }
                },
                "title": {
                  "text": "Distribucion de apartamentos por Ubicacion en Medellin"
                },
                "xaxis": {
                  "anchor": "y",
                  "categoryarray": [
                    "poblado",
                    "aburra sur",
                    "laureles",
                    "occidente",
                    "belen guayabal",
                    "centro",
                    "norte"
                  ],
                  "categoryorder": "array",
                  "domain": [
                    0,
                    1
                  ],
                  "title": {
                    "text": "ubicacion"
                  }
                },
                "yaxis": {
                  "anchor": "x",
                  "domain": [
                    0,
                    1
                  ],
                  "title": {
                    "text": "Cantidad de apartamentos"
                  }
                }
              }
            }
          },
          "metadata": {},
          "output_type": "display_data"
        }
      ],
      "source": [
        "#Crea un gráfico de barras para la variable ubicacion.\n",
        "fig = px.bar(freq_ubicacion,\n",
        "             x=freq_ubicacion.index,\n",
        "             y=freq_ubicacion.values,\n",
        "             title=\"Distribucion de apartamentos por Ubicacion en Medellin\",\n",
        "             labels={'x':'Ubicacion', 'y':'Cantidad de apartamentos'},\n",
        "             color=freq_ubicacion.index,\n",
        "             text_auto=True)\n",
        "fig.update_layout(coloraxis_showscale=False)\n",
        "fig.show()"
      ]
    },
    {
      "cell_type": "code",
      "execution_count": 22,
      "id": "xxvmAFB_WG1C",
      "metadata": {
        "colab": {
          "base_uri": "https://localhost:8080/",
          "height": 542
        },
        "id": "xxvmAFB_WG1C",
        "outputId": "8b2f2490-208b-486f-f83b-18d8f487afc3"
      },
      "outputs": [
        {
          "data": {
            "application/vnd.plotly.v1+json": {
              "config": {
                "plotlyServerURL": "https://plot.ly"
              },
              "data": [
                {
                  "bingroup": "x",
                  "hovertemplate": "precio=%{x}<br>count=%{y}<extra></extra>",
                  "legendgroup": "",
                  "marker": {
                    "color": "#636efa",
                    "pattern": {
                      "shape": ""
                    }
                  },
                  "name": "",
                  "nbinsx": 30,
                  "orientation": "v",
                  "showlegend": false,
                  "type": "histogram",
                  "x": {
                    "bdata": "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",
                    "dtype": "f8"
                  },
                  "xaxis": "x",
                  "yaxis": "y"
                },
                {
                  "hovertemplate": "precio=%{x}<extra></extra>",
                  "legendgroup": "",
                  "marker": {
                    "color": "#636efa"
                  },
                  "name": "",
                  "notched": true,
                  "showlegend": false,
                  "type": "box",
                  "x": {
                    "bdata": "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",
                    "dtype": "f8"
                  },
                  "xaxis": "x2",
                  "yaxis": "y2"
                }
              ],
              "layout": {
                "barmode": "relative",
                "legend": {
                  "tracegroupgap": 0
                },
                "template": {
                  "data": {
                    "bar": [
                      {
                        "error_x": {
                          "color": "#2a3f5f"
                        },
                        "error_y": {
                          "color": "#2a3f5f"
                        },
                        "marker": {
                          "line": {
                            "color": "#E5ECF6",
                            "width": 0.5
                          },
                          "pattern": {
                            "fillmode": "overlay",
                            "size": 10,
                            "solidity": 0.2
                          }
                        },
                        "type": "bar"
                      }
                    ],
                    "barpolar": [
                      {
                        "marker": {
                          "line": {
                            "color": "#E5ECF6",
                            "width": 0.5
                          },
                          "pattern": {
                            "fillmode": "overlay",
                            "size": 10,
                            "solidity": 0.2
                          }
                        },
                        "type": "barpolar"
                      }
                    ],
                    "carpet": [
                      {
                        "aaxis": {
                          "endlinecolor": "#2a3f5f",
                          "gridcolor": "white",
                          "linecolor": "white",
                          "minorgridcolor": "white",
                          "startlinecolor": "#2a3f5f"
                        },
                        "baxis": {
                          "endlinecolor": "#2a3f5f",
                          "gridcolor": "white",
                          "linecolor": "white",
                          "minorgridcolor": "white",
                          "startlinecolor": "#2a3f5f"
                        },
                        "type": "carpet"
                      }
                    ],
                    "choropleth": [
                      {
                        "colorbar": {
                          "outlinewidth": 0,
                          "ticks": ""
                        },
                        "type": "choropleth"
                      }
                    ],
                    "contour": [
                      {
                        "colorbar": {
                          "outlinewidth": 0,
                          "ticks": ""
                        },
                        "colorscale": [
                          [
                            0,
                            "#0d0887"
                          ],
                          [
                            0.1111111111111111,
                            "#46039f"
                          ],
                          [
                            0.2222222222222222,
                            "#7201a8"
                          ],
                          [
                            0.3333333333333333,
                            "#9c179e"
                          ],
                          [
                            0.4444444444444444,
                            "#bd3786"
                          ],
                          [
                            0.5555555555555556,
                            "#d8576b"
                          ],
                          [
                            0.6666666666666666,
                            "#ed7953"
                          ],
                          [
                            0.7777777777777778,
                            "#fb9f3a"
                          ],
                          [
                            0.8888888888888888,
                            "#fdca26"
                          ],
                          [
                            1,
                            "#f0f921"
                          ]
                        ],
                        "type": "contour"
                      }
                    ],
                    "contourcarpet": [
                      {
                        "colorbar": {
                          "outlinewidth": 0,
                          "ticks": ""
                        },
                        "type": "contourcarpet"
                      }
                    ],
                    "heatmap": [
                      {
                        "colorbar": {
                          "outlinewidth": 0,
                          "ticks": ""
                        },
                        "colorscale": [
                          [
                            0,
                            "#0d0887"
                          ],
                          [
                            0.1111111111111111,
                            "#46039f"
                          ],
                          [
                            0.2222222222222222,
                            "#7201a8"
                          ],
                          [
                            0.3333333333333333,
                            "#9c179e"
                          ],
                          [
                            0.4444444444444444,
                            "#bd3786"
                          ],
                          [
                            0.5555555555555556,
                            "#d8576b"
                          ],
                          [
                            0.6666666666666666,
                            "#ed7953"
                          ],
                          [
                            0.7777777777777778,
                            "#fb9f3a"
                          ],
                          [
                            0.8888888888888888,
                            "#fdca26"
                          ],
                          [
                            1,
                            "#f0f921"
                          ]
                        ],
                        "type": "heatmap"
                      }
                    ],
                    "histogram": [
                      {
                        "marker": {
                          "pattern": {
                            "fillmode": "overlay",
                            "size": 10,
                            "solidity": 0.2
                          }
                        },
                        "type": "histogram"
                      }
                    ],
                    "histogram2d": [
                      {
                        "colorbar": {
                          "outlinewidth": 0,
                          "ticks": ""
                        },
                        "colorscale": [
                          [
                            0,
                            "#0d0887"
                          ],
                          [
                            0.1111111111111111,
                            "#46039f"
                          ],
                          [
                            0.2222222222222222,
                            "#7201a8"
                          ],
                          [
                            0.3333333333333333,
                            "#9c179e"
                          ],
                          [
                            0.4444444444444444,
                            "#bd3786"
                          ],
                          [
                            0.5555555555555556,
                            "#d8576b"
                          ],
                          [
                            0.6666666666666666,
                            "#ed7953"
                          ],
                          [
                            0.7777777777777778,
                            "#fb9f3a"
                          ],
                          [
                            0.8888888888888888,
                            "#fdca26"
                          ],
                          [
                            1,
                            "#f0f921"
                          ]
                        ],
                        "type": "histogram2d"
                      }
                    ],
                    "histogram2dcontour": [
                      {
                        "colorbar": {
                          "outlinewidth": 0,
                          "ticks": ""
                        },
                        "colorscale": [
                          [
                            0,
                            "#0d0887"
                          ],
                          [
                            0.1111111111111111,
                            "#46039f"
                          ],
                          [
                            0.2222222222222222,
                            "#7201a8"
                          ],
                          [
                            0.3333333333333333,
                            "#9c179e"
                          ],
                          [
                            0.4444444444444444,
                            "#bd3786"
                          ],
                          [
                            0.5555555555555556,
                            "#d8576b"
                          ],
                          [
                            0.6666666666666666,
                            "#ed7953"
                          ],
                          [
                            0.7777777777777778,
                            "#fb9f3a"
                          ],
                          [
                            0.8888888888888888,
                            "#fdca26"
                          ],
                          [
                            1,
                            "#f0f921"
                          ]
                        ],
                        "type": "histogram2dcontour"
                      }
                    ],
                    "mesh3d": [
                      {
                        "colorbar": {
                          "outlinewidth": 0,
                          "ticks": ""
                        },
                        "type": "mesh3d"
                      }
                    ],
                    "parcoords": [
                      {
                        "line": {
                          "colorbar": {
                            "outlinewidth": 0,
                            "ticks": ""
                          }
                        },
                        "type": "parcoords"
                      }
                    ],
                    "pie": [
                      {
                        "automargin": true,
                        "type": "pie"
                      }
                    ],
                    "scatter": [
                      {
                        "fillpattern": {
                          "fillmode": "overlay",
                          "size": 10,
                          "solidity": 0.2
                        },
                        "type": "scatter"
                      }
                    ],
                    "scatter3d": [
                      {
                        "line": {
                          "colorbar": {
                            "outlinewidth": 0,
                            "ticks": ""
                          }
                        },
                        "marker": {
                          "colorbar": {
                            "outlinewidth": 0,
                            "ticks": ""
                          }
                        },
                        "type": "scatter3d"
                      }
                    ],
                    "scattercarpet": [
                      {
                        "marker": {
                          "colorbar": {
                            "outlinewidth": 0,
                            "ticks": ""
                          }
                        },
                        "type": "scattercarpet"
                      }
                    ],
                    "scattergeo": [
                      {
                        "marker": {
                          "colorbar": {
                            "outlinewidth": 0,
                            "ticks": ""
                          }
                        },
                        "type": "scattergeo"
                      }
                    ],
                    "scattergl": [
                      {
                        "marker": {
                          "colorbar": {
                            "outlinewidth": 0,
                            "ticks": ""
                          }
                        },
                        "type": "scattergl"
                      }
                    ],
                    "scattermap": [
                      {
                        "marker": {
                          "colorbar": {
                            "outlinewidth": 0,
                            "ticks": ""
                          }
                        },
                        "type": "scattermap"
                      }
                    ],
                    "scattermapbox": [
                      {
                        "marker": {
                          "colorbar": {
                            "outlinewidth": 0,
                            "ticks": ""
                          }
                        },
                        "type": "scattermapbox"
                      }
                    ],
                    "scatterpolar": [
                      {
                        "marker": {
                          "colorbar": {
                            "outlinewidth": 0,
                            "ticks": ""
                          }
                        },
                        "type": "scatterpolar"
                      }
                    ],
                    "scatterpolargl": [
                      {
                        "marker": {
                          "colorbar": {
                            "outlinewidth": 0,
                            "ticks": ""
                          }
                        },
                        "type": "scatterpolargl"
                      }
                    ],
                    "scatterternary": [
                      {
                        "marker": {
                          "colorbar": {
                            "outlinewidth": 0,
                            "ticks": ""
                          }
                        },
                        "type": "scatterternary"
                      }
                    ],
                    "surface": [
                      {
                        "colorbar": {
                          "outlinewidth": 0,
                          "ticks": ""
                        },
                        "colorscale": [
                          [
                            0,
                            "#0d0887"
                          ],
                          [
                            0.1111111111111111,
                            "#46039f"
                          ],
                          [
                            0.2222222222222222,
                            "#7201a8"
                          ],
                          [
                            0.3333333333333333,
                            "#9c179e"
                          ],
                          [
                            0.4444444444444444,
                            "#bd3786"
                          ],
                          [
                            0.5555555555555556,
                            "#d8576b"
                          ],
                          [
                            0.6666666666666666,
                            "#ed7953"
                          ],
                          [
                            0.7777777777777778,
                            "#fb9f3a"
                          ],
                          [
                            0.8888888888888888,
                            "#fdca26"
                          ],
                          [
                            1,
                            "#f0f921"
                          ]
                        ],
                        "type": "surface"
                      }
                    ],
                    "table": [
                      {
                        "cells": {
                          "fill": {
                            "color": "#EBF0F8"
                          },
                          "line": {
                            "color": "white"
                          }
                        },
                        "header": {
                          "fill": {
                            "color": "#C8D4E3"
                          },
                          "line": {
                            "color": "white"
                          }
                        },
                        "type": "table"
                      }
                    ]
                  },
                  "layout": {
                    "annotationdefaults": {
                      "arrowcolor": "#2a3f5f",
                      "arrowhead": 0,
                      "arrowwidth": 1
                    },
                    "autotypenumbers": "strict",
                    "coloraxis": {
                      "colorbar": {
                        "outlinewidth": 0,
                        "ticks": ""
                      }
                    },
                    "colorscale": {
                      "diverging": [
                        [
                          0,
                          "#8e0152"
                        ],
                        [
                          0.1,
                          "#c51b7d"
                        ],
                        [
                          0.2,
                          "#de77ae"
                        ],
                        [
                          0.3,
                          "#f1b6da"
                        ],
                        [
                          0.4,
                          "#fde0ef"
                        ],
                        [
                          0.5,
                          "#f7f7f7"
                        ],
                        [
                          0.6,
                          "#e6f5d0"
                        ],
                        [
                          0.7,
                          "#b8e186"
                        ],
                        [
                          0.8,
                          "#7fbc41"
                        ],
                        [
                          0.9,
                          "#4d9221"
                        ],
                        [
                          1,
                          "#276419"
                        ]
                      ],
                      "sequential": [
                        [
                          0,
                          "#0d0887"
                        ],
                        [
                          0.1111111111111111,
                          "#46039f"
                        ],
                        [
                          0.2222222222222222,
                          "#7201a8"
                        ],
                        [
                          0.3333333333333333,
                          "#9c179e"
                        ],
                        [
                          0.4444444444444444,
                          "#bd3786"
                        ],
                        [
                          0.5555555555555556,
                          "#d8576b"
                        ],
                        [
                          0.6666666666666666,
                          "#ed7953"
                        ],
                        [
                          0.7777777777777778,
                          "#fb9f3a"
                        ],
                        [
                          0.8888888888888888,
                          "#fdca26"
                        ],
                        [
                          1,
                          "#f0f921"
                        ]
                      ],
                      "sequentialminus": [
                        [
                          0,
                          "#0d0887"
                        ],
                        [
                          0.1111111111111111,
                          "#46039f"
                        ],
                        [
                          0.2222222222222222,
                          "#7201a8"
                        ],
                        [
                          0.3333333333333333,
                          "#9c179e"
                        ],
                        [
                          0.4444444444444444,
                          "#bd3786"
                        ],
                        [
                          0.5555555555555556,
                          "#d8576b"
                        ],
                        [
                          0.6666666666666666,
                          "#ed7953"
                        ],
                        [
                          0.7777777777777778,
                          "#fb9f3a"
                        ],
                        [
                          0.8888888888888888,
                          "#fdca26"
                        ],
                        [
                          1,
                          "#f0f921"
                        ]
                      ]
                    },
                    "colorway": [
                      "#636efa",
                      "#EF553B",
                      "#00cc96",
                      "#ab63fa",
                      "#FFA15A",
                      "#19d3f3",
                      "#FF6692",
                      "#B6E880",
                      "#FF97FF",
                      "#FECB52"
                    ],
                    "font": {
                      "color": "#2a3f5f"
                    },
                    "geo": {
                      "bgcolor": "white",
                      "lakecolor": "white",
                      "landcolor": "#E5ECF6",
                      "showlakes": true,
                      "showland": true,
                      "subunitcolor": "white"
                    },
                    "hoverlabel": {
                      "align": "left"
                    },
                    "hovermode": "closest",
                    "mapbox": {
                      "style": "light"
                    },
                    "paper_bgcolor": "white",
                    "plot_bgcolor": "#E5ECF6",
                    "polar": {
                      "angularaxis": {
                        "gridcolor": "white",
                        "linecolor": "white",
                        "ticks": ""
                      },
                      "bgcolor": "#E5ECF6",
                      "radialaxis": {
                        "gridcolor": "white",
                        "linecolor": "white",
                        "ticks": ""
                      }
                    },
                    "scene": {
                      "xaxis": {
                        "backgroundcolor": "#E5ECF6",
                        "gridcolor": "white",
                        "gridwidth": 2,
                        "linecolor": "white",
                        "showbackground": true,
                        "ticks": "",
                        "zerolinecolor": "white"
                      },
                      "yaxis": {
                        "backgroundcolor": "#E5ECF6",
                        "gridcolor": "white",
                        "gridwidth": 2,
                        "linecolor": "white",
                        "showbackground": true,
                        "ticks": "",
                        "zerolinecolor": "white"
                      },
                      "zaxis": {
                        "backgroundcolor": "#E5ECF6",
                        "gridcolor": "white",
                        "gridwidth": 2,
                        "linecolor": "white",
                        "showbackground": true,
                        "ticks": "",
                        "zerolinecolor": "white"
                      }
                    },
                    "shapedefaults": {
                      "line": {
                        "color": "#2a3f5f"
                      }
                    },
                    "ternary": {
                      "aaxis": {
                        "gridcolor": "white",
                        "linecolor": "white",
                        "ticks": ""
                      },
                      "baxis": {
                        "gridcolor": "white",
                        "linecolor": "white",
                        "ticks": ""
                      },
                      "bgcolor": "#E5ECF6",
                      "caxis": {
                        "gridcolor": "white",
                        "linecolor": "white",
                        "ticks": ""
                      }
                    },
                    "title": {
                      "x": 0.05
                    },
                    "xaxis": {
                      "automargin": true,
                      "gridcolor": "white",
                      "linecolor": "white",
                      "ticks": "",
                      "title": {
                        "standoff": 15
                      },
                      "zerolinecolor": "white",
                      "zerolinewidth": 2
                    },
                    "yaxis": {
                      "automargin": true,
                      "gridcolor": "white",
                      "linecolor": "white",
                      "ticks": "",
                      "title": {
                        "standoff": 15
                      },
                      "zerolinecolor": "white",
                      "zerolinewidth": 2
                    }
                  }
                },
                "title": {
                  "text": "Distribucion del precio"
                },
                "xaxis": {
                  "anchor": "y",
                  "domain": [
                    0,
                    1
                  ],
                  "title": {
                    "text": "precio"
                  }
                },
                "xaxis2": {
                  "anchor": "y2",
                  "domain": [
                    0,
                    1
                  ],
                  "matches": "x",
                  "showgrid": true,
                  "showticklabels": false
                },
                "yaxis": {
                  "anchor": "x",
                  "domain": [
                    0,
                    0.8316
                  ],
                  "title": {
                    "text": "count"
                  }
                },
                "yaxis2": {
                  "anchor": "x2",
                  "domain": [
                    0.8416,
                    1
                  ],
                  "matches": "y2",
                  "showgrid": false,
                  "showline": false,
                  "showticklabels": false,
                  "ticks": ""
                }
              }
            }
          },
          "metadata": {},
          "output_type": "display_data"
        }
      ],
      "source": [
        "fig = px.histogram(aptos,\n",
        "                   x=\"precio\",\n",
        "                   nbins=30,\n",
        "                   title=\"Distribucion del precio\",\n",
        "                   marginal=\"box\")\n",
        "fig.show()"
      ]
    },
    {
      "cell_type": "markdown",
      "id": "0600eaa2",
      "metadata": {},
      "source": [
        "- La mayoria de los apartamentos se encuentran entre 100 y 400 millones\n",
        "- EL pico mas alto es de 200, Se podria decir que el rango mas frecuente es de 200 millones\n",
        "- La grafica muestra que hay pocos apartamentos con precios que rondan desde los 700 en adelante\n",
        "    - Hay puntos alejados al lado derecho de la grafica"
      ]
    },
    {
      "cell_type": "code",
      "execution_count": 23,
      "id": "secxyfoKWaRM",
      "metadata": {
        "colab": {
          "base_uri": "https://localhost:8080/",
          "height": 542
        },
        "id": "secxyfoKWaRM",
        "outputId": "3498a863-0177-45ec-e777-55e5dfa73c6d"
      },
      "outputs": [
        {
          "data": {
            "application/vnd.plotly.v1+json": {
              "config": {
                "plotlyServerURL": "https://plot.ly"
              },
              "data": [
                {
                  "alignmentgroup": "True",
                  "hovertemplate": "ubicacion=%{x}<br>precio=%{y}<extra></extra>",
                  "legendgroup": "norte",
                  "marker": {
                    "color": "#636efa"
                  },
                  "name": "norte",
                  "notched": false,
                  "offsetgroup": "norte",
                  "orientation": "v",
                  "showlegend": true,
                  "type": "box",
                  "x": [
                    "norte",
                    "norte",
                    "norte",
                    "norte",
                    "norte",
                    "norte",
                    "norte",
                    "norte",
                    "norte",
                    "norte"
                  ],
                  "x0": " ",
                  "xaxis": "x",
                  "y": {
                    "bdata": "AAAAAADAU0AAAAAAAEBXQAAAAAAAAFlAAAAAAADAXkAAAAAAAOBgQAAAAAAAgGFAAAAAAAAgYkAAAAAAAABkQAAAAAAAAGRAAAAAAADgZUA=",
                    "dtype": "f8"
                  },
                  "y0": " ",
                  "yaxis": "y"
                },
                {
                  "alignmentgroup": "True",
                  "hovertemplate": "ubicacion=%{x}<br>precio=%{y}<extra></extra>",
                  "legendgroup": "occidente",
                  "marker": {
                    "color": "#EF553B"
                  },
                  "name": "occidente",
                  "notched": false,
                  "offsetgroup": "occidente",
                  "orientation": "v",
                  "showlegend": true,
                  "type": "box",
                  "x": [
                    "occidente",
                    "occidente",
                    "occidente",
                    "occidente",
                    "occidente",
                    "occidente",
                    "occidente",
                    "occidente",
                    "occidente",
                    "occidente",
                    "occidente",
                    "occidente",
                    "occidente",
                    "occidente",
                    "occidente",
                    "occidente",
                    "occidente",
                    "occidente",
                    "occidente",
                    "occidente",
                    "occidente",
                    "occidente",
                    "occidente",
                    "occidente",
                    "occidente",
                    "occidente",
                    "occidente",
                    "occidente",
                    "occidente",
                    "occidente",
                    "occidente",
                    "occidente",
                    "occidente",
                    "occidente",
                    "occidente",
                    "occidente",
                    "occidente",
                    "occidente",
                    "occidente",
                    "occidente",
                    "occidente",
                    "occidente",
                    "occidente",
                    "occidente",
                    "occidente",
                    "occidente",
                    "occidente",
                    "occidente",
                    "occidente",
                    "occidente",
                    "occidente",
                    "occidente",
                    "occidente",
                    "occidente",
                    "occidente",
                    "occidente",
                    "occidente",
                    "occidente",
                    "occidente",
                    "occidente",
                    "occidente",
                    "occidente",
                    "occidente",
                    "occidente",
                    "occidente",
                    "occidente",
                    "occidente",
                    "occidente",
                    "occidente"
                  ],
                  "x0": " ",
                  "xaxis": "x",
                  "y": {
                    "bdata": "AAAAAACAR0AAAAAAAIBKQAAAAAAAgFFAAAAAAACAUUAAAAAAAABSQAAAAAAAwFJAAAAAAAAAVEAAAAAAAIBWQAAAAAAAgFZAAAAAAACAVkAAAAAAAIBWQAAAAAAAgFZAAAAAAADAV0AAAAAAAEBaQAAAAAAAgFtAAAAAAADAXEAAAAAAAMBcQAAAAAAAAF5AAAAAAABAXkAAAAAAAABgQAAAAAAAQGBAAAAAAABAYEAAAAAAAIBhQAAAAAAAgGFAAAAAAADgYUAAAAAAACBiQAAAAAAAIGJAAAAAAAAgYkAAAAAAAIBiQAAAAAAAwGJAAAAAAAAAY0AAAAAAAGBjQAAAAAAAYGNAAAAAAAAAZEAAAAAAAABkQAAAAAAAQGVAAAAAAACAZkAAAAAAAIBmQAAAAAAAIGdAAAAAAADAZ0AAAAAAAMBnQAAAAAAAwGdAAAAAAADAZ0AAAAAAAMBnQAAAAAAAwGdAAAAAAABgaEAAAAAAAMBoQAAAAAAAAGlAAAAAAAAAaUAAAAAAAABpQAAAAAAAAGlAAAAAAABAakAAAAAAAEBqQAAAAAAAQGpAAAAAAABAakAAAAAAAEBqQAAAAAAA4GpAAAAAAACAa0AAAAAAAIBrQAAAAAAAgGtAAAAAAADAbEAAAAAAAKBuQAAAAAAAoG5AAAAAAABAb0AAAAAAAEBvQAAAAAAAQHBAAAAAAADgcEAAAAAAAOBwQAAAAAAAAHRA",
                    "dtype": "f8"
                  },
                  "y0": " ",
                  "yaxis": "y"
                },
                {
                  "alignmentgroup": "True",
                  "hovertemplate": "ubicacion=%{x}<br>precio=%{y}<extra></extra>",
                  "legendgroup": "poblado",
                  "marker": {
                    "color": "#00cc96"
                  },
                  "name": "poblado",
                  "notched": false,
                  "offsetgroup": "poblado",
                  "orientation": "v",
                  "showlegend": true,
                  "type": "box",
                  "x": [
                    "poblado",
                    "poblado",
                    "poblado",
                    "poblado",
                    "poblado",
                    "poblado",
                    "poblado",
                    "poblado",
                    "poblado",
                    "poblado",
                    "poblado",
                    "poblado",
                    "poblado",
                    "poblado",
                    "poblado",
                    "poblado",
                    "poblado",
                    "poblado",
                    "poblado",
                    "poblado",
                    "poblado",
                    "poblado",
                    "poblado",
                    "poblado",
                    "poblado",
                    "poblado",
                    "poblado",
                    "poblado",
                    "poblado",
                    "poblado",
                    "poblado",
                    "poblado",
                    "poblado",
                    "poblado",
                    "poblado",
                    "poblado",
                    "poblado",
                    "poblado",
                    "poblado",
                    "poblado",
                    "poblado",
                    "poblado",
                    "poblado",
                    "poblado",
                    "poblado",
                    "poblado",
                    "poblado",
                    "poblado",
                    "poblado",
                    "poblado",
                    "poblado",
                    "poblado",
                    "poblado",
                    "poblado",
                    "poblado",
                    "poblado",
                    "poblado",
                    "poblado",
                    "poblado",
                    "poblado",
                    "poblado",
                    "poblado",
                    "poblado",
                    "poblado",
                    "poblado",
                    "poblado",
                    "poblado",
                    "poblado",
                    "poblado",
                    "poblado",
                    "poblado",
                    "poblado",
                    "poblado",
                    "poblado",
                    "poblado",
                    "poblado",
                    "poblado",
                    "poblado",
                    "poblado",
                    "poblado",
                    "poblado",
                    "poblado",
                    "poblado",
                    "poblado",
                    "poblado",
                    "poblado",
                    "poblado",
                    "poblado",
                    "poblado",
                    "poblado",
                    "poblado",
                    "poblado",
                    "poblado",
                    "poblado",
                    "poblado",
                    "poblado",
                    "poblado",
                    "poblado",
                    "poblado",
                    "poblado",
                    "poblado",
                    "poblado",
                    "poblado",
                    "poblado",
                    "poblado",
                    "poblado",
                    "poblado",
                    "poblado",
                    "poblado",
                    "poblado",
                    "poblado",
                    "poblado",
                    "poblado",
                    "poblado",
                    "poblado",
                    "poblado",
                    "poblado",
                    "poblado",
                    "poblado",
                    "poblado",
                    "poblado",
                    "poblado",
                    "poblado",
                    "poblado",
                    "poblado",
                    "poblado",
                    "poblado",
                    "poblado",
                    "poblado",
                    "poblado",
                    "poblado",
                    "poblado",
                    "poblado",
                    "poblado",
                    "poblado",
                    "poblado",
                    "poblado",
                    "poblado",
                    "poblado",
                    "poblado",
                    "poblado",
                    "poblado",
                    "poblado",
                    "poblado",
                    "poblado",
                    "poblado",
                    "poblado",
                    "poblado",
                    "poblado",
                    "poblado",
                    "poblado",
                    "poblado",
                    "poblado",
                    "poblado",
                    "poblado",
                    "poblado",
                    "poblado",
                    "poblado",
                    "poblado",
                    "poblado",
                    "poblado",
                    "poblado",
                    "poblado",
                    "poblado",
                    "poblado",
                    "poblado",
                    "poblado",
                    "poblado",
                    "poblado",
                    "poblado",
                    "poblado",
                    "poblado",
                    "poblado",
                    "poblado",
                    "poblado",
                    "poblado",
                    "poblado",
                    "poblado",
                    "poblado",
                    "poblado",
                    "poblado",
                    "poblado",
                    "poblado",
                    "poblado",
                    "poblado",
                    "poblado",
                    "poblado",
                    "poblado",
                    "poblado",
                    "poblado",
                    "poblado",
                    "poblado",
                    "poblado",
                    "poblado",
                    "poblado",
                    "poblado",
                    "poblado",
                    "poblado",
                    "poblado",
                    "poblado",
                    "poblado",
                    "poblado",
                    "poblado",
                    "poblado",
                    "poblado",
                    "poblado",
                    "poblado",
                    "poblado",
                    "poblado",
                    "poblado",
                    "poblado",
                    "poblado",
                    "poblado",
                    "poblado",
                    "poblado",
                    "poblado",
                    "poblado",
                    "poblado",
                    "poblado",
                    "poblado",
                    "poblado",
                    "poblado",
                    "poblado",
                    "poblado",
                    "poblado",
                    "poblado",
                    "poblado",
                    "poblado",
                    "poblado",
                    "poblado",
                    "poblado",
                    "poblado",
                    "poblado",
                    "poblado",
                    "poblado",
                    "poblado",
                    "poblado",
                    "poblado",
                    "poblado",
                    "poblado",
                    "poblado",
                    "poblado",
                    "poblado",
                    "poblado",
                    "poblado",
                    "poblado",
                    "poblado",
                    "poblado",
                    "poblado",
                    "poblado",
                    "poblado",
                    "poblado",
                    "poblado",
                    "poblado",
                    "poblado",
                    "poblado",
                    "poblado",
                    "poblado",
                    "poblado",
                    "poblado",
                    "poblado",
                    "poblado",
                    "poblado",
                    "poblado",
                    "poblado",
                    "poblado",
                    "poblado",
                    "poblado"
                  ],
                  "x0": " ",
                  "xaxis": "x",
                  "y": {
                    "bdata": "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",
                    "dtype": "f8"
                  },
                  "y0": " ",
                  "yaxis": "y"
                },
                {
                  "alignmentgroup": "True",
                  "hovertemplate": "ubicacion=%{x}<br>precio=%{y}<extra></extra>",
                  "legendgroup": "aburra sur",
                  "marker": {
                    "color": "#ab63fa"
                  },
                  "name": "aburra sur",
                  "notched": false,
                  "offsetgroup": "aburra sur",
                  "orientation": "v",
                  "showlegend": true,
                  "type": "box",
                  "x": [
                    "aburra sur",
                    "aburra sur",
                    "aburra sur",
                    "aburra sur",
                    "aburra sur",
                    "aburra sur",
                    "aburra sur",
                    "aburra sur",
                    "aburra sur",
                    "aburra sur",
                    "aburra sur",
                    "aburra sur",
                    "aburra sur",
                    "aburra sur",
                    "aburra sur",
                    "aburra sur",
                    "aburra sur",
                    "aburra sur",
                    "aburra sur",
                    "aburra sur",
                    "aburra sur",
                    "aburra sur",
                    "aburra sur",
                    "aburra sur",
                    "aburra sur",
                    "aburra sur",
                    "aburra sur",
                    "aburra sur",
                    "aburra sur",
                    "aburra sur",
                    "aburra sur",
                    "aburra sur",
                    "aburra sur",
                    "aburra sur",
                    "aburra sur",
                    "aburra sur",
                    "aburra sur",
                    "aburra sur",
                    "aburra sur",
                    "aburra sur",
                    "aburra sur",
                    "aburra sur",
                    "aburra sur",
                    "aburra sur",
                    "aburra sur",
                    "aburra sur",
                    "aburra sur",
                    "aburra sur",
                    "aburra sur",
                    "aburra sur",
                    "aburra sur",
                    "aburra sur",
                    "aburra sur",
                    "aburra sur",
                    "aburra sur",
                    "aburra sur",
                    "aburra sur",
                    "aburra sur",
                    "aburra sur",
                    "aburra sur",
                    "aburra sur",
                    "aburra sur",
                    "aburra sur",
                    "aburra sur",
                    "aburra sur",
                    "aburra sur",
                    "aburra sur",
                    "aburra sur",
                    "aburra sur",
                    "aburra sur",
                    "aburra sur",
                    "aburra sur",
                    "aburra sur",
                    "aburra sur",
                    "aburra sur",
                    "aburra sur",
                    "aburra sur",
                    "aburra sur",
                    "aburra sur",
                    "aburra sur",
                    "aburra sur",
                    "aburra sur",
                    "aburra sur",
                    "aburra sur",
                    "aburra sur",
                    "aburra sur",
                    "aburra sur",
                    "aburra sur",
                    "aburra sur",
                    "aburra sur",
                    "aburra sur",
                    "aburra sur",
                    "aburra sur",
                    "aburra sur",
                    "aburra sur",
                    "aburra sur",
                    "aburra sur",
                    "aburra sur",
                    "aburra sur",
                    "aburra sur",
                    "aburra sur",
                    "aburra sur",
                    "aburra sur",
                    "aburra sur",
                    "aburra sur",
                    "aburra sur",
                    "aburra sur",
                    "aburra sur",
                    "aburra sur",
                    "aburra sur",
                    "aburra sur",
                    "aburra sur",
                    "aburra sur",
                    "aburra sur",
                    "aburra sur",
                    "aburra sur",
                    "aburra sur",
                    "aburra sur",
                    "aburra sur",
                    "aburra sur",
                    "aburra sur",
                    "aburra sur",
                    "aburra sur",
                    "aburra sur",
                    "aburra sur",
                    "aburra sur",
                    "aburra sur",
                    "aburra sur",
                    "aburra sur",
                    "aburra sur",
                    "aburra sur",
                    "aburra sur",
                    "aburra sur",
                    "aburra sur",
                    "aburra sur",
                    "aburra sur",
                    "aburra sur",
                    "aburra sur",
                    "aburra sur",
                    "aburra sur",
                    "aburra sur",
                    "aburra sur",
                    "aburra sur",
                    "aburra sur",
                    "aburra sur",
                    "aburra sur",
                    "aburra sur",
                    "aburra sur",
                    "aburra sur",
                    "aburra sur",
                    "aburra sur",
                    "aburra sur",
                    "aburra sur",
                    "aburra sur",
                    "aburra sur",
                    "aburra sur",
                    "aburra sur",
                    "aburra sur",
                    "aburra sur",
                    "aburra sur",
                    "aburra sur",
                    "aburra sur",
                    "aburra sur",
                    "aburra sur",
                    "aburra sur",
                    "aburra sur",
                    "aburra sur",
                    "aburra sur",
                    "aburra sur"
                  ],
                  "x0": " ",
                  "xaxis": "x",
                  "y": {
                    "bdata": "AAAAAACARkAAAAAAAIBPQAAAAAAAgFRAAAAAAADAVEAAAAAAAABVQAAAAAAAQFVAAAAAAACAVkAAAAAAAIBWQAAAAAAAgFZAAAAAAACAVkAAAAAAAEBYQAAAAAAAAFlAAAAAAADAW0AAAAAAAABcQAAAAAAAwFxAAAAAAAAAXkAAAAAAAABeQAAAAAAAAF5AAAAAAAAAXkAAAAAAAABeQAAAAAAAAF9AAAAAAABAX0AAAAAAAEBfQAAAAAAAQGBAAAAAAABAYEAAAAAAAEBgQAAAAAAAQGBAAAAAAABAYEAAAAAAAEBgQAAAAAAAQGBAAAAAAACAYEAAAAAAAIBgQAAAAAAA4GBAAAAAAADgYEAAAAAAAOBgQAAAAAAA4GBAAAAAAADgYEAAAAAAAEBhQAAAAAAAgGFAAAAAAACAYUAAAAAAAIBhQAAAAAAAgGFAAAAAAACAYUAAAAAAAIBhQAAAAAAA4GFAAAAAAAAgYkAAAAAAACBiQAAAAAAAIGJAAAAAAAAgYkAAAAAAACBiQAAAAAAAgGJAAAAAAADAYkAAAAAAAMBiQAAAAAAAwGJAAAAAAADAYkAAAAAAACBjQAAAAAAAYGNAAAAAAABgY0AAAAAAAGBjQAAAAAAAwGNAAAAAAAAAZEAAAAAAAABkQAAAAAAAAGRAAAAAAAAAZEAAAAAAAKBkQAAAAAAAoGRAAAAAAACgZEBmZmZmZjZlQAAAAAAAQGVAAAAAAABAZUAAAAAAAEBlQAAAAAAA4GVAAAAAAADgZUAAAAAAAOBlQAAAAAAAQGZAAAAAAABAZkAAAAAAAGBmQAAAAAAAgGZAAAAAAACAZkAAAAAAAIBmQAAAAAAAIGdAAAAAAAAgZ0AAAAAAACBnQAAAAAAAIGdAAAAAAAAgZ0AAAAAAACBnQAAAAAAAgGdAAAAAAADAZ0AAAAAAAMBnQAAAAAAAwGdAAAAAAADAZ0AAAAAAAGBoQAAAAAAAwGhAAAAAAAAAaUAAAAAAAABpQAAAAAAAAGlAAAAAAAAAaUAAAAAAAABpQAAAAAAAAGlAAAAAAACgaUAAAAAAAEBqQAAAAAAAQGpAAAAAAABAakAAAAAAAABrQAAAAAAAYGtAAAAAAACAa0AAAAAAAIBrQAAAAAAAgGtAAAAAAACAa0AAAAAAAIBrQAAAAAAAgGtAAAAAAACAa0AAAAAAAIBrQAAAAAAAIGxAAAAAAADAbEAAAAAAAMBsQAAAAAAAwGxAAAAAAABgbUAAAAAAAKBtQAAAAAAAwG1AAAAAAADAbUAAAAAAAMBtQAAAAAAAAG5AAAAAAACgbkAAAAAAAKBuQAAAAAAA4G5AAAAAAABAb0AAAAAAAEBvQAAAAAAAQG9AAAAAAADgb0AAAAAAAOBvQAAAAAAA4G9AAAAAAADgb0AAAAAAAEBwQAAAAAAAQHBAAAAAAABAcEAAAAAAAEBwQAAAAAAAQHBAAAAAAABAcEAAAAAAAEBwQAAAAAAAkHBAAAAAAACQcEAAAAAAAJBwQAAAAAAAkHBAAAAAAADgcEAAAAAAAOBwQAAAAAAAMHFAAAAAAACAcUAAAAAAAIBxQAAAAAAAgHFAAAAAAACAcUAAAAAAAIBxQAAAAAAA0HFAAAAAAADQcUAAAAAAAPBxQAAAAAAAIHJAAAAAAAAgckAAAAAAACByQAAAAAAAcHJAAAAAAADAckAAAAAAAMByQAAAAAAAwHJAAAAAAABgc0AAAAAAALBzQAAAAAAAsHNAAAAAAAAAdEAAAAAAAAB0QAAAAAAAoHRAAAAAAACgdEA=",
                    "dtype": "f8"
                  },
                  "y0": " ",
                  "yaxis": "y"
                },
                {
                  "alignmentgroup": "True",
                  "hovertemplate": "ubicacion=%{x}<br>precio=%{y}<extra></extra>",
                  "legendgroup": "belen guayabal",
                  "marker": {
                    "color": "#FFA15A"
                  },
                  "name": "belen guayabal",
                  "notched": false,
                  "offsetgroup": "belen guayabal",
                  "orientation": "v",
                  "showlegend": true,
                  "type": "box",
                  "x": [
                    "belen guayabal",
                    "belen guayabal",
                    "belen guayabal",
                    "belen guayabal",
                    "belen guayabal",
                    "belen guayabal",
                    "belen guayabal",
                    "belen guayabal",
                    "belen guayabal",
                    "belen guayabal",
                    "belen guayabal",
                    "belen guayabal",
                    "belen guayabal",
                    "belen guayabal",
                    "belen guayabal",
                    "belen guayabal",
                    "belen guayabal",
                    "belen guayabal",
                    "belen guayabal",
                    "belen guayabal",
                    "belen guayabal",
                    "belen guayabal",
                    "belen guayabal",
                    "belen guayabal",
                    "belen guayabal",
                    "belen guayabal",
                    "belen guayabal",
                    "belen guayabal",
                    "belen guayabal",
                    "belen guayabal",
                    "belen guayabal",
                    "belen guayabal",
                    "belen guayabal",
                    "belen guayabal",
                    "belen guayabal",
                    "belen guayabal",
                    "belen guayabal",
                    "belen guayabal",
                    "belen guayabal",
                    "belen guayabal",
                    "belen guayabal",
                    "belen guayabal",
                    "belen guayabal",
                    "belen guayabal",
                    "belen guayabal",
                    "belen guayabal",
                    "belen guayabal",
                    "belen guayabal",
                    "belen guayabal",
                    "belen guayabal",
                    "belen guayabal",
                    "belen guayabal",
                    "belen guayabal",
                    "belen guayabal",
                    "belen guayabal",
                    "belen guayabal",
                    "belen guayabal",
                    "belen guayabal",
                    "belen guayabal",
                    "belen guayabal",
                    "belen guayabal",
                    "belen guayabal",
                    "belen guayabal",
                    "belen guayabal",
                    "belen guayabal",
                    "belen guayabal",
                    "belen guayabal"
                  ],
                  "x0": " ",
                  "xaxis": "x",
                  "y": {
                    "bdata": "AAAAAADAUkAAAAAAAMBSQAAAAAAAAFRAAAAAAABAVUAAAAAAAIBVQAAAAAAAgFZAAAAAAADAV0AAAAAAAIBYQAAAAAAAwFlAAAAAAAAAW0AAAAAAAMBcQAAAAAAAgF1AAAAAAAAAXkAAAAAAAABeQAAAAAAAQGBAAAAAAABAYEAAAAAAAIBhQAAAAAAAgGFAAAAAAADAYUAAAAAAACBiQAAAAAAAIGJAAAAAAAAgYkAAAAAAAMBiQAAAAAAAwGJAAAAAAADAYkAAAAAAAGBjQAAAAAAAYGNAAAAAAABgY0AAAAAAAGBjQAAAAAAAYGNAAAAAAACAY0AAAAAAAABkQAAAAAAAAGRAAAAAAACgZEAAAAAAAKBkQAAAAAAAoGRAAAAAAABAZUAAAAAAAIBmQAAAAAAAgGZAAAAAAADgZkAAAAAAACBnQAAAAAAAIGdAAAAAAADAZ0AAAAAAAMBnQAAAAAAAwGdAAAAAAABgaEAAAAAAAABpQAAAAAAAoGlAAAAAAABAakAAAAAAAEBqQAAAAAAAQGpAAAAAAABAakAAAAAAAIBrQAAAAAAAgGtAAAAAAACAa0AAAAAAAIBrQAAAAAAAIGxAAAAAAADAbEAAAAAAAMBsQAAAAAAAwGxAAAAAAABgbUAAAAAAAABuQAAAAAAAAG5AAAAAAABAb0AAAAAAAOBvQAAAAAAAQHBAAAAAAACQcEA=",
                    "dtype": "f8"
                  },
                  "y0": " ",
                  "yaxis": "y"
                },
                {
                  "alignmentgroup": "True",
                  "hovertemplate": "ubicacion=%{x}<br>precio=%{y}<extra></extra>",
                  "legendgroup": "centro",
                  "marker": {
                    "color": "#19d3f3"
                  },
                  "name": "centro",
                  "notched": false,
                  "offsetgroup": "centro",
                  "orientation": "v",
                  "showlegend": true,
                  "type": "box",
                  "x": [
                    "centro",
                    "centro",
                    "centro",
                    "centro",
                    "centro",
                    "centro",
                    "centro",
                    "centro",
                    "centro",
                    "centro",
                    "centro",
                    "centro",
                    "centro",
                    "centro",
                    "centro",
                    "centro",
                    "centro",
                    "centro",
                    "centro",
                    "centro",
                    "centro",
                    "centro",
                    "centro",
                    "centro",
                    "centro",
                    "centro",
                    "centro",
                    "centro",
                    "centro",
                    "centro",
                    "centro",
                    "centro",
                    "centro",
                    "centro",
                    "centro",
                    "centro",
                    "centro",
                    "centro"
                  ],
                  "x0": " ",
                  "xaxis": "x",
                  "y": {
                    "bdata": "AAAAAADAUEAAAAAAAIBRQAAAAAAAgFFAAAAAAACAU0AAAAAAAIBTQAAAAAAAAFRAAAAAAAAAVEAAAAAAAABVQAAAAAAAQFVAAAAAAACAVUAAAAAAAIBWQAAAAAAAAFlAAAAAAAAAWUAAAAAAAABZQAAAAAAAgFlAAAAAAACAW0AAAAAAAMBcQAAAAAAAQF9AAAAAAAAAYEAAAAAAAABgQAAAAAAAAGBAAAAAAABAYEAAAAAAAEBgQAAAAAAAQGBAAAAAAADgYEAAAAAAAOBgQAAAAAAAgGFAAAAAAABgYkAAAAAAAMBiQAAAAAAAoGRAAAAAAACgZEAAAAAAAABpQAAAAAAAQGpAAAAAAABAakAAAAAAAEBqQAAAAAAAgGtAAAAAAADAbEAAAAAAAEBwQA==",
                    "dtype": "f8"
                  },
                  "y0": " ",
                  "yaxis": "y"
                },
                {
                  "alignmentgroup": "True",
                  "hovertemplate": "ubicacion=%{x}<br>precio=%{y}<extra></extra>",
                  "legendgroup": "laureles",
                  "marker": {
                    "color": "#FF6692"
                  },
                  "name": "laureles",
                  "notched": false,
                  "offsetgroup": "laureles",
                  "orientation": "v",
                  "showlegend": true,
                  "type": "box",
                  "x": [
                    "laureles",
                    "laureles",
                    "laureles",
                    "laureles",
                    "laureles",
                    "laureles",
                    "laureles",
                    "laureles",
                    "laureles",
                    "laureles",
                    "laureles",
                    "laureles",
                    "laureles",
                    "laureles",
                    "laureles",
                    "laureles",
                    "laureles",
                    "laureles",
                    "laureles",
                    "laureles",
                    "laureles",
                    "laureles",
                    "laureles",
                    "laureles",
                    "laureles",
                    "laureles",
                    "laureles",
                    "laureles",
                    "laureles",
                    "laureles",
                    "laureles",
                    "laureles",
                    "laureles",
                    "laureles",
                    "laureles",
                    "laureles",
                    "laureles",
                    "laureles",
                    "laureles",
                    "laureles",
                    "laureles",
                    "laureles",
                    "laureles",
                    "laureles",
                    "laureles",
                    "laureles",
                    "laureles",
                    "laureles",
                    "laureles",
                    "laureles",
                    "laureles",
                    "laureles",
                    "laureles",
                    "laureles",
                    "laureles",
                    "laureles",
                    "laureles",
                    "laureles",
                    "laureles",
                    "laureles",
                    "laureles",
                    "laureles",
                    "laureles",
                    "laureles",
                    "laureles",
                    "laureles",
                    "laureles",
                    "laureles",
                    "laureles",
                    "laureles",
                    "laureles",
                    "laureles",
                    "laureles"
                  ],
                  "x0": " ",
                  "xaxis": "x",
                  "y": {
                    "bdata": "AAAAAADgYEAAAAAAAIBhQAAAAAAAoGRAAAAAAABAZUAAAAAAAIBmQAAAAAAAwGdAAAAAAADAZ0AAAAAAAKBpQAAAAAAAQGpAAAAAAABAakAAAAAAAIBrQAAAAAAAgGtAAAAAAAAgbEAAAAAAAIBsQAAAAAAAwGxAAAAAAADAbEAAAAAAAGBtQAAAAAAAYG1AAAAAAAAAbkAAAAAAAABuQAAAAAAAQG9AAAAAAABAb0AAAAAAAEBvQAAAAAAAADlAAAAAAABAb0AAAAAAAOBvQAAAAAAA4G9AAAAAAADgb0AAAAAAAEBwQAAAAAAAkHBAAAAAAACQcEAAAAAAAOBwQAAAAAAAMHFAAAAAAACAcUAAAAAAAIBxQAAAAAAA0HFAAAAAAAAgckAAAAAAAGBzQAAAAAAAsHNAAAAAAAAAdEAAAAAAAAB0QAAAAAAAAHRAAAAAAABQdEAAAAAAAKB0QAAAAAAAoHRAAAAAAACgdEAAAAAAAEB1QAAAAAAAQHVAAAAAAABwdUAAAAAAAOB1QAAAAAAA4HVAAAAAAADgdUAAAAAAAIB2QAAAAAAAgHZAAAAAAAAgd0AAAAAAACB3QAAAAAAAIHdAAAAAAAAgd0AAAAAAAHB3QAAAAAAAwHdAAAAAAAAAeUAAAAAAAAB5QAAAAAAAAHlAAAAAAACgeUAAAAAAACB8QAAAAAAAIHxAAAAAAAAgfEAAAAAAAGB9QAAAAAAAIH9AAAAAAADAf0AAAAAAADCBQAAAAAAAsINAAAAAAAAYlUA=",
                    "dtype": "f8"
                  },
                  "y0": " ",
                  "yaxis": "y"
                }
              ],
              "layout": {
                "boxmode": "overlay",
                "legend": {
                  "title": {
                    "text": "ubicacion"
                  },
                  "tracegroupgap": 0
                },
                "template": {
                  "data": {
                    "bar": [
                      {
                        "error_x": {
                          "color": "#2a3f5f"
                        },
                        "error_y": {
                          "color": "#2a3f5f"
                        },
                        "marker": {
                          "line": {
                            "color": "#E5ECF6",
                            "width": 0.5
                          },
                          "pattern": {
                            "fillmode": "overlay",
                            "size": 10,
                            "solidity": 0.2
                          }
                        },
                        "type": "bar"
                      }
                    ],
                    "barpolar": [
                      {
                        "marker": {
                          "line": {
                            "color": "#E5ECF6",
                            "width": 0.5
                          },
                          "pattern": {
                            "fillmode": "overlay",
                            "size": 10,
                            "solidity": 0.2
                          }
                        },
                        "type": "barpolar"
                      }
                    ],
                    "carpet": [
                      {
                        "aaxis": {
                          "endlinecolor": "#2a3f5f",
                          "gridcolor": "white",
                          "linecolor": "white",
                          "minorgridcolor": "white",
                          "startlinecolor": "#2a3f5f"
                        },
                        "baxis": {
                          "endlinecolor": "#2a3f5f",
                          "gridcolor": "white",
                          "linecolor": "white",
                          "minorgridcolor": "white",
                          "startlinecolor": "#2a3f5f"
                        },
                        "type": "carpet"
                      }
                    ],
                    "choropleth": [
                      {
                        "colorbar": {
                          "outlinewidth": 0,
                          "ticks": ""
                        },
                        "type": "choropleth"
                      }
                    ],
                    "contour": [
                      {
                        "colorbar": {
                          "outlinewidth": 0,
                          "ticks": ""
                        },
                        "colorscale": [
                          [
                            0,
                            "#0d0887"
                          ],
                          [
                            0.1111111111111111,
                            "#46039f"
                          ],
                          [
                            0.2222222222222222,
                            "#7201a8"
                          ],
                          [
                            0.3333333333333333,
                            "#9c179e"
                          ],
                          [
                            0.4444444444444444,
                            "#bd3786"
                          ],
                          [
                            0.5555555555555556,
                            "#d8576b"
                          ],
                          [
                            0.6666666666666666,
                            "#ed7953"
                          ],
                          [
                            0.7777777777777778,
                            "#fb9f3a"
                          ],
                          [
                            0.8888888888888888,
                            "#fdca26"
                          ],
                          [
                            1,
                            "#f0f921"
                          ]
                        ],
                        "type": "contour"
                      }
                    ],
                    "contourcarpet": [
                      {
                        "colorbar": {
                          "outlinewidth": 0,
                          "ticks": ""
                        },
                        "type": "contourcarpet"
                      }
                    ],
                    "heatmap": [
                      {
                        "colorbar": {
                          "outlinewidth": 0,
                          "ticks": ""
                        },
                        "colorscale": [
                          [
                            0,
                            "#0d0887"
                          ],
                          [
                            0.1111111111111111,
                            "#46039f"
                          ],
                          [
                            0.2222222222222222,
                            "#7201a8"
                          ],
                          [
                            0.3333333333333333,
                            "#9c179e"
                          ],
                          [
                            0.4444444444444444,
                            "#bd3786"
                          ],
                          [
                            0.5555555555555556,
                            "#d8576b"
                          ],
                          [
                            0.6666666666666666,
                            "#ed7953"
                          ],
                          [
                            0.7777777777777778,
                            "#fb9f3a"
                          ],
                          [
                            0.8888888888888888,
                            "#fdca26"
                          ],
                          [
                            1,
                            "#f0f921"
                          ]
                        ],
                        "type": "heatmap"
                      }
                    ],
                    "histogram": [
                      {
                        "marker": {
                          "pattern": {
                            "fillmode": "overlay",
                            "size": 10,
                            "solidity": 0.2
                          }
                        },
                        "type": "histogram"
                      }
                    ],
                    "histogram2d": [
                      {
                        "colorbar": {
                          "outlinewidth": 0,
                          "ticks": ""
                        },
                        "colorscale": [
                          [
                            0,
                            "#0d0887"
                          ],
                          [
                            0.1111111111111111,
                            "#46039f"
                          ],
                          [
                            0.2222222222222222,
                            "#7201a8"
                          ],
                          [
                            0.3333333333333333,
                            "#9c179e"
                          ],
                          [
                            0.4444444444444444,
                            "#bd3786"
                          ],
                          [
                            0.5555555555555556,
                            "#d8576b"
                          ],
                          [
                            0.6666666666666666,
                            "#ed7953"
                          ],
                          [
                            0.7777777777777778,
                            "#fb9f3a"
                          ],
                          [
                            0.8888888888888888,
                            "#fdca26"
                          ],
                          [
                            1,
                            "#f0f921"
                          ]
                        ],
                        "type": "histogram2d"
                      }
                    ],
                    "histogram2dcontour": [
                      {
                        "colorbar": {
                          "outlinewidth": 0,
                          "ticks": ""
                        },
                        "colorscale": [
                          [
                            0,
                            "#0d0887"
                          ],
                          [
                            0.1111111111111111,
                            "#46039f"
                          ],
                          [
                            0.2222222222222222,
                            "#7201a8"
                          ],
                          [
                            0.3333333333333333,
                            "#9c179e"
                          ],
                          [
                            0.4444444444444444,
                            "#bd3786"
                          ],
                          [
                            0.5555555555555556,
                            "#d8576b"
                          ],
                          [
                            0.6666666666666666,
                            "#ed7953"
                          ],
                          [
                            0.7777777777777778,
                            "#fb9f3a"
                          ],
                          [
                            0.8888888888888888,
                            "#fdca26"
                          ],
                          [
                            1,
                            "#f0f921"
                          ]
                        ],
                        "type": "histogram2dcontour"
                      }
                    ],
                    "mesh3d": [
                      {
                        "colorbar": {
                          "outlinewidth": 0,
                          "ticks": ""
                        },
                        "type": "mesh3d"
                      }
                    ],
                    "parcoords": [
                      {
                        "line": {
                          "colorbar": {
                            "outlinewidth": 0,
                            "ticks": ""
                          }
                        },
                        "type": "parcoords"
                      }
                    ],
                    "pie": [
                      {
                        "automargin": true,
                        "type": "pie"
                      }
                    ],
                    "scatter": [
                      {
                        "fillpattern": {
                          "fillmode": "overlay",
                          "size": 10,
                          "solidity": 0.2
                        },
                        "type": "scatter"
                      }
                    ],
                    "scatter3d": [
                      {
                        "line": {
                          "colorbar": {
                            "outlinewidth": 0,
                            "ticks": ""
                          }
                        },
                        "marker": {
                          "colorbar": {
                            "outlinewidth": 0,
                            "ticks": ""
                          }
                        },
                        "type": "scatter3d"
                      }
                    ],
                    "scattercarpet": [
                      {
                        "marker": {
                          "colorbar": {
                            "outlinewidth": 0,
                            "ticks": ""
                          }
                        },
                        "type": "scattercarpet"
                      }
                    ],
                    "scattergeo": [
                      {
                        "marker": {
                          "colorbar": {
                            "outlinewidth": 0,
                            "ticks": ""
                          }
                        },
                        "type": "scattergeo"
                      }
                    ],
                    "scattergl": [
                      {
                        "marker": {
                          "colorbar": {
                            "outlinewidth": 0,
                            "ticks": ""
                          }
                        },
                        "type": "scattergl"
                      }
                    ],
                    "scattermap": [
                      {
                        "marker": {
                          "colorbar": {
                            "outlinewidth": 0,
                            "ticks": ""
                          }
                        },
                        "type": "scattermap"
                      }
                    ],
                    "scattermapbox": [
                      {
                        "marker": {
                          "colorbar": {
                            "outlinewidth": 0,
                            "ticks": ""
                          }
                        },
                        "type": "scattermapbox"
                      }
                    ],
                    "scatterpolar": [
                      {
                        "marker": {
                          "colorbar": {
                            "outlinewidth": 0,
                            "ticks": ""
                          }
                        },
                        "type": "scatterpolar"
                      }
                    ],
                    "scatterpolargl": [
                      {
                        "marker": {
                          "colorbar": {
                            "outlinewidth": 0,
                            "ticks": ""
                          }
                        },
                        "type": "scatterpolargl"
                      }
                    ],
                    "scatterternary": [
                      {
                        "marker": {
                          "colorbar": {
                            "outlinewidth": 0,
                            "ticks": ""
                          }
                        },
                        "type": "scatterternary"
                      }
                    ],
                    "surface": [
                      {
                        "colorbar": {
                          "outlinewidth": 0,
                          "ticks": ""
                        },
                        "colorscale": [
                          [
                            0,
                            "#0d0887"
                          ],
                          [
                            0.1111111111111111,
                            "#46039f"
                          ],
                          [
                            0.2222222222222222,
                            "#7201a8"
                          ],
                          [
                            0.3333333333333333,
                            "#9c179e"
                          ],
                          [
                            0.4444444444444444,
                            "#bd3786"
                          ],
                          [
                            0.5555555555555556,
                            "#d8576b"
                          ],
                          [
                            0.6666666666666666,
                            "#ed7953"
                          ],
                          [
                            0.7777777777777778,
                            "#fb9f3a"
                          ],
                          [
                            0.8888888888888888,
                            "#fdca26"
                          ],
                          [
                            1,
                            "#f0f921"
                          ]
                        ],
                        "type": "surface"
                      }
                    ],
                    "table": [
                      {
                        "cells": {
                          "fill": {
                            "color": "#EBF0F8"
                          },
                          "line": {
                            "color": "white"
                          }
                        },
                        "header": {
                          "fill": {
                            "color": "#C8D4E3"
                          },
                          "line": {
                            "color": "white"
                          }
                        },
                        "type": "table"
                      }
                    ]
                  },
                  "layout": {
                    "annotationdefaults": {
                      "arrowcolor": "#2a3f5f",
                      "arrowhead": 0,
                      "arrowwidth": 1
                    },
                    "autotypenumbers": "strict",
                    "coloraxis": {
                      "colorbar": {
                        "outlinewidth": 0,
                        "ticks": ""
                      }
                    },
                    "colorscale": {
                      "diverging": [
                        [
                          0,
                          "#8e0152"
                        ],
                        [
                          0.1,
                          "#c51b7d"
                        ],
                        [
                          0.2,
                          "#de77ae"
                        ],
                        [
                          0.3,
                          "#f1b6da"
                        ],
                        [
                          0.4,
                          "#fde0ef"
                        ],
                        [
                          0.5,
                          "#f7f7f7"
                        ],
                        [
                          0.6,
                          "#e6f5d0"
                        ],
                        [
                          0.7,
                          "#b8e186"
                        ],
                        [
                          0.8,
                          "#7fbc41"
                        ],
                        [
                          0.9,
                          "#4d9221"
                        ],
                        [
                          1,
                          "#276419"
                        ]
                      ],
                      "sequential": [
                        [
                          0,
                          "#0d0887"
                        ],
                        [
                          0.1111111111111111,
                          "#46039f"
                        ],
                        [
                          0.2222222222222222,
                          "#7201a8"
                        ],
                        [
                          0.3333333333333333,
                          "#9c179e"
                        ],
                        [
                          0.4444444444444444,
                          "#bd3786"
                        ],
                        [
                          0.5555555555555556,
                          "#d8576b"
                        ],
                        [
                          0.6666666666666666,
                          "#ed7953"
                        ],
                        [
                          0.7777777777777778,
                          "#fb9f3a"
                        ],
                        [
                          0.8888888888888888,
                          "#fdca26"
                        ],
                        [
                          1,
                          "#f0f921"
                        ]
                      ],
                      "sequentialminus": [
                        [
                          0,
                          "#0d0887"
                        ],
                        [
                          0.1111111111111111,
                          "#46039f"
                        ],
                        [
                          0.2222222222222222,
                          "#7201a8"
                        ],
                        [
                          0.3333333333333333,
                          "#9c179e"
                        ],
                        [
                          0.4444444444444444,
                          "#bd3786"
                        ],
                        [
                          0.5555555555555556,
                          "#d8576b"
                        ],
                        [
                          0.6666666666666666,
                          "#ed7953"
                        ],
                        [
                          0.7777777777777778,
                          "#fb9f3a"
                        ],
                        [
                          0.8888888888888888,
                          "#fdca26"
                        ],
                        [
                          1,
                          "#f0f921"
                        ]
                      ]
                    },
                    "colorway": [
                      "#636efa",
                      "#EF553B",
                      "#00cc96",
                      "#ab63fa",
                      "#FFA15A",
                      "#19d3f3",
                      "#FF6692",
                      "#B6E880",
                      "#FF97FF",
                      "#FECB52"
                    ],
                    "font": {
                      "color": "#2a3f5f"
                    },
                    "geo": {
                      "bgcolor": "white",
                      "lakecolor": "white",
                      "landcolor": "#E5ECF6",
                      "showlakes": true,
                      "showland": true,
                      "subunitcolor": "white"
                    },
                    "hoverlabel": {
                      "align": "left"
                    },
                    "hovermode": "closest",
                    "mapbox": {
                      "style": "light"
                    },
                    "paper_bgcolor": "white",
                    "plot_bgcolor": "#E5ECF6",
                    "polar": {
                      "angularaxis": {
                        "gridcolor": "white",
                        "linecolor": "white",
                        "ticks": ""
                      },
                      "bgcolor": "#E5ECF6",
                      "radialaxis": {
                        "gridcolor": "white",
                        "linecolor": "white",
                        "ticks": ""
                      }
                    },
                    "scene": {
                      "xaxis": {
                        "backgroundcolor": "#E5ECF6",
                        "gridcolor": "white",
                        "gridwidth": 2,
                        "linecolor": "white",
                        "showbackground": true,
                        "ticks": "",
                        "zerolinecolor": "white"
                      },
                      "yaxis": {
                        "backgroundcolor": "#E5ECF6",
                        "gridcolor": "white",
                        "gridwidth": 2,
                        "linecolor": "white",
                        "showbackground": true,
                        "ticks": "",
                        "zerolinecolor": "white"
                      },
                      "zaxis": {
                        "backgroundcolor": "#E5ECF6",
                        "gridcolor": "white",
                        "gridwidth": 2,
                        "linecolor": "white",
                        "showbackground": true,
                        "ticks": "",
                        "zerolinecolor": "white"
                      }
                    },
                    "shapedefaults": {
                      "line": {
                        "color": "#2a3f5f"
                      }
                    },
                    "ternary": {
                      "aaxis": {
                        "gridcolor": "white",
                        "linecolor": "white",
                        "ticks": ""
                      },
                      "baxis": {
                        "gridcolor": "white",
                        "linecolor": "white",
                        "ticks": ""
                      },
                      "bgcolor": "#E5ECF6",
                      "caxis": {
                        "gridcolor": "white",
                        "linecolor": "white",
                        "ticks": ""
                      }
                    },
                    "title": {
                      "x": 0.05
                    },
                    "xaxis": {
                      "automargin": true,
                      "gridcolor": "white",
                      "linecolor": "white",
                      "ticks": "",
                      "title": {
                        "standoff": 15
                      },
                      "zerolinecolor": "white",
                      "zerolinewidth": 2
                    },
                    "yaxis": {
                      "automargin": true,
                      "gridcolor": "white",
                      "linecolor": "white",
                      "ticks": "",
                      "title": {
                        "standoff": 15
                      },
                      "zerolinecolor": "white",
                      "zerolinewidth": 2
                    }
                  }
                },
                "title": {
                  "text": "Distribución de Precios por Ubicación"
                },
                "xaxis": {
                  "anchor": "y",
                  "categoryarray": [
                    "norte",
                    "occidente",
                    "poblado",
                    "aburra sur",
                    "belen guayabal",
                    "centro",
                    "laureles"
                  ],
                  "categoryorder": "array",
                  "domain": [
                    0,
                    1
                  ],
                  "title": {
                    "text": "ubicacion"
                  }
                },
                "yaxis": {
                  "anchor": "x",
                  "domain": [
                    0,
                    1
                  ],
                  "title": {
                    "text": "precio"
                  }
                }
              }
            }
          },
          "metadata": {},
          "output_type": "display_data"
        }
      ],
      "source": [
        "px.box(aptos,\n",
        "    y=\"precio\",\n",
        "    x=\"ubicacion\",\n",
        "    color=\"ubicacion\",\n",
        "    title=\"Distribución de Precios por Ubicación\")"
      ]
    },
    {
      "cell_type": "markdown",
      "id": "6f5b0dc0",
      "metadata": {},
      "source": [
        "- Hay varios outliers extremos que se muestran en los datos del Poblado\n",
        "\n",
        "\n",
        "Eje X (horizontal): ubicaciones (norte, occidente, poblado, etc.).\n",
        "Eje Y (vertical): precio.\n",
        "Cada caja:\n",
        "Parte inferior = Q1 (25% de los precios están por debajo de este valor).\n",
        "Línea en el medio = mediana (50% de los precios están por debajo).\n",
        "Parte superior = Q3 (75% de los precios están por debajo).\n",
        "Bigotes: hasta dónde llegan los precios típicos de la zona.\n",
        "Puntos aislados: precios atípicos (mucho más altos o bajos que la mayoría).\n",
        "Si la caja es alta → mucha variabilidad de precios en esa zona.\n",
        "Si la caja es baja → precios más homogéneos.\n",
        "Si la mediana está muy arriba → la zona es más cara que otras.\n",
        "\n",
        "Los “bigotes” (fences) marcan hasta dónde llegan los datos sin ser considerados atípicos."
      ]
    }
  ],
  "metadata": {
    "colab": {
      "include_colab_link": true,
      "provenance": []
    },
    "kernelspec": {
      "display_name": "Python 3",
      "language": "python",
      "name": "python3"
    },
    "language_info": {
      "codemirror_mode": {
        "name": "ipython",
        "version": 3
      },
      "file_extension": ".py",
      "mimetype": "text/x-python",
      "name": "python",
      "nbconvert_exporter": "python",
      "pygments_lexer": "ipython3",
      "version": "3.12.1"
    }
  },
  "nbformat": 4,
  "nbformat_minor": 5
}
